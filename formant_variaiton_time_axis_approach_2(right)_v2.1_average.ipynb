{
 "cells": [
  {
   "cell_type": "code",
   "execution_count": 1,
   "metadata": {},
   "outputs": [],
   "source": [
    "import pandas as pd\n",
    "import numpy as np\n",
    "import os\n",
    "from scipy.stats import variation\n",
    "import matplotlib.pyplot as plt"
   ]
  },
  {
   "cell_type": "code",
   "execution_count": 2,
   "metadata": {},
   "outputs": [],
   "source": [
    "vowel_variation=pd.DataFrame(index=[\"time\",\"F1\",\"F2\",\"F3\",\"F4\",\"F5\"])\n",
    "for j in range(1,8):  #number of vowelin each variation\n",
    "    DATA_PATH_v=\"./Vowel_Data/Formant/Formant\"+str(j)+\"/\"     \n",
    "    i=0\n",
    "    for speechfile in os.listdir(DATA_PATH_v):  #accessing each formant file\n",
    "        data_v = pd.read_csv(DATA_PATH_v+speechfile, delim_whitespace=True,header=None,names=[\"time\",\"F1\",\"F2\",\"F3\",\"F4\",\"F5\"],dtype=np.float64,na_values=\"--undefined--\")\n",
    "        if i==0:\n",
    "            cov_v=variation(data_v,axis=0)  #row to row variation\n",
    "            i=1;\n",
    "        else:\n",
    "            cov_v=np.vstack((cov_v,variation(data_v,axis=0)))\n",
    "    \n",
    "    mean_variation_v=cov_v.mean(axis=0)  #row to row mean...mean for all F1, mean for all F2...\n",
    "    \n",
    "    vowel_variation['Vowel_'+str(j)]=mean_variation_v\n",
    "\n",
    "vowel_variation=vowel_variation.drop('time') #discarding the variation of time\n",
    "vowel_variation.to_csv('./New_without_CNN/vowel_variation.csv')"
   ]
  },
  {
   "cell_type": "code",
   "execution_count": 3,
   "metadata": {
    "scrolled": false
   },
   "outputs": [
    {
     "data": {
      "text/html": [
       "<div>\n",
       "<style scoped>\n",
       "    .dataframe tbody tr th:only-of-type {\n",
       "        vertical-align: middle;\n",
       "    }\n",
       "\n",
       "    .dataframe tbody tr th {\n",
       "        vertical-align: top;\n",
       "    }\n",
       "\n",
       "    .dataframe thead th {\n",
       "        text-align: right;\n",
       "    }\n",
       "</style>\n",
       "<table border=\"1\" class=\"dataframe\">\n",
       "  <thead>\n",
       "    <tr style=\"text-align: right;\">\n",
       "      <th></th>\n",
       "      <th>Vowel_1</th>\n",
       "      <th>Vowel_2</th>\n",
       "      <th>Vowel_3</th>\n",
       "      <th>Vowel_4</th>\n",
       "      <th>Vowel_5</th>\n",
       "      <th>Vowel_6</th>\n",
       "      <th>Vowel_7</th>\n",
       "    </tr>\n",
       "  </thead>\n",
       "  <tbody>\n",
       "    <tr>\n",
       "      <th>F1</th>\n",
       "      <td>0.295937</td>\n",
       "      <td>0.344272</td>\n",
       "      <td>0.328788</td>\n",
       "      <td>0.475630</td>\n",
       "      <td>0.422971</td>\n",
       "      <td>0.334010</td>\n",
       "      <td>0.391462</td>\n",
       "    </tr>\n",
       "    <tr>\n",
       "      <th>F2</th>\n",
       "      <td>0.182272</td>\n",
       "      <td>0.089591</td>\n",
       "      <td>0.257506</td>\n",
       "      <td>0.216749</td>\n",
       "      <td>0.312302</td>\n",
       "      <td>0.206333</td>\n",
       "      <td>0.493862</td>\n",
       "    </tr>\n",
       "    <tr>\n",
       "      <th>F3</th>\n",
       "      <td>0.106357</td>\n",
       "      <td>0.085319</td>\n",
       "      <td>0.067017</td>\n",
       "      <td>0.155808</td>\n",
       "      <td>0.107689</td>\n",
       "      <td>0.065887</td>\n",
       "      <td>0.131223</td>\n",
       "    </tr>\n",
       "    <tr>\n",
       "      <th>F4</th>\n",
       "      <td>0.066786</td>\n",
       "      <td>0.060162</td>\n",
       "      <td>0.053644</td>\n",
       "      <td>0.067256</td>\n",
       "      <td>0.082889</td>\n",
       "      <td>0.045066</td>\n",
       "      <td>0.062165</td>\n",
       "    </tr>\n",
       "    <tr>\n",
       "      <th>F5</th>\n",
       "      <td>0.060304</td>\n",
       "      <td>0.059932</td>\n",
       "      <td>0.066884</td>\n",
       "      <td>0.071855</td>\n",
       "      <td>0.087400</td>\n",
       "      <td>0.064652</td>\n",
       "      <td>0.070095</td>\n",
       "    </tr>\n",
       "  </tbody>\n",
       "</table>\n",
       "</div>"
      ],
      "text/plain": [
       "     Vowel_1   Vowel_2   Vowel_3   Vowel_4   Vowel_5   Vowel_6   Vowel_7\n",
       "F1  0.295937  0.344272  0.328788  0.475630  0.422971  0.334010  0.391462\n",
       "F2  0.182272  0.089591  0.257506  0.216749  0.312302  0.206333  0.493862\n",
       "F3  0.106357  0.085319  0.067017  0.155808  0.107689  0.065887  0.131223\n",
       "F4  0.066786  0.060162  0.053644  0.067256  0.082889  0.045066  0.062165\n",
       "F5  0.060304  0.059932  0.066884  0.071855  0.087400  0.064652  0.070095"
      ]
     },
     "execution_count": 3,
     "metadata": {},
     "output_type": "execute_result"
    }
   ],
   "source": [
    "vowel_variation"
   ]
  },
  {
   "cell_type": "code",
   "execution_count": 7,
   "metadata": {},
   "outputs": [],
   "source": [
    "vowel_avg=vowel_variation.mean(axis=1)\n",
    "vowel_std=vowel_variation.std(axis=1)"
   ]
  },
  {
   "cell_type": "code",
   "execution_count": 9,
   "metadata": {},
   "outputs": [],
   "source": [
    "word_variation=pd.DataFrame(index=[\"time\",\"F1\",\"F2\",\"F3\",\"F4\",\"F5\"])\n",
    "for j in range(1,8):  #number of word in each variation\n",
    "    DATA_PATH_w=\"./Word_Data/Formant/Formant\"+str(j)+\"/\"     \n",
    "    i=0\n",
    "    for speechfile in os.listdir(DATA_PATH_w):  #accessing each formant file\n",
    "        data_w = pd.read_csv(DATA_PATH_w+speechfile, delim_whitespace=True,header=None,names=[\"time\",\"F1\",\"F2\",\"F3\",\"F4\",\"F5\"],dtype=np.float64,na_values=\"--undefined--\")\n",
    "        if i==0:\n",
    "            cov_w=variation(data_w,axis=0)  #row to row variation\n",
    "            i=1;\n",
    "        else:\n",
    "            cov_w=np.vstack((cov_w,variation(data_w,axis=0)))\n",
    "    \n",
    "    mean_variation_w=cov_w.mean(axis=0)  #row to row mean...mean for all F1, mean for all F2...\n",
    "    \n",
    "    word_variation['Word_'+str(j)]=mean_variation_w\n",
    "\n",
    "word_variation=word_variation.drop('time') #discarding the variation of time\n",
    "word_variation.to_csv('./New_without_CNN/word_variation.csv')"
   ]
  },
  {
   "cell_type": "code",
   "execution_count": 10,
   "metadata": {},
   "outputs": [
    {
     "data": {
      "text/html": [
       "<div>\n",
       "<style scoped>\n",
       "    .dataframe tbody tr th:only-of-type {\n",
       "        vertical-align: middle;\n",
       "    }\n",
       "\n",
       "    .dataframe tbody tr th {\n",
       "        vertical-align: top;\n",
       "    }\n",
       "\n",
       "    .dataframe thead th {\n",
       "        text-align: right;\n",
       "    }\n",
       "</style>\n",
       "<table border=\"1\" class=\"dataframe\">\n",
       "  <thead>\n",
       "    <tr style=\"text-align: right;\">\n",
       "      <th></th>\n",
       "      <th>Word_1</th>\n",
       "      <th>Word_2</th>\n",
       "      <th>Word_3</th>\n",
       "      <th>Word_4</th>\n",
       "      <th>Word_5</th>\n",
       "      <th>Word_6</th>\n",
       "      <th>Word_7</th>\n",
       "    </tr>\n",
       "  </thead>\n",
       "  <tbody>\n",
       "    <tr>\n",
       "      <th>F1</th>\n",
       "      <td>0.462314</td>\n",
       "      <td>0.606578</td>\n",
       "      <td>0.700415</td>\n",
       "      <td>0.682885</td>\n",
       "      <td>0.984875</td>\n",
       "      <td>0.909860</td>\n",
       "      <td>0.533428</td>\n",
       "    </tr>\n",
       "    <tr>\n",
       "      <th>F2</th>\n",
       "      <td>0.307305</td>\n",
       "      <td>0.350328</td>\n",
       "      <td>0.495451</td>\n",
       "      <td>0.361486</td>\n",
       "      <td>0.266084</td>\n",
       "      <td>0.392629</td>\n",
       "      <td>0.415728</td>\n",
       "    </tr>\n",
       "    <tr>\n",
       "      <th>F3</th>\n",
       "      <td>0.163289</td>\n",
       "      <td>0.208669</td>\n",
       "      <td>0.181265</td>\n",
       "      <td>0.193615</td>\n",
       "      <td>0.133536</td>\n",
       "      <td>0.191591</td>\n",
       "      <td>0.175380</td>\n",
       "    </tr>\n",
       "    <tr>\n",
       "      <th>F4</th>\n",
       "      <td>0.100387</td>\n",
       "      <td>0.122586</td>\n",
       "      <td>0.102689</td>\n",
       "      <td>0.126628</td>\n",
       "      <td>0.084721</td>\n",
       "      <td>0.113282</td>\n",
       "      <td>0.119744</td>\n",
       "    </tr>\n",
       "    <tr>\n",
       "      <th>F5</th>\n",
       "      <td>0.086880</td>\n",
       "      <td>0.105005</td>\n",
       "      <td>0.096928</td>\n",
       "      <td>0.092619</td>\n",
       "      <td>0.071036</td>\n",
       "      <td>0.094012</td>\n",
       "      <td>0.093210</td>\n",
       "    </tr>\n",
       "  </tbody>\n",
       "</table>\n",
       "</div>"
      ],
      "text/plain": [
       "      Word_1    Word_2    Word_3    Word_4    Word_5    Word_6    Word_7\n",
       "F1  0.462314  0.606578  0.700415  0.682885  0.984875  0.909860  0.533428\n",
       "F2  0.307305  0.350328  0.495451  0.361486  0.266084  0.392629  0.415728\n",
       "F3  0.163289  0.208669  0.181265  0.193615  0.133536  0.191591  0.175380\n",
       "F4  0.100387  0.122586  0.102689  0.126628  0.084721  0.113282  0.119744\n",
       "F5  0.086880  0.105005  0.096928  0.092619  0.071036  0.094012  0.093210"
      ]
     },
     "execution_count": 10,
     "metadata": {},
     "output_type": "execute_result"
    }
   ],
   "source": [
    "word_variation"
   ]
  },
  {
   "cell_type": "code",
   "execution_count": 73,
   "metadata": {},
   "outputs": [],
   "source": [
    "word_avg=word_variation.mean(axis=1)\n",
    "word_std=word_variation.std(axis=1)"
   ]
  },
  {
   "cell_type": "code",
   "execution_count": 92,
   "metadata": {},
   "outputs": [
    {
     "data": {
      "image/png": "[encoded data removed]",
      "text/plain": [
       "<Figure size 432x288 with 1 Axes>"
      ]
     },
     "metadata": {
      "needs_background": "light"
     },
     "output_type": "display_data"
    }
   ],
   "source": [
    "fig,ax=plt.subplots()\n",
    "width=0.35\n",
    "ind=np.arange(5)\n",
    "bar_1=ax.barh(ind, vowel_avg,width,color='b',xerr=vowel_std)\n",
    "bar_2=ax.barh(ind+width, word_avg,width,color='r',xerr=word_std)\n",
    "\n",
    "ax.set_ylabel('Formant Frequency')\n",
    "ax.set_xlabel('Coefficient of Variation')\n",
    "ax.set_yticks(ind + width / 2)\n",
    "ax.set_yticklabels((\"F1\",\"F2\",\"F3\",\"F4\",\"F5\"))\n",
    "ax.legend((bar_1[0], bar_2[0]), ('Vowel', 'Word'))\n",
    "plt.tight_layout()\n",
    "plt.savefig('./New_without_CNN/COV_comparison.pdf',format='pdf',dpi=600)"
   ]
  },
  {
   "cell_type": "code",
   "execution_count": 11,
   "metadata": {},
   "outputs": [],
   "source": [
    "# average variation for each vowel_words\n",
    "per_vowel_avg=vowel_variation.mean(axis=0)\n",
    "per_vowel_std=vowel_variation.std(axis=0)\n",
    "per_word_avg=word_variation.mean(axis=0)\n",
    "per_word_std=word_variation.std(axis=0)"
   ]
  },
  {
   "cell_type": "code",
   "execution_count": 12,
   "metadata": {},
   "outputs": [
    {
     "name": "stdout",
     "output_type": "stream",
     "text": [
      "Vowel_1    0.142331\n",
      "Vowel_2    0.127855\n",
      "Vowel_3    0.154768\n",
      "Vowel_4    0.197460\n",
      "Vowel_5    0.202650\n",
      "Vowel_6    0.143189\n",
      "Vowel_7    0.229761\n",
      "dtype: float64\n",
      "Vowel_1    0.098640\n",
      "Vowel_2    0.121763\n",
      "Vowel_3    0.128926\n",
      "Vowel_4    0.167493\n",
      "Vowel_5    0.155891\n",
      "Vowel_6    0.124671\n",
      "Vowel_7    0.199492\n",
      "dtype: float64\n"
     ]
    }
   ],
   "source": [
    "print(per_vowel_avg)\n",
    "print(per_vowel_std)"
   ]
  },
  {
   "cell_type": "code",
   "execution_count": 14,
   "metadata": {},
   "outputs": [
    {
     "name": "stdout",
     "output_type": "stream",
     "text": [
      "Word_1    0.224035\n",
      "Word_2    0.278633\n",
      "Word_3    0.315350\n",
      "Word_4    0.291447\n",
      "Word_5    0.308051\n",
      "Word_6    0.340275\n",
      "Word_7    0.267498\n",
      "dtype: float64\n",
      "Word_1    0.159296\n",
      "Word_2    0.207413\n",
      "Word_3    0.270011\n",
      "Word_4    0.242073\n",
      "Word_5    0.386122\n",
      "Word_6    0.339649\n",
      "Word_7    0.195821\n",
      "dtype: float64\n"
     ]
    }
   ],
   "source": [
    "print(per_word_avg)\n",
    "print(per_word_std)"
   ]
  }
 ],
 "metadata": {
  "kernelspec": {
   "display_name": "Python 3",
   "language": "python",
   "name": "python3"
  },
  "language_info": {
   "codemirror_mode": {
    "name": "ipython",
    "version": 3
   },
   "file_extension": ".py",
   "mimetype": "text/x-python",
   "name": "python",
   "nbconvert_exporter": "python",
   "pygments_lexer": "ipython3",
   "version": "3.8.3"
  }
 },
 "nbformat": 4,
 "nbformat_minor": 2
}
