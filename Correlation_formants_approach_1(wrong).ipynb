{
 "cells": [
  {
   "cell_type": "code",
   "execution_count": 1,
   "metadata": {},
   "outputs": [],
   "source": [
    "import pandas as pd\n",
    "import numpy as np\n",
    "import os\n",
    "from scipy.stats import variation"
   ]
  },
  {
   "cell_type": "code",
   "execution_count": 10,
   "metadata": {
    "scrolled": true
   },
   "outputs": [],
   "source": [
    "for k in range(1,2):   #number of variation or trial....WData_v1, v2 \n",
    "    for j in range(1,8):  #number of word in each variation\n",
    "        #DATA_PATH=\"./WData_v\"+str(k)+\"/Formant/Formant\"+str(j)+\"/\"\n",
    "        DATA_PATH=\"./Vowel_Data/Formant/Formant\"+str(j)+\"/\"\n",
    "        i=0\n",
    "        for speechfile in os.listdir(DATA_PATH):  #accessing each formant file\n",
    "            data = pd.read_csv(DATA_PATH+speechfile, delim_whitespace=True,header=None,names=[\"time\",\"F1\",\"F2\",\"F3\",\"F4\",\"F5\"],dtype=np.float64,na_values=\"--undefined--\")\n",
    "            formantMean=data.mean(axis=0) #rows to rows mean\n",
    "            if i==0:\n",
    "                meanAll=formantMean\n",
    "                i+=1\n",
    "            else:\n",
    "                meanAll=pd.concat([meanAll,formantMean],axis=1) #add columnwise\n",
    "\n",
    "        cov=variation(meanAll,axis=1)\n",
    "    \n",
    "        #np.save('./Result/COV/COV_trial'+str(k)+'_word_'+str(j)+'.npy',cov) #file saved as ....<trial_number>...<word_number>\n",
    "        np.save('./Result/COV/COV_all_vowel_'+str(j)+'.npy',cov) #file saved as ....<trial_number>...<word_number>"
   ]
  },
  {
   "cell_type": "code",
   "execution_count": 8,
   "metadata": {},
   "outputs": [
    {
     "data": {
      "text/plain": [
       "array([0.18804143, 0.16094586, 0.13442615, 0.0566681 , 0.04529129,\n",
       "       0.05310488])"
      ]
     },
     "execution_count": 8,
     "metadata": {},
     "output_type": "execute_result"
    }
   ],
   "source": [
    "cov"
   ]
  },
  {
   "cell_type": "code",
   "execution_count": 11,
   "metadata": {},
   "outputs": [
    {
     "data": {
      "text/plain": [
       "array([0.31826632, 0.21767857, 0.25657935, 0.0931142 , 0.08147918,\n",
       "       0.07475102])"
      ]
     },
     "execution_count": 11,
     "metadata": {},
     "output_type": "execute_result"
    }
   ],
   "source": [
    "np.load('./Result/COV/COV_all_vowel_1.npy')"
   ]
  },
  {
   "cell_type": "code",
   "execution_count": null,
   "metadata": {},
   "outputs": [],
   "source": []
  }
 ],
 "metadata": {
  "kernelspec": {
   "display_name": "Python 3",
   "language": "python",
   "name": "python3"
  },
  "language_info": {
   "codemirror_mode": {
    "name": "ipython",
    "version": 3
   },
   "file_extension": ".py",
   "mimetype": "text/x-python",
   "name": "python",
   "nbconvert_exporter": "python",
   "pygments_lexer": "ipython3",
   "version": "3.8.3"
  }
 },
 "nbformat": 4,
 "nbformat_minor": 2
}
