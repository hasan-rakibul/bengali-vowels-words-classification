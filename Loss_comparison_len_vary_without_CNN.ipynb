{
 "cells": [
  {
   "cell_type": "code",
   "execution_count": 1,
   "metadata": {},
   "outputs": [],
   "source": [
    "import librosa\n",
    "import os\n",
    "from sklearn.model_selection import train_test_split\n",
    "\n",
    "import numpy as np\n",
    "from tqdm import tqdm\n",
    "import matplotlib.pyplot as plt\n",
    "\n",
    "import tensorflow as tf\n",
    "from tensorflow import keras\n",
    "from tensorflow.keras.layers import Dense\n",
    "from tensorflow.keras.utils import to_categorical"
   ]
  },
  {
   "cell_type": "code",
   "execution_count": 2,
   "metadata": {},
   "outputs": [],
   "source": [
    "DATA_PATH=\"./Vowel_Data/Vowel/\"\n",
    "n_time_sample=33"
   ]
  },
  {
   "cell_type": "code",
   "execution_count": 3,
   "metadata": {},
   "outputs": [],
   "source": [
    "n_MFCC=13\n",
    "seed=0"
   ]
  },
  {
   "cell_type": "code",
   "execution_count": 4,
   "metadata": {},
   "outputs": [],
   "source": [
    "def get_labels(path=DATA_PATH):\n",
    "    labels=os.listdir(path)\n",
    "    label_indices=np.arange(0,len(labels))\n",
    "    return labels, label_indices, to_categorical(label_indices)\n",
    "\n",
    "def speech2mfcc(file_path,max_len=n_time_sample):\n",
    "    wave, sr= librosa.load(file_path, mono=True, sr=None)\n",
    "    mfcc=librosa.feature.mfcc(wave,sr=sr,n_mfcc=n_MFCC)\n",
    "    if (max_len > mfcc.shape[1]): #.shape[1], 1-->column\n",
    "        pad_width=max_len-mfcc.shape[1]\n",
    "        mfcc=np.pad(mfcc,pad_width=((0,0),(0,pad_width)),mode='constant')\n",
    "    else:\n",
    "        mfcc=mfcc[:,:max_len]\n",
    "    return mfcc\n",
    "\n",
    "def save_data_to_array(path=DATA_PATH, max_len=n_time_sample):\n",
    "    labels,_,_=get_labels(path)\n",
    "\n",
    "    for label in labels:\n",
    "        mfcc_vectors=[]\n",
    "\n",
    "        speechfiles=[path + label + '/' + speech for speech in os.listdir(path+'/'+label)]\n",
    "        for speech in tqdm(speechfiles,\"Saving vectors to label -'{}'\".format(label)):\n",
    "            mfcc=speech2mfcc(speech,max_len=max_len)\n",
    "            mfcc_vectors.append(mfcc)\n",
    "            \n",
    "        np.save(label+'.npy',mfcc_vectors)\n",
    "        \n",
    "def get_train_test(split_ratio=0.8,random_state=42):\n",
    "    labels,indices,_=get_labels(DATA_PATH)\n",
    "\n",
    "    X=np.load(labels[0]+'.npy')\n",
    "    y=np.zeros(X.shape[0])\n",
    "\n",
    "    for i,label in enumerate(labels[1:]):\n",
    "        x=np.load(label+'.npy')\n",
    "        X=np.vstack((X,x))\n",
    "        y=np.append(y,np.full(x.shape[0],fill_value=(i+1)))\n",
    "    assert X.shape[0] == len(y)\n",
    "    return train_test_split(X,y,test_size=(1-split_ratio),random_state=random_state,shuffle=True)"
   ]
  },
  {
   "cell_type": "code",
   "execution_count": 5,
   "metadata": {
    "scrolled": true
   },
   "outputs": [
    {
     "name": "stderr",
     "output_type": "stream",
     "text": [
      "Saving vectors to label -'vowel7': 100%|██████████| 40/40 [00:00<00:00, 119.98it/s]\n",
      "Saving vectors to label -'vowel4': 100%|██████████| 40/40 [00:00<00:00, 122.84it/s]\n",
      "Saving vectors to label -'vowel2': 100%|██████████| 40/40 [00:00<00:00, 136.33it/s]\n",
      "Saving vectors to label -'vowel3': 100%|██████████| 40/40 [00:00<00:00, 121.62it/s]\n",
      "Saving vectors to label -'vowel6': 100%|██████████| 40/40 [00:00<00:00, 103.33it/s]\n",
      "Saving vectors to label -'vowel5': 100%|██████████| 40/40 [00:00<00:00, 82.11it/s] \n",
      "Saving vectors to label -'vowel1': 100%|██████████| 40/40 [00:00<00:00, 114.15it/s]\n"
     ]
    }
   ],
   "source": [
    "save_data_to_array()"
   ]
  },
  {
   "cell_type": "code",
   "execution_count": 21,
   "metadata": {},
   "outputs": [],
   "source": [
    "np.random.seed(seed)\n",
    "\n",
    "X_train, X_test, y_train, y_test=get_train_test()\n",
    "tot_no_MFCC=X_train.shape[1]*X_train.shape[2]\n",
    "X_train=X_train.reshape((X_train.shape[0],tot_no_MFCC))\n",
    "X_test=X_test.reshape(X_test.shape[0],tot_no_MFCC)\n",
    "y_train_hot=to_categorical(y_train)\n",
    "y_test_hot=to_categorical(y_test)\n",
    "\n",
    "model=keras.Sequential()\n",
    "model.add(Dense(128, activation='tanh', input_shape=(tot_no_MFCC,)))\n",
    "model.add(Dense(64, activation='tanh'))\n",
    "model.add(Dense(32, activation='tanh'))\n",
    "model.add(Dense(16, activation='tanh'))\n",
    "model.add(Dense(7, activation='softmax'))"
   ]
  },
  {
   "cell_type": "code",
   "execution_count": 22,
   "metadata": {},
   "outputs": [
    {
     "name": "stdout",
     "output_type": "stream",
     "text": [
      "Epoch 1/20\n",
      "2/2 [==============================] - 0s 3ms/step - loss: 1.9562 - accuracy: 0.1339\n",
      "Epoch 2/20\n",
      "2/2 [==============================] - 0s 4ms/step - loss: 1.7467 - accuracy: 0.3438\n",
      "Epoch 3/20\n",
      "2/2 [==============================] - 0s 5ms/step - loss: 1.6355 - accuracy: 0.4152\n",
      "Epoch 4/20\n",
      "2/2 [==============================] - 0s 9ms/step - loss: 1.5991 - accuracy: 0.3705\n",
      "Epoch 5/20\n",
      "2/2 [==============================] - 0s 4ms/step - loss: 1.4908 - accuracy: 0.4911\n",
      "Epoch 6/20\n",
      "2/2 [==============================] - 0s 7ms/step - loss: 1.3713 - accuracy: 0.6473\n",
      "Epoch 7/20\n",
      "2/2 [==============================] - 0s 3ms/step - loss: 1.3310 - accuracy: 0.6161\n",
      "Epoch 8/20\n",
      "2/2 [==============================] - 0s 9ms/step - loss: 1.3488 - accuracy: 0.5714\n",
      "Epoch 9/20\n",
      "2/2 [==============================] - 0s 4ms/step - loss: 1.2557 - accuracy: 0.6652\n",
      "Epoch 10/20\n",
      "2/2 [==============================] - 0s 5ms/step - loss: 1.2073 - accuracy: 0.6250\n",
      "Epoch 11/20\n",
      "2/2 [==============================] - 0s 5ms/step - loss: 1.1715 - accuracy: 0.5848\n",
      "Epoch 12/20\n",
      "2/2 [==============================] - 0s 9ms/step - loss: 1.1365 - accuracy: 0.6652\n",
      "Epoch 13/20\n",
      "2/2 [==============================] - 0s 7ms/step - loss: 1.0655 - accuracy: 0.7277\n",
      "Epoch 14/20\n",
      "2/2 [==============================] - 0s 7ms/step - loss: 1.0548 - accuracy: 0.6741\n",
      "Epoch 15/20\n",
      "2/2 [==============================] - 0s 6ms/step - loss: 0.9969 - accuracy: 0.6964\n",
      "Epoch 16/20\n",
      "2/2 [==============================] - 0s 4ms/step - loss: 0.9586 - accuracy: 0.7277\n",
      "Epoch 17/20\n",
      "2/2 [==============================] - 0s 5ms/step - loss: 0.9324 - accuracy: 0.7545\n",
      "Epoch 18/20\n",
      "2/2 [==============================] - 0s 7ms/step - loss: 0.9473 - accuracy: 0.7277\n",
      "Epoch 19/20\n",
      "2/2 [==============================] - 0s 6ms/step - loss: 0.8822 - accuracy: 0.7723\n",
      "Epoch 20/20\n",
      "2/2 [==============================] - 0s 5ms/step - loss: 0.8649 - accuracy: 0.7277\n"
     ]
    }
   ],
   "source": [
    "model.compile(loss=keras.losses.categorical_crossentropy,optimizer=keras.optimizers.RMSprop(),metrics=['accuracy'])\n",
    "history=model.fit(X_train,y_train_hot,batch_size=128,epochs=20,verbose=1)"
   ]
  },
  {
   "cell_type": "code",
   "execution_count": 8,
   "metadata": {},
   "outputs": [
    {
     "name": "stdout",
     "output_type": "stream",
     "text": [
      "Epoch 1/20\n",
      "WARNING:tensorflow:From /home/rakibul/anaconda3/envs/speech_recog/lib/python3.8/site-packages/tensorflow/python/ops/resource_variable_ops.py:1813: calling BaseResourceVariable.__init__ (from tensorflow.python.ops.resource_variable_ops) with constraint is deprecated and will be removed in a future version.\n",
      "Instructions for updating:\n",
      "If using Keras pass *_constraint arguments to layers.\n",
      "2/2 [==============================] - 0s 5ms/step - loss: 1.9365 - auc: 0.5551\n",
      "Epoch 2/20\n",
      "2/2 [==============================] - 0s 7ms/step - loss: 1.8950 - auc: 0.6996\n",
      "Epoch 3/20\n",
      "2/2 [==============================] - 0s 7ms/step - loss: 1.8711 - auc: 0.7262\n",
      "Epoch 4/20\n",
      "2/2 [==============================] - 0s 5ms/step - loss: 1.8586 - auc: 0.7395\n",
      "Epoch 5/20\n",
      "2/2 [==============================] - 0s 7ms/step - loss: 1.8436 - auc: 0.7627\n",
      "Epoch 6/20\n",
      "2/2 [==============================] - 0s 9ms/step - loss: 1.8303 - auc: 0.7792\n",
      "Epoch 7/20\n",
      "2/2 [==============================] - 0s 10ms/step - loss: 1.8123 - auc: 0.8010\n",
      "Epoch 8/20\n",
      "2/2 [==============================] - 0s 5ms/step - loss: 1.7983 - auc: 0.8098\n",
      "Epoch 9/20\n",
      "2/2 [==============================] - 0s 10ms/step - loss: 1.7813 - auc: 0.8218\n",
      "Epoch 10/20\n",
      "2/2 [==============================] - 0s 7ms/step - loss: 1.7591 - auc: 0.8375\n",
      "Epoch 11/20\n",
      "2/2 [==============================] - 0s 15ms/step - loss: 1.7413 - auc: 0.8481\n",
      "Epoch 12/20\n",
      "2/2 [==============================] - 0s 10ms/step - loss: 1.7291 - auc: 0.8588\n",
      "Epoch 13/20\n",
      "2/2 [==============================] - 0s 10ms/step - loss: 1.7177 - auc: 0.8666\n",
      "Epoch 14/20\n",
      "2/2 [==============================] - 0s 8ms/step - loss: 1.7018 - auc: 0.8672\n",
      "Epoch 15/20\n",
      "2/2 [==============================] - 0s 8ms/step - loss: 1.6919 - auc: 0.8631\n",
      "Epoch 16/20\n",
      "2/2 [==============================] - 0s 12ms/step - loss: 1.6820 - auc: 0.8671\n",
      "Epoch 17/20\n",
      "2/2 [==============================] - 0s 7ms/step - loss: 1.6734 - auc: 0.8781\n",
      "Epoch 18/20\n",
      "2/2 [==============================] - 0s 6ms/step - loss: 1.6606 - auc: 0.8893\n",
      "Epoch 19/20\n",
      "2/2 [==============================] - 0s 6ms/step - loss: 1.6507 - auc: 0.8963\n",
      "Epoch 20/20\n",
      "2/2 [==============================] - 0s 5ms/step - loss: 1.6436 - auc: 0.9070\n"
     ]
    }
   ],
   "source": [
    "opt_fn=keras.optimizers.Adam()\n",
    "loss_fn=keras.losses.CategoricalCrossentropy(from_logits=True)\n",
    "metrics_fn=[\n",
    "    keras.metrics.Accuracy()#,\n",
    "    #keras.metrics.AUC()\n",
    "]\n",
    "#metrics_fn=['accuracy']\n",
    "metrics_fn=['AUC']\n",
    "\n",
    "model.compile(loss=loss_fn,optimizer=opt_fn,metrics=metrics_fn)\n",
    "history=model.fit(X_train,y_train_hot,batch_size=128,epochs=20)"
   ]
  },
  {
   "cell_type": "code",
   "execution_count": 24,
   "metadata": {},
   "outputs": [],
   "source": [
    "#Vowel\n",
    "history_dict=history.history\n",
    "loss_vowel=history_dict['loss']\n",
    "acc_vowel=history_dict['accuracy']"
   ]
  },
  {
   "cell_type": "code",
   "execution_count": 12,
   "metadata": {},
   "outputs": [],
   "source": [
    "DATA_PATH=\"./Word_Data/Word/\"\n",
    "\n",
    "n_time_sample=44\n"
   ]
  },
  {
   "cell_type": "code",
   "execution_count": 13,
   "metadata": {},
   "outputs": [],
   "source": [
    "def get_labels(path=DATA_PATH):\n",
    "    labels=os.listdir(path)\n",
    "    label_indices=np.arange(0,len(labels))\n",
    "    return labels, label_indices, to_categorical(label_indices)\n",
    "\n",
    "def speech2mfcc(file_path,max_len=n_time_sample):\n",
    "    wave, sr= librosa.load(file_path, mono=True, sr=None)\n",
    "    mfcc=librosa.feature.mfcc(wave,sr=sr,n_mfcc=n_MFCC)\n",
    "    if (max_len > mfcc.shape[1]): #.shape[1], 1-->column\n",
    "        pad_width=max_len-mfcc.shape[1]\n",
    "        mfcc=np.pad(mfcc,pad_width=((0,0),(0,pad_width)),mode='constant')\n",
    "    else:\n",
    "        mfcc=mfcc[:,:max_len]\n",
    "    return mfcc\n",
    "\n",
    "def save_data_to_array(path=DATA_PATH, max_len=n_time_sample):\n",
    "    labels,_,_=get_labels(path)\n",
    "\n",
    "    for label in labels:\n",
    "        mfcc_vectors=[]\n",
    "\n",
    "        speechfiles=[path + label + '/' + speech for speech in os.listdir(path+'/'+label)]\n",
    "        for speech in tqdm(speechfiles,\"Saving vectors to label -'{}'\".format(label)):\n",
    "            mfcc=speech2mfcc(speech,max_len=max_len)\n",
    "            mfcc_vectors.append(mfcc)\n",
    "            \n",
    "        np.save(label+'.npy',mfcc_vectors)\n",
    "        \n",
    "def get_train_test(split_ratio=0.8,random_state=42):\n",
    "    labels,indices,_=get_labels(DATA_PATH)\n",
    "\n",
    "    X=np.load(labels[0]+'.npy')\n",
    "    y=np.zeros(X.shape[0])\n",
    "\n",
    "    for i,label in enumerate(labels[1:]):\n",
    "        x=np.load(label+'.npy')\n",
    "        X=np.vstack((X,x))\n",
    "        y=np.append(y,np.full(x.shape[0],fill_value=(i+1)))\n",
    "    assert X.shape[0] == len(y)\n",
    "    return train_test_split(X,y,test_size=(1-split_ratio),random_state=random_state,shuffle=True)"
   ]
  },
  {
   "cell_type": "code",
   "execution_count": 14,
   "metadata": {},
   "outputs": [
    {
     "name": "stderr",
     "output_type": "stream",
     "text": [
      "Saving vectors to label -'Word1': 100%|██████████| 40/40 [00:00<00:00, 106.71it/s]\n",
      "Saving vectors to label -'Word7': 100%|██████████| 40/40 [00:00<00:00, 104.39it/s]\n",
      "Saving vectors to label -'Word2': 100%|██████████| 40/40 [00:00<00:00, 105.78it/s]\n",
      "Saving vectors to label -'Word4': 100%|██████████| 40/40 [00:00<00:00, 114.49it/s]\n",
      "Saving vectors to label -'Word3': 100%|██████████| 40/40 [00:00<00:00, 103.70it/s]\n",
      "Saving vectors to label -'Word5': 100%|██████████| 40/40 [00:00<00:00, 119.30it/s]\n",
      "Saving vectors to label -'Word6': 100%|██████████| 40/40 [00:00<00:00, 114.09it/s]\n"
     ]
    }
   ],
   "source": [
    "save_data_to_array()"
   ]
  },
  {
   "cell_type": "code",
   "execution_count": 15,
   "metadata": {},
   "outputs": [
    {
     "name": "stdout",
     "output_type": "stream",
     "text": [
      "Epoch 1/20\n",
      "2/2 [==============================] - 0s 7ms/step - loss: 1.9368 - accuracy: 0.2009\n",
      "Epoch 2/20\n",
      "2/2 [==============================] - 0s 4ms/step - loss: 1.8754 - accuracy: 0.3080\n",
      "Epoch 3/20\n",
      "2/2 [==============================] - 0s 4ms/step - loss: 1.7427 - accuracy: 0.3750\n",
      "Epoch 4/20\n",
      "2/2 [==============================] - 0s 9ms/step - loss: 1.6365 - accuracy: 0.3884\n",
      "Epoch 5/20\n",
      "2/2 [==============================] - 0s 4ms/step - loss: 1.6987 - accuracy: 0.4241\n",
      "Epoch 6/20\n",
      "2/2 [==============================] - 0s 5ms/step - loss: 1.4752 - accuracy: 0.6518\n",
      "Epoch 7/20\n",
      "2/2 [==============================] - 0s 9ms/step - loss: 1.3696 - accuracy: 0.6607\n",
      "Epoch 8/20\n",
      "2/2 [==============================] - 0s 8ms/step - loss: 1.2626 - accuracy: 0.7188\n",
      "Epoch 9/20\n",
      "2/2 [==============================] - 0s 8ms/step - loss: 1.2564 - accuracy: 0.6696\n",
      "Epoch 10/20\n",
      "2/2 [==============================] - 0s 6ms/step - loss: 1.3212 - accuracy: 0.6161\n",
      "Epoch 11/20\n",
      "2/2 [==============================] - 0s 4ms/step - loss: 1.2650 - accuracy: 0.6473\n",
      "Epoch 12/20\n",
      "2/2 [==============================] - 0s 8ms/step - loss: 1.1376 - accuracy: 0.7500\n",
      "Epoch 13/20\n",
      "2/2 [==============================] - 0s 6ms/step - loss: 1.0179 - accuracy: 0.7723\n",
      "Epoch 14/20\n",
      "2/2 [==============================] - 0s 4ms/step - loss: 1.0741 - accuracy: 0.7366\n",
      "Epoch 15/20\n",
      "2/2 [==============================] - 0s 3ms/step - loss: 1.0448 - accuracy: 0.7500\n",
      "Epoch 16/20\n",
      "2/2 [==============================] - 0s 8ms/step - loss: 0.9368 - accuracy: 0.8125\n",
      "Epoch 17/20\n",
      "2/2 [==============================] - 0s 9ms/step - loss: 0.9045 - accuracy: 0.7946\n",
      "Epoch 18/20\n",
      "2/2 [==============================] - 0s 10ms/step - loss: 0.8933 - accuracy: 0.7902\n",
      "Epoch 19/20\n",
      "2/2 [==============================] - 0s 12ms/step - loss: 0.8885 - accuracy: 0.8304\n",
      "Epoch 20/20\n",
      "2/2 [==============================] - 0s 6ms/step - loss: 0.9007 - accuracy: 0.7991\n"
     ]
    }
   ],
   "source": [
    "np.random.seed(seed)\n",
    "\n",
    "X_train, X_test, y_train, y_test=get_train_test()\n",
    "tot_no_MFCC=X_train.shape[1]*X_train.shape[2]\n",
    "X_train=X_train.reshape((X_train.shape[0],tot_no_MFCC))\n",
    "X_test=X_test.reshape(X_test.shape[0],tot_no_MFCC)\n",
    "y_train_hot=to_categorical(y_train)\n",
    "y_test_hot=to_categorical(y_test)\n",
    "\n",
    "\n",
    "model=keras.Sequential()\n",
    "model.add(Dense(128, activation='tanh', input_shape=(tot_no_MFCC,)))\n",
    "model.add(Dense(64, activation='tanh'))\n",
    "model.add(Dense(32, activation='tanh'))\n",
    "model.add(Dense(16, activation='tanh'))\n",
    "model.add(Dense(7, activation='softmax'))\n",
    "\n",
    "model.compile(loss=keras.losses.categorical_crossentropy,optimizer=keras.optimizers.RMSprop(),metrics=['accuracy'])\n",
    "history=model.fit(X_train,y_train_hot,batch_size=128,epochs=20,verbose=1)"
   ]
  },
  {
   "cell_type": "code",
   "execution_count": 17,
   "metadata": {},
   "outputs": [],
   "source": [
    "#word\n",
    "history_dict=history.history\n",
    "loss_word=history_dict['loss']\n",
    "acc_word=history_dict['accuracy']"
   ]
  },
  {
   "cell_type": "code",
   "execution_count": 18,
   "metadata": {},
   "outputs": [],
   "source": [
    "epochs=range(1,len(loss_word)+1)"
   ]
  },
  {
   "cell_type": "code",
   "execution_count": 25,
   "metadata": {},
   "outputs": [
    {
     "data": {
      "image/png": "[encoded data removed]",
      "text/plain": [
       "<Figure size 432x288 with 1 Axes>"
      ]
     },
     "metadata": {
      "needs_background": "light"
     },
     "output_type": "display_data"
    }
   ],
   "source": [
    "#plt.figure(figsize=(10,4))\n",
    "plt.plot(epochs,loss_word,'b',label='Word')\n",
    "plt.plot(epochs,loss_vowel,'r',label='Vowel')\n",
    "plt.title('Loss comparison')\n",
    "plt.xticks(epochs)\n",
    "plt.xlabel('Epochs')\n",
    "plt.ylabel('Loss')\n",
    "plt.legend()\n",
    "plt.tight_layout()\n",
    "plt.savefig('./Result/New_without_CNN/loss_compare_diff_len_128_64_32_16_tanh_softmax_rmsprop_batch128'+'.svg',format='svg',dpi=600)"
   ]
  },
  {
   "cell_type": "code",
   "execution_count": 26,
   "metadata": {},
   "outputs": [
    {
     "data": {
      "image/png": "[encoded data removed]",
      "text/plain": [
       "<Figure size 432x288 with 1 Axes>"
      ]
     },
     "metadata": {
      "needs_background": "light"
     },
     "output_type": "display_data"
    }
   ],
   "source": [
    "#plt.figure(figsize=(10,4))\n",
    "plt.plot(epochs,acc_word,'b',label='Word')\n",
    "plt.plot(epochs,acc_vowel,'r',label='Vowel')\n",
    "plt.title('Accuracy comparison')\n",
    "plt.xticks(epochs)\n",
    "plt.xlabel('Epochs')\n",
    "plt.ylabel('Accuracy')\n",
    "plt.legend()\n",
    "plt.tight_layout()\n",
    "plt.savefig('./Result/New_without_CNN/accuracy_compare_diff_len_128_64_32_16_tanh_softmax_rmsprop_batch128'+'.svg',format='svg',dpi=600)"
   ]
  }
 ],
 "metadata": {
  "kernelspec": {
   "display_name": "Python 3",
   "language": "python",
   "name": "python3"
  },
  "language_info": {
   "codemirror_mode": {
    "name": "ipython",
    "version": 3
   },
   "file_extension": ".py",
   "mimetype": "text/x-python",
   "name": "python",
   "nbconvert_exporter": "python",
   "pygments_lexer": "ipython3",
   "version": "3.8.3"
  }
 },
 "nbformat": 4,
 "nbformat_minor": 2
}
