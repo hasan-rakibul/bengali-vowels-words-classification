{
 "cells": [
  {
   "cell_type": "code",
   "execution_count": 1,
   "metadata": {},
   "outputs": [],
   "source": [
    "import os\n",
    "import numpy as np\n",
    "import matplotlib.pyplot as plt\n",
    "from sklearn.model_selection import train_test_split\n",
    "from tqdm import tqdm\n",
    "from tensorflow.keras.models import Sequential\n",
    "from tensorflow.keras.layers import Dense\n",
    "from tensorflow.keras import optimizers as opt\n",
    "from tensorflow.keras.utils import to_categorical\n",
    "from tensorflow.keras import losses\n",
    "import pandas as pd"
   ]
  },
  {
   "cell_type": "code",
   "execution_count": 3,
   "metadata": {},
   "outputs": [],
   "source": [
    "DATA_PATH=\"./Vowel_Data/Formant/\"\n",
    "n_time_sample=25"
   ]
  },
  {
   "cell_type": "code",
   "execution_count": 3,
   "metadata": {},
   "outputs": [],
   "source": [
    "seed=0"
   ]
  },
  {
   "cell_type": "code",
   "execution_count": 156,
   "metadata": {},
   "outputs": [],
   "source": [
    "def get_formant(file_path,max_len=n_time_sample):\n",
    "    formant=pd.read_csv(file_path,\n",
    "                delim_whitespace=True,\n",
    "                header=None,\n",
    "                names=[\"time\",\"F1\",\"F2\",\"F3\",\"F4\",\"F5\"],\n",
    "                dtype=np.float64,\n",
    "                na_values=\"--undefined--\")\n",
    "    if (max_len > formant.shape[0]):\n",
    "        required_rows=max_len-formant.shape[0]\n",
    "        new_data=pd.DataFrame(np.zeros((required_rows,6)),columns=[\"time\",\"F1\",\"F2\",\"F3\",\"F4\",\"F5\"])  #empty structure to configure\n",
    "        time_step=formant.iloc[1]['time']-formant.iloc[0]['time']\n",
    "        new_data['time']=[formant.iloc[-1]['time']+i*time_step for i in range(1,required_rows+1)]   #new time will incremented as previous time data\n",
    "        new_data.iloc[:,1:]=formant.iloc[-1,1:].values  #formant values of last existing sample is taken as new formant values\n",
    "        formant=formant.append(new_data,ignore_index=True)  #new data is appended to the existing\n",
    "    else:\n",
    "        formant=formant.iloc[:max_len]  #truncate up to fixed length\n",
    "    return formant\n",
    "\n",
    "def get_all_formants(path=DATA_PATH):\n",
    "    labels=labels=sorted(os.listdir(path))\n",
    "    all_formant=pd.DataFrame() #empty dataframe to store all_formants\n",
    "    \n",
    "    for label_index,label in enumerate(labels):\n",
    "        folder_formant=pd.DataFrame() #empty dataframe to store formants of indivuals vowels/words i.e. folders\n",
    "\n",
    "        formant_files=[path + label + '/' + file for file in sorted(os.listdir(path+'/'+label))]\n",
    "        for file in tqdm(formant_files,\"Reading Formants of label -'{}'\".format(label)):\n",
    "            #print(file)\n",
    "            individual_formant=get_formant(file_path=file)\n",
    "            folder_formant=folder_formant.append(individual_formant,ignore_index=True)\n",
    "        \n",
    "        folder_formant['label']=label_index  #new columns for encoding label\n",
    "        \n",
    "        all_formant=all_formant.append(folder_formant,ignore_index=True)\n",
    "        \n",
    "    return all_formant"
   ]
  },
  {
   "cell_type": "code",
   "execution_count": 184,
   "metadata": {},
   "outputs": [],
   "source": [
    "def get_train_test(split_ratio=0.8,random_state=42):\n",
    "    all_formants=get_all_formants()\n",
    "    \n",
    "    X=all_formants.drop(labels=['label'],axis=1).values\n",
    "    y=all_formants['label'].values\n",
    "\n",
    "    assert X.shape[0] == len(y)\n",
    "    return train_test_split(X,y,test_size=(1-split_ratio),random_state=random_state,shuffle=True,stratify=y)"
   ]
  },
  {
   "cell_type": "code",
   "execution_count": 185,
   "metadata": {
    "scrolled": true
   },
   "outputs": [
    {
     "name": "stderr",
     "output_type": "stream",
     "text": [
      "Reading Formants of label -'Formant1': 100%|██████████| 40/40 [00:00<00:00, 263.83it/s]\n",
      "Reading Formants of label -'Formant2': 100%|██████████| 40/40 [00:00<00:00, 341.96it/s]\n",
      "Reading Formants of label -'Formant3': 100%|██████████| 40/40 [00:00<00:00, 279.11it/s]\n",
      "Reading Formants of label -'Formant4': 100%|██████████| 40/40 [00:00<00:00, 290.12it/s]\n",
      "Reading Formants of label -'Formant5': 100%|██████████| 40/40 [00:00<00:00, 414.85it/s]\n",
      "Reading Formants of label -'Formant6': 100%|██████████| 40/40 [00:00<00:00, 374.12it/s]\n",
      "Reading Formants of label -'Formant7': 100%|██████████| 40/40 [00:00<00:00, 331.70it/s]\n"
     ]
    }
   ],
   "source": [
    "all_formants=get_all_formants()"
   ]
  },
  {
   "cell_type": "code",
   "execution_count": 186,
   "metadata": {
    "scrolled": true
   },
   "outputs": [
    {
     "data": {
      "text/html": [
       "<div>\n",
       "<style scoped>\n",
       "    .dataframe tbody tr th:only-of-type {\n",
       "        vertical-align: middle;\n",
       "    }\n",
       "\n",
       "    .dataframe tbody tr th {\n",
       "        vertical-align: top;\n",
       "    }\n",
       "\n",
       "    .dataframe thead th {\n",
       "        text-align: right;\n",
       "    }\n",
       "</style>\n",
       "<table border=\"1\" class=\"dataframe\">\n",
       "  <thead>\n",
       "    <tr style=\"text-align: right;\">\n",
       "      <th></th>\n",
       "      <th>time</th>\n",
       "      <th>F1</th>\n",
       "      <th>F2</th>\n",
       "      <th>F3</th>\n",
       "      <th>F4</th>\n",
       "      <th>F5</th>\n",
       "      <th>label</th>\n",
       "    </tr>\n",
       "  </thead>\n",
       "  <tbody>\n",
       "    <tr>\n",
       "      <th>0</th>\n",
       "      <td>0.025</td>\n",
       "      <td>705.97</td>\n",
       "      <td>1456.68</td>\n",
       "      <td>2400.93</td>\n",
       "      <td>3665.61</td>\n",
       "      <td>4788.23</td>\n",
       "      <td>0</td>\n",
       "    </tr>\n",
       "    <tr>\n",
       "      <th>1</th>\n",
       "      <td>0.031</td>\n",
       "      <td>698.49</td>\n",
       "      <td>1496.51</td>\n",
       "      <td>2366.53</td>\n",
       "      <td>3721.44</td>\n",
       "      <td>4786.20</td>\n",
       "      <td>0</td>\n",
       "    </tr>\n",
       "    <tr>\n",
       "      <th>2</th>\n",
       "      <td>0.038</td>\n",
       "      <td>670.76</td>\n",
       "      <td>1514.62</td>\n",
       "      <td>2428.13</td>\n",
       "      <td>3774.71</td>\n",
       "      <td>4719.93</td>\n",
       "      <td>0</td>\n",
       "    </tr>\n",
       "    <tr>\n",
       "      <th>3</th>\n",
       "      <td>0.044</td>\n",
       "      <td>666.49</td>\n",
       "      <td>1524.23</td>\n",
       "      <td>2439.99</td>\n",
       "      <td>3764.21</td>\n",
       "      <td>4651.84</td>\n",
       "      <td>0</td>\n",
       "    </tr>\n",
       "    <tr>\n",
       "      <th>4</th>\n",
       "      <td>0.050</td>\n",
       "      <td>667.40</td>\n",
       "      <td>1524.64</td>\n",
       "      <td>2409.82</td>\n",
       "      <td>3699.78</td>\n",
       "      <td>4696.84</td>\n",
       "      <td>0</td>\n",
       "    </tr>\n",
       "  </tbody>\n",
       "</table>\n",
       "</div>"
      ],
      "text/plain": [
       "    time      F1       F2       F3       F4       F5  label\n",
       "0  0.025  705.97  1456.68  2400.93  3665.61  4788.23      0\n",
       "1  0.031  698.49  1496.51  2366.53  3721.44  4786.20      0\n",
       "2  0.038  670.76  1514.62  2428.13  3774.71  4719.93      0\n",
       "3  0.044  666.49  1524.23  2439.99  3764.21  4651.84      0\n",
       "4  0.050  667.40  1524.64  2409.82  3699.78  4696.84      0"
      ]
     },
     "execution_count": 186,
     "metadata": {},
     "output_type": "execute_result"
    }
   ],
   "source": [
    "all_formants.head()"
   ]
  },
  {
   "cell_type": "code",
   "execution_count": 162,
   "metadata": {},
   "outputs": [
    {
     "name": "stdout",
     "output_type": "stream",
     "text": [
      "Help on method drop in module pandas.core.frame:\n",
      "\n",
      "drop(labels=None, axis=0, index=None, columns=None, level=None, inplace=False, errors='raise') method of pandas.core.frame.DataFrame instance\n",
      "    Drop specified labels from rows or columns.\n",
      "    \n",
      "    Remove rows or columns by specifying label names and corresponding\n",
      "    axis, or by specifying directly index or column names. When using a\n",
      "    multi-index, labels on different levels can be removed by specifying\n",
      "    the level.\n",
      "    \n",
      "    Parameters\n",
      "    ----------\n",
      "    labels : single label or list-like\n",
      "        Index or column labels to drop.\n",
      "    axis : {0 or 'index', 1 or 'columns'}, default 0\n",
      "        Whether to drop labels from the index (0 or 'index') or\n",
      "        columns (1 or 'columns').\n",
      "    index : single label or list-like\n",
      "        Alternative to specifying axis (``labels, axis=0``\n",
      "        is equivalent to ``index=labels``).\n",
      "    columns : single label or list-like\n",
      "        Alternative to specifying axis (``labels, axis=1``\n",
      "        is equivalent to ``columns=labels``).\n",
      "    level : int or level name, optional\n",
      "        For MultiIndex, level from which the labels will be removed.\n",
      "    inplace : bool, default False\n",
      "        If False, return a copy. Otherwise, do operation\n",
      "        inplace and return None.\n",
      "    errors : {'ignore', 'raise'}, default 'raise'\n",
      "        If 'ignore', suppress error and only existing labels are\n",
      "        dropped.\n",
      "    \n",
      "    Returns\n",
      "    -------\n",
      "    DataFrame\n",
      "        DataFrame without the removed index or column labels.\n",
      "    \n",
      "    Raises\n",
      "    ------\n",
      "    KeyError\n",
      "        If any of the labels is not found in the selected axis.\n",
      "    \n",
      "    See Also\n",
      "    --------\n",
      "    DataFrame.loc : Label-location based indexer for selection by label.\n",
      "    DataFrame.dropna : Return DataFrame with labels on given axis omitted\n",
      "        where (all or any) data are missing.\n",
      "    DataFrame.drop_duplicates : Return DataFrame with duplicate rows\n",
      "        removed, optionally only considering certain columns.\n",
      "    Series.drop : Return Series with specified index labels removed.\n",
      "    \n",
      "    Examples\n",
      "    --------\n",
      "    >>> df = pd.DataFrame(np.arange(12).reshape(3, 4),\n",
      "    ...                   columns=['A', 'B', 'C', 'D'])\n",
      "    >>> df\n",
      "       A  B   C   D\n",
      "    0  0  1   2   3\n",
      "    1  4  5   6   7\n",
      "    2  8  9  10  11\n",
      "    \n",
      "    Drop columns\n",
      "    \n",
      "    >>> df.drop(['B', 'C'], axis=1)\n",
      "       A   D\n",
      "    0  0   3\n",
      "    1  4   7\n",
      "    2  8  11\n",
      "    \n",
      "    >>> df.drop(columns=['B', 'C'])\n",
      "       A   D\n",
      "    0  0   3\n",
      "    1  4   7\n",
      "    2  8  11\n",
      "    \n",
      "    Drop a row by index\n",
      "    \n",
      "    >>> df.drop([0, 1])\n",
      "       A  B   C   D\n",
      "    2  8  9  10  11\n",
      "    \n",
      "    Drop columns and/or rows of MultiIndex DataFrame\n",
      "    \n",
      "    >>> midx = pd.MultiIndex(levels=[['lama', 'cow', 'falcon'],\n",
      "    ...                              ['speed', 'weight', 'length']],\n",
      "    ...                      codes=[[0, 0, 0, 1, 1, 1, 2, 2, 2],\n",
      "    ...                             [0, 1, 2, 0, 1, 2, 0, 1, 2]])\n",
      "    >>> df = pd.DataFrame(index=midx, columns=['big', 'small'],\n",
      "    ...                   data=[[45, 30], [200, 100], [1.5, 1], [30, 20],\n",
      "    ...                         [250, 150], [1.5, 0.8], [320, 250],\n",
      "    ...                         [1, 0.8], [0.3, 0.2]])\n",
      "    >>> df\n",
      "                    big     small\n",
      "    lama    speed   45.0    30.0\n",
      "            weight  200.0   100.0\n",
      "            length  1.5     1.0\n",
      "    cow     speed   30.0    20.0\n",
      "            weight  250.0   150.0\n",
      "            length  1.5     0.8\n",
      "    falcon  speed   320.0   250.0\n",
      "            weight  1.0     0.8\n",
      "            length  0.3     0.2\n",
      "    \n",
      "    >>> df.drop(index='cow', columns='small')\n",
      "                    big\n",
      "    lama    speed   45.0\n",
      "            weight  200.0\n",
      "            length  1.5\n",
      "    falcon  speed   320.0\n",
      "            weight  1.0\n",
      "            length  0.3\n",
      "    \n",
      "    >>> df.drop(index='length', level=1)\n",
      "                    big     small\n",
      "    lama    speed   45.0    30.0\n",
      "            weight  200.0   100.0\n",
      "    cow     speed   30.0    20.0\n",
      "            weight  250.0   150.0\n",
      "    falcon  speed   320.0   250.0\n",
      "            weight  1.0     0.8\n",
      "\n"
     ]
    }
   ],
   "source": [
    "help(all_formants.drop)"
   ]
  },
  {
   "cell_type": "code",
   "execution_count": 167,
   "metadata": {},
   "outputs": [],
   "source": [
    "X=all_formants.drop(labels=['label'],axis=1)\n",
    "y=all_formants['label']"
   ]
  },
  {
   "cell_type": "code",
   "execution_count": 173,
   "metadata": {},
   "outputs": [
    {
     "data": {
      "text/plain": [
       "7000"
      ]
     },
     "execution_count": 173,
     "metadata": {},
     "output_type": "execute_result"
    }
   ],
   "source": [
    "X.shape[0]"
   ]
  },
  {
   "cell_type": "code",
   "execution_count": 171,
   "metadata": {},
   "outputs": [
    {
     "data": {
      "text/plain": [
       "7000"
      ]
     },
     "execution_count": 171,
     "metadata": {},
     "output_type": "execute_result"
    }
   ],
   "source": [
    "len(y)"
   ]
  },
  {
   "cell_type": "code",
   "execution_count": 168,
   "metadata": {
    "scrolled": true
   },
   "outputs": [
    {
     "data": {
      "text/html": [
       "<div>\n",
       "<style scoped>\n",
       "    .dataframe tbody tr th:only-of-type {\n",
       "        vertical-align: middle;\n",
       "    }\n",
       "\n",
       "    .dataframe tbody tr th {\n",
       "        vertical-align: top;\n",
       "    }\n",
       "\n",
       "    .dataframe thead th {\n",
       "        text-align: right;\n",
       "    }\n",
       "</style>\n",
       "<table border=\"1\" class=\"dataframe\">\n",
       "  <thead>\n",
       "    <tr style=\"text-align: right;\">\n",
       "      <th></th>\n",
       "      <th>time</th>\n",
       "      <th>F1</th>\n",
       "      <th>F2</th>\n",
       "      <th>F3</th>\n",
       "      <th>F4</th>\n",
       "      <th>F5</th>\n",
       "      <th>label</th>\n",
       "    </tr>\n",
       "  </thead>\n",
       "  <tbody>\n",
       "    <tr>\n",
       "      <th>0</th>\n",
       "      <td>0.025</td>\n",
       "      <td>705.97</td>\n",
       "      <td>1456.68</td>\n",
       "      <td>2400.93</td>\n",
       "      <td>3665.61</td>\n",
       "      <td>4788.23</td>\n",
       "      <td>0</td>\n",
       "    </tr>\n",
       "    <tr>\n",
       "      <th>1</th>\n",
       "      <td>0.031</td>\n",
       "      <td>698.49</td>\n",
       "      <td>1496.51</td>\n",
       "      <td>2366.53</td>\n",
       "      <td>3721.44</td>\n",
       "      <td>4786.20</td>\n",
       "      <td>0</td>\n",
       "    </tr>\n",
       "    <tr>\n",
       "      <th>2</th>\n",
       "      <td>0.038</td>\n",
       "      <td>670.76</td>\n",
       "      <td>1514.62</td>\n",
       "      <td>2428.13</td>\n",
       "      <td>3774.71</td>\n",
       "      <td>4719.93</td>\n",
       "      <td>0</td>\n",
       "    </tr>\n",
       "    <tr>\n",
       "      <th>3</th>\n",
       "      <td>0.044</td>\n",
       "      <td>666.49</td>\n",
       "      <td>1524.23</td>\n",
       "      <td>2439.99</td>\n",
       "      <td>3764.21</td>\n",
       "      <td>4651.84</td>\n",
       "      <td>0</td>\n",
       "    </tr>\n",
       "    <tr>\n",
       "      <th>4</th>\n",
       "      <td>0.050</td>\n",
       "      <td>667.40</td>\n",
       "      <td>1524.64</td>\n",
       "      <td>2409.82</td>\n",
       "      <td>3699.78</td>\n",
       "      <td>4696.84</td>\n",
       "      <td>0</td>\n",
       "    </tr>\n",
       "    <tr>\n",
       "      <th>...</th>\n",
       "      <td>...</td>\n",
       "      <td>...</td>\n",
       "      <td>...</td>\n",
       "      <td>...</td>\n",
       "      <td>...</td>\n",
       "      <td>...</td>\n",
       "      <td>...</td>\n",
       "    </tr>\n",
       "    <tr>\n",
       "      <th>6995</th>\n",
       "      <td>0.150</td>\n",
       "      <td>417.50</td>\n",
       "      <td>941.66</td>\n",
       "      <td>2662.24</td>\n",
       "      <td>4044.07</td>\n",
       "      <td>4497.17</td>\n",
       "      <td>6</td>\n",
       "    </tr>\n",
       "    <tr>\n",
       "      <th>6996</th>\n",
       "      <td>0.156</td>\n",
       "      <td>420.04</td>\n",
       "      <td>928.12</td>\n",
       "      <td>2672.68</td>\n",
       "      <td>4041.29</td>\n",
       "      <td>4492.86</td>\n",
       "      <td>6</td>\n",
       "    </tr>\n",
       "    <tr>\n",
       "      <th>6997</th>\n",
       "      <td>0.163</td>\n",
       "      <td>436.54</td>\n",
       "      <td>879.28</td>\n",
       "      <td>2679.17</td>\n",
       "      <td>4066.78</td>\n",
       "      <td>4541.83</td>\n",
       "      <td>6</td>\n",
       "    </tr>\n",
       "    <tr>\n",
       "      <th>6998</th>\n",
       "      <td>0.169</td>\n",
       "      <td>493.13</td>\n",
       "      <td>781.98</td>\n",
       "      <td>2777.38</td>\n",
       "      <td>4080.27</td>\n",
       "      <td>4549.05</td>\n",
       "      <td>6</td>\n",
       "    </tr>\n",
       "    <tr>\n",
       "      <th>6999</th>\n",
       "      <td>0.175</td>\n",
       "      <td>450.02</td>\n",
       "      <td>950.18</td>\n",
       "      <td>3113.42</td>\n",
       "      <td>4074.09</td>\n",
       "      <td>4414.41</td>\n",
       "      <td>6</td>\n",
       "    </tr>\n",
       "  </tbody>\n",
       "</table>\n",
       "<p>7000 rows × 7 columns</p>\n",
       "</div>"
      ],
      "text/plain": [
       "       time      F1       F2       F3       F4       F5  label\n",
       "0     0.025  705.97  1456.68  2400.93  3665.61  4788.23      0\n",
       "1     0.031  698.49  1496.51  2366.53  3721.44  4786.20      0\n",
       "2     0.038  670.76  1514.62  2428.13  3774.71  4719.93      0\n",
       "3     0.044  666.49  1524.23  2439.99  3764.21  4651.84      0\n",
       "4     0.050  667.40  1524.64  2409.82  3699.78  4696.84      0\n",
       "...     ...     ...      ...      ...      ...      ...    ...\n",
       "6995  0.150  417.50   941.66  2662.24  4044.07  4497.17      6\n",
       "6996  0.156  420.04   928.12  2672.68  4041.29  4492.86      6\n",
       "6997  0.163  436.54   879.28  2679.17  4066.78  4541.83      6\n",
       "6998  0.169  493.13   781.98  2777.38  4080.27  4549.05      6\n",
       "6999  0.175  450.02   950.18  3113.42  4074.09  4414.41      6\n",
       "\n",
       "[7000 rows x 7 columns]"
      ]
     },
     "execution_count": 168,
     "metadata": {},
     "output_type": "execute_result"
    }
   ],
   "source": [
    "all_formants"
   ]
  },
  {
   "cell_type": "code",
   "execution_count": 154,
   "metadata": {
    "scrolled": true
   },
   "outputs": [
    {
     "name": "stdout",
     "output_type": "stream",
     "text": [
      "Help on function train_test_split in module sklearn.model_selection._split:\n",
      "\n",
      "train_test_split(*arrays, **options)\n",
      "    Split arrays or matrices into random train and test subsets\n",
      "    \n",
      "    Quick utility that wraps input validation and\n",
      "    ``next(ShuffleSplit().split(X, y))`` and application to input data\n",
      "    into a single call for splitting (and optionally subsampling) data in a\n",
      "    oneliner.\n",
      "    \n",
      "    Read more in the :ref:`User Guide <cross_validation>`.\n",
      "    \n",
      "    Parameters\n",
      "    ----------\n",
      "    *arrays : sequence of indexables with same length / shape[0]\n",
      "        Allowed inputs are lists, numpy arrays, scipy-sparse\n",
      "        matrices or pandas dataframes.\n",
      "    \n",
      "    test_size : float, int or None, optional (default=None)\n",
      "        If float, should be between 0.0 and 1.0 and represent the proportion\n",
      "        of the dataset to include in the test split. If int, represents the\n",
      "        absolute number of test samples. If None, the value is set to the\n",
      "        complement of the train size. If ``train_size`` is also None, it will\n",
      "        be set to 0.25.\n",
      "    \n",
      "    train_size : float, int, or None, (default=None)\n",
      "        If float, should be between 0.0 and 1.0 and represent the\n",
      "        proportion of the dataset to include in the train split. If\n",
      "        int, represents the absolute number of train samples. If None,\n",
      "        the value is automatically set to the complement of the test size.\n",
      "    \n",
      "    random_state : int, RandomState instance or None, optional (default=None)\n",
      "        If int, random_state is the seed used by the random number generator;\n",
      "        If RandomState instance, random_state is the random number generator;\n",
      "        If None, the random number generator is the RandomState instance used\n",
      "        by `np.random`.\n",
      "    \n",
      "    shuffle : boolean, optional (default=True)\n",
      "        Whether or not to shuffle the data before splitting. If shuffle=False\n",
      "        then stratify must be None.\n",
      "    \n",
      "    stratify : array-like or None (default=None)\n",
      "        If not None, data is split in a stratified fashion, using this as\n",
      "        the class labels.\n",
      "    \n",
      "    Returns\n",
      "    -------\n",
      "    splitting : list, length=2 * len(arrays)\n",
      "        List containing train-test split of inputs.\n",
      "    \n",
      "        .. versionadded:: 0.16\n",
      "            If the input is sparse, the output will be a\n",
      "            ``scipy.sparse.csr_matrix``. Else, output type is the same as the\n",
      "            input type.\n",
      "    \n",
      "    Examples\n",
      "    --------\n",
      "    >>> import numpy as np\n",
      "    >>> from sklearn.model_selection import train_test_split\n",
      "    >>> X, y = np.arange(10).reshape((5, 2)), range(5)\n",
      "    >>> X\n",
      "    array([[0, 1],\n",
      "           [2, 3],\n",
      "           [4, 5],\n",
      "           [6, 7],\n",
      "           [8, 9]])\n",
      "    >>> list(y)\n",
      "    [0, 1, 2, 3, 4]\n",
      "    \n",
      "    >>> X_train, X_test, y_train, y_test = train_test_split(\n",
      "    ...     X, y, test_size=0.33, random_state=42)\n",
      "    ...\n",
      "    >>> X_train\n",
      "    array([[4, 5],\n",
      "           [0, 1],\n",
      "           [6, 7]])\n",
      "    >>> y_train\n",
      "    [2, 0, 3]\n",
      "    >>> X_test\n",
      "    array([[2, 3],\n",
      "           [8, 9]])\n",
      "    >>> y_test\n",
      "    [1, 4]\n",
      "    \n",
      "    >>> train_test_split(y, shuffle=False)\n",
      "    [[0, 1, 2], [3, 4]]\n",
      "\n"
     ]
    }
   ],
   "source": [
    "help(train_test_split)"
   ]
  },
  {
   "cell_type": "code",
   "execution_count": 114,
   "metadata": {},
   "outputs": [
    {
     "name": "stdout",
     "output_type": "stream",
     "text": [
      "Formant1\n",
      "0\n",
      "Formant2\n",
      "1\n",
      "Formant3\n",
      "2\n",
      "Formant4\n",
      "3\n",
      "Formant5\n",
      "4\n",
      "Formant6\n",
      "5\n",
      "Formant7\n",
      "6\n"
     ]
    }
   ],
   "source": [
    "labels,label_indices,_=get_labels(path=DATA_PATH)\n",
    "for label_index,label in enumerate(labels):\n",
    "    print(label)\n",
    "    print(label_index)"
   ]
  },
  {
   "cell_type": "code",
   "execution_count": 72,
   "metadata": {},
   "outputs": [],
   "source": [
    "formant=pd.read_csv(DATA_PATH+'/Formant1/vowel1_1_Formant_frq.txt',\n",
    "                delim_whitespace=True,\n",
    "                header=None,\n",
    "                names=[\"time\",\"F1\",\"F2\",\"F3\",\"F4\",\"F5\"],\n",
    "                dtype=np.float64,\n",
    "                na_values=\"--undefined--\")"
   ]
  },
  {
   "cell_type": "code",
   "execution_count": 126,
   "metadata": {},
   "outputs": [],
   "source": [
    "a=pd.DataFrame()"
   ]
  },
  {
   "cell_type": "code",
   "execution_count": 131,
   "metadata": {},
   "outputs": [],
   "source": [
    "a=a.append(formant,ignore_index=True)"
   ]
  },
  {
   "cell_type": "code",
   "execution_count": 132,
   "metadata": {},
   "outputs": [
    {
     "data": {
      "text/plain": [
       "(66, 7)"
      ]
     },
     "execution_count": 132,
     "metadata": {},
     "output_type": "execute_result"
    }
   ],
   "source": [
    "a.shape"
   ]
  },
  {
   "cell_type": "code",
   "execution_count": 130,
   "metadata": {},
   "outputs": [],
   "source": [
    "formant['label']=1"
   ]
  },
  {
   "cell_type": "code",
   "execution_count": 133,
   "metadata": {},
   "outputs": [
    {
     "data": {
      "text/html": [
       "<div>\n",
       "<style scoped>\n",
       "    .dataframe tbody tr th:only-of-type {\n",
       "        vertical-align: middle;\n",
       "    }\n",
       "\n",
       "    .dataframe tbody tr th {\n",
       "        vertical-align: top;\n",
       "    }\n",
       "\n",
       "    .dataframe thead th {\n",
       "        text-align: right;\n",
       "    }\n",
       "</style>\n",
       "<table border=\"1\" class=\"dataframe\">\n",
       "  <thead>\n",
       "    <tr style=\"text-align: right;\">\n",
       "      <th></th>\n",
       "      <th>time</th>\n",
       "      <th>F1</th>\n",
       "      <th>F2</th>\n",
       "      <th>F3</th>\n",
       "      <th>F4</th>\n",
       "      <th>F5</th>\n",
       "      <th>label</th>\n",
       "    </tr>\n",
       "  </thead>\n",
       "  <tbody>\n",
       "    <tr>\n",
       "      <th>0</th>\n",
       "      <td>0.025</td>\n",
       "      <td>704.03</td>\n",
       "      <td>829.93</td>\n",
       "      <td>2755.50</td>\n",
       "      <td>3452.57</td>\n",
       "      <td>4004.47</td>\n",
       "      <td>0</td>\n",
       "    </tr>\n",
       "    <tr>\n",
       "      <th>1</th>\n",
       "      <td>0.031</td>\n",
       "      <td>708.76</td>\n",
       "      <td>804.90</td>\n",
       "      <td>2817.68</td>\n",
       "      <td>3472.35</td>\n",
       "      <td>4033.76</td>\n",
       "      <td>0</td>\n",
       "    </tr>\n",
       "    <tr>\n",
       "      <th>2</th>\n",
       "      <td>0.038</td>\n",
       "      <td>661.62</td>\n",
       "      <td>787.50</td>\n",
       "      <td>2854.43</td>\n",
       "      <td>3490.48</td>\n",
       "      <td>4090.51</td>\n",
       "      <td>0</td>\n",
       "    </tr>\n",
       "    <tr>\n",
       "      <th>3</th>\n",
       "      <td>0.044</td>\n",
       "      <td>369.13</td>\n",
       "      <td>770.09</td>\n",
       "      <td>2814.76</td>\n",
       "      <td>3510.33</td>\n",
       "      <td>3989.43</td>\n",
       "      <td>0</td>\n",
       "    </tr>\n",
       "    <tr>\n",
       "      <th>4</th>\n",
       "      <td>0.050</td>\n",
       "      <td>75.33</td>\n",
       "      <td>225.39</td>\n",
       "      <td>1358.25</td>\n",
       "      <td>3023.90</td>\n",
       "      <td>3645.75</td>\n",
       "      <td>0</td>\n",
       "    </tr>\n",
       "    <tr>\n",
       "      <th>...</th>\n",
       "      <td>...</td>\n",
       "      <td>...</td>\n",
       "      <td>...</td>\n",
       "      <td>...</td>\n",
       "      <td>...</td>\n",
       "      <td>...</td>\n",
       "      <td>...</td>\n",
       "    </tr>\n",
       "    <tr>\n",
       "      <th>61</th>\n",
       "      <td>0.200</td>\n",
       "      <td>557.75</td>\n",
       "      <td>921.86</td>\n",
       "      <td>2712.78</td>\n",
       "      <td>3603.84</td>\n",
       "      <td>4715.16</td>\n",
       "      <td>1</td>\n",
       "    </tr>\n",
       "    <tr>\n",
       "      <th>62</th>\n",
       "      <td>0.206</td>\n",
       "      <td>557.75</td>\n",
       "      <td>921.86</td>\n",
       "      <td>2712.78</td>\n",
       "      <td>3603.84</td>\n",
       "      <td>4715.16</td>\n",
       "      <td>1</td>\n",
       "    </tr>\n",
       "    <tr>\n",
       "      <th>63</th>\n",
       "      <td>0.212</td>\n",
       "      <td>557.75</td>\n",
       "      <td>921.86</td>\n",
       "      <td>2712.78</td>\n",
       "      <td>3603.84</td>\n",
       "      <td>4715.16</td>\n",
       "      <td>1</td>\n",
       "    </tr>\n",
       "    <tr>\n",
       "      <th>64</th>\n",
       "      <td>0.218</td>\n",
       "      <td>557.75</td>\n",
       "      <td>921.86</td>\n",
       "      <td>2712.78</td>\n",
       "      <td>3603.84</td>\n",
       "      <td>4715.16</td>\n",
       "      <td>1</td>\n",
       "    </tr>\n",
       "    <tr>\n",
       "      <th>65</th>\n",
       "      <td>0.224</td>\n",
       "      <td>557.75</td>\n",
       "      <td>921.86</td>\n",
       "      <td>2712.78</td>\n",
       "      <td>3603.84</td>\n",
       "      <td>4715.16</td>\n",
       "      <td>1</td>\n",
       "    </tr>\n",
       "  </tbody>\n",
       "</table>\n",
       "<p>66 rows × 7 columns</p>\n",
       "</div>"
      ],
      "text/plain": [
       "     time      F1      F2       F3       F4       F5  label\n",
       "0   0.025  704.03  829.93  2755.50  3452.57  4004.47      0\n",
       "1   0.031  708.76  804.90  2817.68  3472.35  4033.76      0\n",
       "2   0.038  661.62  787.50  2854.43  3490.48  4090.51      0\n",
       "3   0.044  369.13  770.09  2814.76  3510.33  3989.43      0\n",
       "4   0.050   75.33  225.39  1358.25  3023.90  3645.75      0\n",
       "..    ...     ...     ...      ...      ...      ...    ...\n",
       "61  0.200  557.75  921.86  2712.78  3603.84  4715.16      1\n",
       "62  0.206  557.75  921.86  2712.78  3603.84  4715.16      1\n",
       "63  0.212  557.75  921.86  2712.78  3603.84  4715.16      1\n",
       "64  0.218  557.75  921.86  2712.78  3603.84  4715.16      1\n",
       "65  0.224  557.75  921.86  2712.78  3603.84  4715.16      1\n",
       "\n",
       "[66 rows x 7 columns]"
      ]
     },
     "execution_count": 133,
     "metadata": {},
     "output_type": "execute_result"
    }
   ],
   "source": [
    "a"
   ]
  },
  {
   "cell_type": "code",
   "execution_count": 101,
   "metadata": {
    "scrolled": true
   },
   "outputs": [
    {
     "data": {
      "text/plain": [
       "(33, 6)"
      ]
     },
     "execution_count": 101,
     "metadata": {},
     "output_type": "execute_result"
    }
   ],
   "source": [
    "formant.shape"
   ]
  },
  {
   "cell_type": "code",
   "execution_count": 94,
   "metadata": {},
   "outputs": [
    {
     "data": {
      "text/plain": [
       "(20, 6)"
      ]
     },
     "execution_count": 94,
     "metadata": {},
     "output_type": "execute_result"
    }
   ],
   "source": [
    "formant.iloc[:20].shape"
   ]
  },
  {
   "cell_type": "code",
   "execution_count": 58,
   "metadata": {
    "scrolled": true
   },
   "outputs": [
    {
     "data": {
      "text/html": [
       "<div>\n",
       "<style scoped>\n",
       "    .dataframe tbody tr th:only-of-type {\n",
       "        vertical-align: middle;\n",
       "    }\n",
       "\n",
       "    .dataframe tbody tr th {\n",
       "        vertical-align: top;\n",
       "    }\n",
       "\n",
       "    .dataframe thead th {\n",
       "        text-align: right;\n",
       "    }\n",
       "</style>\n",
       "<table border=\"1\" class=\"dataframe\">\n",
       "  <thead>\n",
       "    <tr style=\"text-align: right;\">\n",
       "      <th></th>\n",
       "      <th>time</th>\n",
       "      <th>F1</th>\n",
       "      <th>F2</th>\n",
       "      <th>F3</th>\n",
       "      <th>F4</th>\n",
       "      <th>F5</th>\n",
       "    </tr>\n",
       "  </thead>\n",
       "  <tbody>\n",
       "    <tr>\n",
       "      <th>2</th>\n",
       "      <td>0.038</td>\n",
       "      <td>661.62</td>\n",
       "      <td>787.50</td>\n",
       "      <td>2854.43</td>\n",
       "      <td>3490.48</td>\n",
       "      <td>4090.51</td>\n",
       "    </tr>\n",
       "    <tr>\n",
       "      <th>3</th>\n",
       "      <td>0.044</td>\n",
       "      <td>369.13</td>\n",
       "      <td>770.09</td>\n",
       "      <td>2814.76</td>\n",
       "      <td>3510.33</td>\n",
       "      <td>3989.43</td>\n",
       "    </tr>\n",
       "    <tr>\n",
       "      <th>4</th>\n",
       "      <td>0.050</td>\n",
       "      <td>75.33</td>\n",
       "      <td>225.39</td>\n",
       "      <td>1358.25</td>\n",
       "      <td>3023.90</td>\n",
       "      <td>3645.75</td>\n",
       "    </tr>\n",
       "    <tr>\n",
       "      <th>5</th>\n",
       "      <td>0.056</td>\n",
       "      <td>353.91</td>\n",
       "      <td>537.73</td>\n",
       "      <td>2206.67</td>\n",
       "      <td>3293.20</td>\n",
       "      <td>3757.69</td>\n",
       "    </tr>\n",
       "  </tbody>\n",
       "</table>\n",
       "</div>"
      ],
      "text/plain": [
       "    time      F1      F2       F3       F4       F5\n",
       "2  0.038  661.62  787.50  2854.43  3490.48  4090.51\n",
       "3  0.044  369.13  770.09  2814.76  3510.33  3989.43\n",
       "4  0.050   75.33  225.39  1358.25  3023.90  3645.75\n",
       "5  0.056  353.91  537.73  2206.67  3293.20  3757.69"
      ]
     },
     "execution_count": 58,
     "metadata": {},
     "output_type": "execute_result"
    }
   ],
   "source": [
    "formant.loc[2:5]"
   ]
  },
  {
   "cell_type": "code",
   "execution_count": 59,
   "metadata": {},
   "outputs": [
    {
     "data": {
      "text/plain": [
       "0.19399999999999998"
      ]
     },
     "execution_count": 59,
     "metadata": {},
     "output_type": "execute_result"
    }
   ],
   "source": [
    "formant.iloc[-1]['time']"
   ]
  },
  {
   "cell_type": "code",
   "execution_count": 27,
   "metadata": {},
   "outputs": [],
   "source": [
    "new=pd.DataFrame(np.zeros((5,6)),columns=[\"time\",\"F1\",\"F2\",\"F3\",\"F4\",\"F5\"])"
   ]
  },
  {
   "cell_type": "code",
   "execution_count": 34,
   "metadata": {},
   "outputs": [],
   "source": [
    "new['time']=[5, 6, 7, 8, 9]"
   ]
  },
  {
   "cell_type": "code",
   "execution_count": 76,
   "metadata": {},
   "outputs": [],
   "source": [
    "time_step=formant.iloc[1]['time']-formant.iloc[0]['time']\n",
    "new['time']=[formant.iloc[-1]['time']+i*time_step for i in range(1,6)]"
   ]
  },
  {
   "cell_type": "code",
   "execution_count": 87,
   "metadata": {},
   "outputs": [],
   "source": [
    "new.iloc[:,1:]=formant.iloc[-1,1:].values"
   ]
  },
  {
   "cell_type": "code",
   "execution_count": 86,
   "metadata": {},
   "outputs": [
    {
     "data": {
      "text/plain": [
       "array([ 557.75,  921.86, 2712.78, 3603.84, 4715.16])"
      ]
     },
     "execution_count": 86,
     "metadata": {},
     "output_type": "execute_result"
    }
   ],
   "source": [
    "formant.iloc[-1,1:].values"
   ]
  },
  {
   "cell_type": "code",
   "execution_count": 88,
   "metadata": {},
   "outputs": [
    {
     "data": {
      "text/html": [
       "<div>\n",
       "<style scoped>\n",
       "    .dataframe tbody tr th:only-of-type {\n",
       "        vertical-align: middle;\n",
       "    }\n",
       "\n",
       "    .dataframe tbody tr th {\n",
       "        vertical-align: top;\n",
       "    }\n",
       "\n",
       "    .dataframe thead th {\n",
       "        text-align: right;\n",
       "    }\n",
       "</style>\n",
       "<table border=\"1\" class=\"dataframe\">\n",
       "  <thead>\n",
       "    <tr style=\"text-align: right;\">\n",
       "      <th></th>\n",
       "      <th>time</th>\n",
       "      <th>F1</th>\n",
       "      <th>F2</th>\n",
       "      <th>F3</th>\n",
       "      <th>F4</th>\n",
       "      <th>F5</th>\n",
       "    </tr>\n",
       "  </thead>\n",
       "  <tbody>\n",
       "    <tr>\n",
       "      <th>0</th>\n",
       "      <td>0.200</td>\n",
       "      <td>557.75</td>\n",
       "      <td>921.86</td>\n",
       "      <td>2712.78</td>\n",
       "      <td>3603.84</td>\n",
       "      <td>4715.16</td>\n",
       "    </tr>\n",
       "    <tr>\n",
       "      <th>1</th>\n",
       "      <td>0.206</td>\n",
       "      <td>557.75</td>\n",
       "      <td>921.86</td>\n",
       "      <td>2712.78</td>\n",
       "      <td>3603.84</td>\n",
       "      <td>4715.16</td>\n",
       "    </tr>\n",
       "    <tr>\n",
       "      <th>2</th>\n",
       "      <td>0.212</td>\n",
       "      <td>557.75</td>\n",
       "      <td>921.86</td>\n",
       "      <td>2712.78</td>\n",
       "      <td>3603.84</td>\n",
       "      <td>4715.16</td>\n",
       "    </tr>\n",
       "    <tr>\n",
       "      <th>3</th>\n",
       "      <td>0.218</td>\n",
       "      <td>557.75</td>\n",
       "      <td>921.86</td>\n",
       "      <td>2712.78</td>\n",
       "      <td>3603.84</td>\n",
       "      <td>4715.16</td>\n",
       "    </tr>\n",
       "    <tr>\n",
       "      <th>4</th>\n",
       "      <td>0.224</td>\n",
       "      <td>557.75</td>\n",
       "      <td>921.86</td>\n",
       "      <td>2712.78</td>\n",
       "      <td>3603.84</td>\n",
       "      <td>4715.16</td>\n",
       "    </tr>\n",
       "  </tbody>\n",
       "</table>\n",
       "</div>"
      ],
      "text/plain": [
       "    time      F1      F2       F3       F4       F5\n",
       "0  0.200  557.75  921.86  2712.78  3603.84  4715.16\n",
       "1  0.206  557.75  921.86  2712.78  3603.84  4715.16\n",
       "2  0.212  557.75  921.86  2712.78  3603.84  4715.16\n",
       "3  0.218  557.75  921.86  2712.78  3603.84  4715.16\n",
       "4  0.224  557.75  921.86  2712.78  3603.84  4715.16"
      ]
     },
     "execution_count": 88,
     "metadata": {},
     "output_type": "execute_result"
    }
   ],
   "source": [
    "new"
   ]
  },
  {
   "cell_type": "code",
   "execution_count": 92,
   "metadata": {},
   "outputs": [],
   "source": [
    "formant=formant.append(new,ignore_index=True)"
   ]
  },
  {
   "cell_type": "code",
   "execution_count": 91,
   "metadata": {},
   "outputs": [
    {
     "data": {
      "text/plain": [
       "(33, 6)"
      ]
     },
     "execution_count": 91,
     "metadata": {},
     "output_type": "execute_result"
    }
   ],
   "source": [
    "df_new.shape"
   ]
  },
  {
   "cell_type": "code",
   "execution_count": 202,
   "metadata": {
    "scrolled": false
   },
   "outputs": [
    {
     "name": "stderr",
     "output_type": "stream",
     "text": [
      "Reading Formants of label -'Formant1': 100%|██████████| 40/40 [00:00<00:00, 275.10it/s]\n",
      "Reading Formants of label -'Formant2': 100%|██████████| 40/40 [00:00<00:00, 327.68it/s]\n",
      "Reading Formants of label -'Formant3': 100%|██████████| 40/40 [00:00<00:00, 235.21it/s]\n",
      "Reading Formants of label -'Formant4': 100%|██████████| 40/40 [00:00<00:00, 286.75it/s]\n",
      "Reading Formants of label -'Formant5': 100%|██████████| 40/40 [00:00<00:00, 330.41it/s]\n",
      "Reading Formants of label -'Formant6': 100%|██████████| 40/40 [00:00<00:00, 335.95it/s]\n",
      "Reading Formants of label -'Formant7': 100%|██████████| 40/40 [00:00<00:00, 342.83it/s]\n"
     ]
    }
   ],
   "source": [
    "X_train, X_test, y_train, y_test=get_train_test()\n",
    "y_train_hot=to_categorical(y_train)\n",
    "y_test_hot=to_categorical(y_test)"
   ]
  },
  {
   "cell_type": "code",
   "execution_count": 199,
   "metadata": {},
   "outputs": [
    {
     "data": {
      "text/plain": [
       "(5600, 6)"
      ]
     },
     "execution_count": 199,
     "metadata": {},
     "output_type": "execute_result"
    }
   ],
   "source": [
    "X_train.shape"
   ]
  },
  {
   "cell_type": "code",
   "execution_count": 200,
   "metadata": {},
   "outputs": [
    {
     "data": {
      "text/plain": [
       "(1400, 6)"
      ]
     },
     "execution_count": 200,
     "metadata": {},
     "output_type": "execute_result"
    }
   ],
   "source": [
    "X_test.shape"
   ]
  },
  {
   "cell_type": "code",
   "execution_count": 188,
   "metadata": {},
   "outputs": [
    {
     "data": {
      "text/plain": [
       "array([5, 2, 3, ..., 0, 2, 3])"
      ]
     },
     "execution_count": 188,
     "metadata": {},
     "output_type": "execute_result"
    }
   ],
   "source": [
    "y_train"
   ]
  },
  {
   "cell_type": "code",
   "execution_count": 201,
   "metadata": {},
   "outputs": [],
   "source": [
    "y_train_hot=to_categorical(y_train)"
   ]
  },
  {
   "cell_type": "code",
   "execution_count": 190,
   "metadata": {},
   "outputs": [
    {
     "data": {
      "text/plain": [
       "array([[0., 0., 0., ..., 0., 1., 0.],\n",
       "       [0., 0., 1., ..., 0., 0., 0.],\n",
       "       [0., 0., 0., ..., 0., 0., 0.],\n",
       "       ...,\n",
       "       [1., 0., 0., ..., 0., 0., 0.],\n",
       "       [0., 0., 1., ..., 0., 0., 0.],\n",
       "       [0., 0., 0., ..., 0., 0., 0.]], dtype=float32)"
      ]
     },
     "execution_count": 190,
     "metadata": {},
     "output_type": "execute_result"
    }
   ],
   "source": [
    "y_train_hot"
   ]
  },
  {
   "cell_type": "code",
   "execution_count": 196,
   "metadata": {},
   "outputs": [
    {
     "data": {
      "text/plain": [
       "(5600, 6)"
      ]
     },
     "execution_count": 196,
     "metadata": {},
     "output_type": "execute_result"
    }
   ],
   "source": [
    "X_train.shape"
   ]
  },
  {
   "cell_type": "code",
   "execution_count": 23,
   "metadata": {},
   "outputs": [
    {
     "ename": "ValueError",
     "evalue": "Object arrays cannot be loaded when allow_pickle=False",
     "output_type": "error",
     "traceback": [
      "\u001b[0;31m---------------------------------------------------------------------------\u001b[0m",
      "\u001b[0;31mValueError\u001b[0m                                Traceback (most recent call last)",
      "\u001b[0;32m<ipython-input-23-1700802d13a3>\u001b[0m in \u001b[0;36m<module>\u001b[0;34m\u001b[0m\n\u001b[1;32m      1\u001b[0m \u001b[0mnp\u001b[0m\u001b[0;34m.\u001b[0m\u001b[0mrandom\u001b[0m\u001b[0;34m.\u001b[0m\u001b[0mseed\u001b[0m\u001b[0;34m(\u001b[0m\u001b[0mseed\u001b[0m\u001b[0;34m)\u001b[0m\u001b[0;34m\u001b[0m\u001b[0;34m\u001b[0m\u001b[0m\n\u001b[1;32m      2\u001b[0m \u001b[0;34m\u001b[0m\u001b[0m\n\u001b[0;32m----> 3\u001b[0;31m \u001b[0mX_train\u001b[0m\u001b[0;34m,\u001b[0m \u001b[0mX_test\u001b[0m\u001b[0;34m,\u001b[0m \u001b[0my_train\u001b[0m\u001b[0;34m,\u001b[0m \u001b[0my_test\u001b[0m\u001b[0;34m=\u001b[0m\u001b[0mget_train_test\u001b[0m\u001b[0;34m(\u001b[0m\u001b[0;34m)\u001b[0m\u001b[0;34m\u001b[0m\u001b[0;34m\u001b[0m\u001b[0m\n\u001b[0m\u001b[1;32m      4\u001b[0m \u001b[0mtot_no_FORMANT\u001b[0m\u001b[0;34m=\u001b[0m\u001b[0mX_train\u001b[0m\u001b[0;34m.\u001b[0m\u001b[0mshape\u001b[0m\u001b[0;34m[\u001b[0m\u001b[0;36m1\u001b[0m\u001b[0;34m]\u001b[0m\u001b[0;34m*\u001b[0m\u001b[0mX_train\u001b[0m\u001b[0;34m.\u001b[0m\u001b[0mshape\u001b[0m\u001b[0;34m[\u001b[0m\u001b[0;36m2\u001b[0m\u001b[0;34m]\u001b[0m\u001b[0;34m\u001b[0m\u001b[0;34m\u001b[0m\u001b[0m\n\u001b[1;32m      5\u001b[0m \u001b[0mX_train\u001b[0m\u001b[0;34m=\u001b[0m\u001b[0mX_train\u001b[0m\u001b[0;34m.\u001b[0m\u001b[0mreshape\u001b[0m\u001b[0;34m(\u001b[0m\u001b[0;34m(\u001b[0m\u001b[0mX_train\u001b[0m\u001b[0;34m.\u001b[0m\u001b[0mshape\u001b[0m\u001b[0;34m[\u001b[0m\u001b[0;36m0\u001b[0m\u001b[0;34m]\u001b[0m\u001b[0;34m,\u001b[0m\u001b[0mtot_no_FORMANT\u001b[0m\u001b[0;34m)\u001b[0m\u001b[0;34m)\u001b[0m\u001b[0;34m\u001b[0m\u001b[0;34m\u001b[0m\u001b[0m\n",
      "\u001b[0;32m<ipython-input-19-cc4e4990c129>\u001b[0m in \u001b[0;36mget_train_test\u001b[0;34m(split_ratio, random_state)\u001b[0m\n\u001b[1;32m     29\u001b[0m     \u001b[0mlabels\u001b[0m\u001b[0;34m,\u001b[0m\u001b[0mindices\u001b[0m\u001b[0;34m,\u001b[0m\u001b[0m_\u001b[0m\u001b[0;34m=\u001b[0m\u001b[0mget_labels\u001b[0m\u001b[0;34m(\u001b[0m\u001b[0mDATA_PATH\u001b[0m\u001b[0;34m)\u001b[0m\u001b[0;34m\u001b[0m\u001b[0;34m\u001b[0m\u001b[0m\n\u001b[1;32m     30\u001b[0m \u001b[0;34m\u001b[0m\u001b[0m\n\u001b[0;32m---> 31\u001b[0;31m     \u001b[0mX\u001b[0m\u001b[0;34m=\u001b[0m\u001b[0mnp\u001b[0m\u001b[0;34m.\u001b[0m\u001b[0mload\u001b[0m\u001b[0;34m(\u001b[0m\u001b[0mlabels\u001b[0m\u001b[0;34m[\u001b[0m\u001b[0;36m0\u001b[0m\u001b[0;34m]\u001b[0m\u001b[0;34m+\u001b[0m\u001b[0;34m'.npy'\u001b[0m\u001b[0;34m)\u001b[0m\u001b[0;34m\u001b[0m\u001b[0;34m\u001b[0m\u001b[0m\n\u001b[0m\u001b[1;32m     32\u001b[0m     \u001b[0my\u001b[0m\u001b[0;34m=\u001b[0m\u001b[0mnp\u001b[0m\u001b[0;34m.\u001b[0m\u001b[0mzeros\u001b[0m\u001b[0;34m(\u001b[0m\u001b[0mX\u001b[0m\u001b[0;34m.\u001b[0m\u001b[0mshape\u001b[0m\u001b[0;34m[\u001b[0m\u001b[0;36m0\u001b[0m\u001b[0;34m]\u001b[0m\u001b[0;34m)\u001b[0m\u001b[0;34m\u001b[0m\u001b[0;34m\u001b[0m\u001b[0m\n\u001b[1;32m     33\u001b[0m \u001b[0;34m\u001b[0m\u001b[0m\n",
      "\u001b[0;32m~/anaconda3/envs/speech_recog/lib/python3.8/site-packages/numpy/lib/npyio.py\u001b[0m in \u001b[0;36mload\u001b[0;34m(file, mmap_mode, allow_pickle, fix_imports, encoding)\u001b[0m\n\u001b[1;32m    450\u001b[0m                 \u001b[0;32mreturn\u001b[0m \u001b[0mformat\u001b[0m\u001b[0;34m.\u001b[0m\u001b[0mopen_memmap\u001b[0m\u001b[0;34m(\u001b[0m\u001b[0mfile\u001b[0m\u001b[0;34m,\u001b[0m \u001b[0mmode\u001b[0m\u001b[0;34m=\u001b[0m\u001b[0mmmap_mode\u001b[0m\u001b[0;34m)\u001b[0m\u001b[0;34m\u001b[0m\u001b[0;34m\u001b[0m\u001b[0m\n\u001b[1;32m    451\u001b[0m             \u001b[0;32melse\u001b[0m\u001b[0;34m:\u001b[0m\u001b[0;34m\u001b[0m\u001b[0;34m\u001b[0m\u001b[0m\n\u001b[0;32m--> 452\u001b[0;31m                 return format.read_array(fid, allow_pickle=allow_pickle,\n\u001b[0m\u001b[1;32m    453\u001b[0m                                          pickle_kwargs=pickle_kwargs)\n\u001b[1;32m    454\u001b[0m         \u001b[0;32melse\u001b[0m\u001b[0;34m:\u001b[0m\u001b[0;34m\u001b[0m\u001b[0;34m\u001b[0m\u001b[0m\n",
      "\u001b[0;32m~/anaconda3/envs/speech_recog/lib/python3.8/site-packages/numpy/lib/format.py\u001b[0m in \u001b[0;36mread_array\u001b[0;34m(fp, allow_pickle, pickle_kwargs)\u001b[0m\n\u001b[1;32m    737\u001b[0m         \u001b[0;31m# The array contained Python objects. We need to unpickle the data.\u001b[0m\u001b[0;34m\u001b[0m\u001b[0;34m\u001b[0m\u001b[0;34m\u001b[0m\u001b[0m\n\u001b[1;32m    738\u001b[0m         \u001b[0;32mif\u001b[0m \u001b[0;32mnot\u001b[0m \u001b[0mallow_pickle\u001b[0m\u001b[0;34m:\u001b[0m\u001b[0;34m\u001b[0m\u001b[0;34m\u001b[0m\u001b[0m\n\u001b[0;32m--> 739\u001b[0;31m             raise ValueError(\"Object arrays cannot be loaded when \"\n\u001b[0m\u001b[1;32m    740\u001b[0m                              \"allow_pickle=False\")\n\u001b[1;32m    741\u001b[0m         \u001b[0;32mif\u001b[0m \u001b[0mpickle_kwargs\u001b[0m \u001b[0;32mis\u001b[0m \u001b[0;32mNone\u001b[0m\u001b[0;34m:\u001b[0m\u001b[0;34m\u001b[0m\u001b[0;34m\u001b[0m\u001b[0m\n",
      "\u001b[0;31mValueError\u001b[0m: Object arrays cannot be loaded when allow_pickle=False"
     ]
    }
   ],
   "source": [
    "np.random.seed(seed)\n",
    "\n",
    "X_train, X_test, y_train, y_test=get_train_test()\n",
    "tot_no_FORMANT=X_train.shape[1]*X_train.shape[2]\n",
    "X_train=X_train.reshape((X_train.shape[0],tot_no_FORMANT))\n",
    "X_test=X_test.reshape(X_test.shape[0],tot_no_MFCC)\n",
    "y_train_hot=to_categorical(y_train)\n",
    "y_test_hot=to_categorical(y_test)"
   ]
  },
  {
   "cell_type": "code",
   "execution_count": 209,
   "metadata": {},
   "outputs": [],
   "source": [
    "model_v=Sequential()\n",
    "model_v.add(Dense(128, activation='tanh', input_shape=(6,)))\n",
    "model_v.add(Dense(64, activation='tanh'))\n",
    "model_v.add(Dense(32, activation='tanh'))\n",
    "model_v.add(Dense(16, activation='tanh'))\n",
    "model_v.add(Dense(7, activation='softmax'))"
   ]
  },
  {
   "cell_type": "code",
   "execution_count": 210,
   "metadata": {},
   "outputs": [],
   "source": [
    "model_v.compile(\n",
    "    #optimizer=opt.SGD(learning_rate=0.005,momentum=0.9),\n",
    "    optimizer=opt.Adam(learning_rate=0.005),\n",
    "    #loss=losses.CategoricalCrossentropy(),\n",
    "    loss='categorical_crossentropy',\n",
    "    metrics=['accuracy']\n",
    ")"
   ]
  },
  {
   "cell_type": "code",
   "execution_count": 211,
   "metadata": {
    "scrolled": true
   },
   "outputs": [
    {
     "name": "stdout",
     "output_type": "stream",
     "text": [
      "Epoch 1/50\n",
      "1/1 [==============================] - 0s 144ms/step - loss: 2.1963 - accuracy: 0.1550 - val_loss: 2.5554 - val_accuracy: 0.1429\n",
      "Epoch 2/50\n",
      "1/1 [==============================] - 0s 53ms/step - loss: 2.5647 - accuracy: 0.1429 - val_loss: 2.0047 - val_accuracy: 0.1407\n",
      "Epoch 3/50\n",
      "1/1 [==============================] - 0s 52ms/step - loss: 2.0089 - accuracy: 0.1423 - val_loss: 1.8994 - val_accuracy: 0.2093\n",
      "Epoch 4/50\n",
      "1/1 [==============================] - 0s 49ms/step - loss: 1.8992 - accuracy: 0.2202 - val_loss: 1.9246 - val_accuracy: 0.1414\n",
      "Epoch 5/50\n",
      "1/1 [==============================] - 0s 48ms/step - loss: 1.9211 - accuracy: 0.1430 - val_loss: 1.9385 - val_accuracy: 0.1450\n",
      "Epoch 6/50\n",
      "1/1 [==============================] - 0s 61ms/step - loss: 1.9366 - accuracy: 0.1391 - val_loss: 1.9089 - val_accuracy: 0.1614\n",
      "Epoch 7/50\n",
      "1/1 [==============================] - 0s 57ms/step - loss: 1.9059 - accuracy: 0.1643 - val_loss: 1.8642 - val_accuracy: 0.2514\n",
      "Epoch 8/50\n",
      "1/1 [==============================] - 0s 67ms/step - loss: 1.8644 - accuracy: 0.2407 - val_loss: 1.8382 - val_accuracy: 0.2279\n",
      "Epoch 9/50\n",
      "1/1 [==============================] - 0s 47ms/step - loss: 1.8380 - accuracy: 0.2252 - val_loss: 1.8222 - val_accuracy: 0.2443\n",
      "Epoch 10/50\n",
      "1/1 [==============================] - 0s 63ms/step - loss: 1.8221 - accuracy: 0.2404 - val_loss: 1.7990 - val_accuracy: 0.2400\n",
      "Epoch 11/50\n",
      "1/1 [==============================] - 0s 59ms/step - loss: 1.7988 - accuracy: 0.2421 - val_loss: 1.7688 - val_accuracy: 0.2271\n",
      "Epoch 12/50\n",
      "1/1 [==============================] - 0s 52ms/step - loss: 1.7709 - accuracy: 0.2334 - val_loss: 1.7460 - val_accuracy: 0.2371\n",
      "Epoch 13/50\n",
      "1/1 [==============================] - 0s 48ms/step - loss: 1.7481 - accuracy: 0.2393 - val_loss: 1.7242 - val_accuracy: 0.2521\n",
      "Epoch 14/50\n",
      "1/1 [==============================] - 0s 49ms/step - loss: 1.7269 - accuracy: 0.2546 - val_loss: 1.6987 - val_accuracy: 0.2650\n",
      "Epoch 15/50\n",
      "1/1 [==============================] - 0s 49ms/step - loss: 1.7001 - accuracy: 0.2673 - val_loss: 1.6730 - val_accuracy: 0.3664\n",
      "Epoch 16/50\n",
      "1/1 [==============================] - 0s 43ms/step - loss: 1.6752 - accuracy: 0.3534 - val_loss: 1.6559 - val_accuracy: 0.3579\n",
      "Epoch 17/50\n",
      "1/1 [==============================] - 0s 55ms/step - loss: 1.6579 - accuracy: 0.3452 - val_loss: 1.6392 - val_accuracy: 0.3350\n",
      "Epoch 18/50\n",
      "1/1 [==============================] - 0s 60ms/step - loss: 1.6416 - accuracy: 0.3284 - val_loss: 1.6189 - val_accuracy: 0.2771\n",
      "Epoch 19/50\n",
      "1/1 [==============================] - 0s 53ms/step - loss: 1.6217 - accuracy: 0.2663 - val_loss: 1.5965 - val_accuracy: 0.3157\n",
      "Epoch 20/50\n",
      "1/1 [==============================] - 0s 52ms/step - loss: 1.6011 - accuracy: 0.2996 - val_loss: 1.5765 - val_accuracy: 0.3629\n",
      "Epoch 21/50\n",
      "1/1 [==============================] - 0s 48ms/step - loss: 1.5808 - accuracy: 0.3479 - val_loss: 1.5553 - val_accuracy: 0.3893\n",
      "Epoch 22/50\n",
      "1/1 [==============================] - 0s 51ms/step - loss: 1.5602 - accuracy: 0.3796 - val_loss: 1.5403 - val_accuracy: 0.4007\n",
      "Epoch 23/50\n",
      "1/1 [==============================] - 0s 66ms/step - loss: 1.5479 - accuracy: 0.3895 - val_loss: 1.5324 - val_accuracy: 0.4100\n",
      "Epoch 24/50\n",
      "1/1 [==============================] - 0s 60ms/step - loss: 1.5415 - accuracy: 0.3916 - val_loss: 1.5177 - val_accuracy: 0.4100\n",
      "Epoch 25/50\n",
      "1/1 [==============================] - 0s 88ms/step - loss: 1.5262 - accuracy: 0.4062 - val_loss: 1.4956 - val_accuracy: 0.4064\n",
      "Epoch 26/50\n",
      "1/1 [==============================] - 0s 64ms/step - loss: 1.5023 - accuracy: 0.4114 - val_loss: 1.4751 - val_accuracy: 0.4193\n",
      "Epoch 27/50\n",
      "1/1 [==============================] - 0s 144ms/step - loss: 1.4848 - accuracy: 0.4155 - val_loss: 1.4627 - val_accuracy: 0.4279\n",
      "Epoch 28/50\n",
      "1/1 [==============================] - 0s 77ms/step - loss: 1.4697 - accuracy: 0.4263 - val_loss: 1.4544 - val_accuracy: 0.4400\n",
      "Epoch 29/50\n",
      "1/1 [==============================] - 0s 47ms/step - loss: 1.4710 - accuracy: 0.4334 - val_loss: 1.4390 - val_accuracy: 0.4650\n",
      "Epoch 30/50\n",
      "1/1 [==============================] - 0s 47ms/step - loss: 1.4502 - accuracy: 0.4532 - val_loss: 1.4345 - val_accuracy: 0.4607\n",
      "Epoch 31/50\n",
      "1/1 [==============================] - 0s 53ms/step - loss: 1.4385 - accuracy: 0.4589 - val_loss: 1.4153 - val_accuracy: 0.4564\n",
      "Epoch 32/50\n",
      "1/1 [==============================] - 0s 65ms/step - loss: 1.4198 - accuracy: 0.4405 - val_loss: 1.4115 - val_accuracy: 0.4636\n",
      "Epoch 33/50\n",
      "1/1 [==============================] - 0s 64ms/step - loss: 1.4197 - accuracy: 0.4557 - val_loss: 1.4011 - val_accuracy: 0.4550\n",
      "Epoch 34/50\n",
      "1/1 [==============================] - 0s 70ms/step - loss: 1.4104 - accuracy: 0.4436 - val_loss: 1.3925 - val_accuracy: 0.4450\n",
      "Epoch 35/50\n",
      "1/1 [==============================] - 0s 51ms/step - loss: 1.3998 - accuracy: 0.4350 - val_loss: 1.3908 - val_accuracy: 0.4364\n",
      "Epoch 36/50\n",
      "1/1 [==============================] - 0s 54ms/step - loss: 1.3909 - accuracy: 0.4304 - val_loss: 1.3783 - val_accuracy: 0.4121\n",
      "Epoch 37/50\n",
      "1/1 [==============================] - 0s 54ms/step - loss: 1.3791 - accuracy: 0.4189 - val_loss: 1.3567 - val_accuracy: 0.4264\n",
      "Epoch 38/50\n",
      "1/1 [==============================] - 0s 46ms/step - loss: 1.3598 - accuracy: 0.4298 - val_loss: 1.3498 - val_accuracy: 0.4264\n",
      "Epoch 39/50\n",
      "1/1 [==============================] - 0s 53ms/step - loss: 1.3551 - accuracy: 0.4186 - val_loss: 1.3361 - val_accuracy: 0.4286\n",
      "Epoch 40/50\n",
      "1/1 [==============================] - 0s 55ms/step - loss: 1.3351 - accuracy: 0.4218 - val_loss: 1.3275 - val_accuracy: 0.4571\n",
      "Epoch 41/50\n",
      "1/1 [==============================] - 0s 53ms/step - loss: 1.3216 - accuracy: 0.4382 - val_loss: 1.3164 - val_accuracy: 0.4450\n",
      "Epoch 42/50\n",
      "1/1 [==============================] - 0s 51ms/step - loss: 1.3110 - accuracy: 0.4346 - val_loss: 1.3071 - val_accuracy: 0.4493\n",
      "Epoch 43/50\n",
      "1/1 [==============================] - 0s 44ms/step - loss: 1.3021 - accuracy: 0.4468 - val_loss: 1.2884 - val_accuracy: 0.4671\n",
      "Epoch 44/50\n",
      "1/1 [==============================] - 0s 58ms/step - loss: 1.2888 - accuracy: 0.4725 - val_loss: 1.2644 - val_accuracy: 0.4864\n",
      "Epoch 45/50\n",
      "1/1 [==============================] - 0s 64ms/step - loss: 1.2627 - accuracy: 0.4789 - val_loss: 1.2580 - val_accuracy: 0.4771\n",
      "Epoch 46/50\n",
      "1/1 [==============================] - 0s 68ms/step - loss: 1.2555 - accuracy: 0.4679 - val_loss: 1.2296 - val_accuracy: 0.4871\n",
      "Epoch 47/50\n",
      "1/1 [==============================] - 0s 113ms/step - loss: 1.2242 - accuracy: 0.4759 - val_loss: 1.2300 - val_accuracy: 0.4807\n",
      "Epoch 48/50\n",
      "1/1 [==============================] - 0s 49ms/step - loss: 1.2226 - accuracy: 0.4752 - val_loss: 1.2284 - val_accuracy: 0.4979\n",
      "Epoch 49/50\n",
      "1/1 [==============================] - 0s 54ms/step - loss: 1.2197 - accuracy: 0.4804 - val_loss: 1.2057 - val_accuracy: 0.4914\n",
      "Epoch 50/50\n",
      "1/1 [==============================] - 0s 54ms/step - loss: 1.2025 - accuracy: 0.4821 - val_loss: 1.2115 - val_accuracy: 0.4707\n"
     ]
    }
   ],
   "source": [
    "history_v=model_v.fit(X_train, y_train_hot, epochs=50, batch_size=X_train.shape[0], validation_data=(X_test,y_test_hot))"
   ]
  },
  {
   "cell_type": "code",
   "execution_count": 212,
   "metadata": {},
   "outputs": [],
   "source": [
    "history_dict=history_v.history"
   ]
  },
  {
   "cell_type": "code",
   "execution_count": 213,
   "metadata": {
    "scrolled": true
   },
   "outputs": [
    {
     "data": {
      "image/png": "[encoded data removed]",
      "text/plain": [
       "<Figure size 720x288 with 1 Axes>"
      ]
     },
     "metadata": {
      "needs_background": "light"
     },
     "output_type": "display_data"
    }
   ],
   "source": [
    "loss_v=history_dict['loss']\n",
    "val_loss_v=history_dict['val_loss']\n",
    "epochs=range(1,len(loss_v)+1)\n",
    "\n",
    "plt.figure(figsize=(10,4))\n",
    "plt.plot(epochs,loss_v,'bo',label='Training loss')\n",
    "plt.plot(epochs,val_loss_v,'b',label='Validation loss')\n",
    "plt.xticks(epochs)\n",
    "plt.xlabel('Epochs')\n",
    "plt.ylabel('Loss')\n",
    "plt.legend()\n",
    "plt.tight_layout()\n",
    "#plt.savefig('./Result/New_without_CNN/loss_vowel_128_64_32_16_tanh_softmax_adam_batch200.svg',format='svg', dpi=600)"
   ]
  },
  {
   "cell_type": "code",
   "execution_count": 214,
   "metadata": {},
   "outputs": [
    {
     "data": {
      "text/plain": [
       "<Figure size 432x288 with 0 Axes>"
      ]
     },
     "metadata": {},
     "output_type": "display_data"
    },
    {
     "data": {
      "image/png": "[encoded data removed]",
      "text/plain": [
       "<Figure size 720x288 with 1 Axes>"
      ]
     },
     "metadata": {
      "needs_background": "light"
     },
     "output_type": "display_data"
    }
   ],
   "source": [
    "plt.clf()\n",
    "acc_v=history_dict['accuracy']\n",
    "val_acc_v=history_dict['val_accuracy']\n",
    "\n",
    "plt.figure(figsize=(10,4))\n",
    "plt.plot(epochs,acc_v,'bo',label='Training acc')\n",
    "plt.plot(epochs,val_acc_v,'b',label='Validation acc')\n",
    "plt.xticks(epochs)\n",
    "plt.xlabel('Epochs')\n",
    "plt.ylabel('Accuracy')\n",
    "plt.legend()\n",
    "plt.tight_layout()\n",
    "#plt.savefig('./Result/New_without_CNN/accuracy_vowel_128_64_32_16_tanh_softmax_adam_batch200.svg',format='svg', dpi=600)"
   ]
  },
  {
   "cell_type": "code",
   "execution_count": 81,
   "metadata": {},
   "outputs": [],
   "source": [
    "DATA_PATH=\"./Word_Data/Word/\"\n",
    "n_time_sample=44"
   ]
  },
  {
   "cell_type": "code",
   "execution_count": 82,
   "metadata": {},
   "outputs": [],
   "source": [
    "def get_labels(path=DATA_PATH):\n",
    "    labels=sorted(os.listdir(path))\n",
    "    label_indices=np.arange(0,len(labels))\n",
    "    return labels, label_indices, to_categorical(label_indices)\n",
    "\n",
    "def speech2mfcc(file_path,max_len=n_time_sample):\n",
    "    wave, sr= librosa.load(file_path, mono=True, sr=None)\n",
    "    mfcc=librosa.feature.mfcc(wave,sr=sr,n_mfcc=n_MFCC)\n",
    "    if (max_len > mfcc.shape[1]): #.shape[1], 1-->column\n",
    "        pad_width=max_len-mfcc.shape[1]\n",
    "        mfcc=np.pad(mfcc,pad_width=((0,0),(0,pad_width)),mode='constant')\n",
    "    else:\n",
    "        mfcc=mfcc[:,:max_len]\n",
    "    return mfcc\n",
    "\n",
    "def save_data_to_array(path=DATA_PATH, max_len=n_time_sample):\n",
    "    labels,_,_=get_labels(path)\n",
    "\n",
    "    for label in labels:\n",
    "        mfcc_vectors=[]\n",
    "\n",
    "        speechfiles=[path + label + '/' + speech for speech in sorted(os.listdir(path+'/'+label))]\n",
    "        for speech in tqdm(speechfiles,\"Saving vectors to label -'{}'\".format(label)):\n",
    "            mfcc=speech2mfcc(speech,max_len=max_len)\n",
    "            mfcc_vectors.append(mfcc)\n",
    "            \n",
    "        np.save(label+'.npy',mfcc_vectors)\n",
    "        \n",
    "def get_train_test(split_ratio=0.8,random_state=seed):\n",
    "    labels,indices,_=get_labels(DATA_PATH)\n",
    "\n",
    "    X=np.load(labels[0]+'.npy')\n",
    "    y=np.zeros(X.shape[0])\n",
    "\n",
    "    for i,label in enumerate(labels[1:]):\n",
    "        x=np.load(label+'.npy')\n",
    "        X=np.vstack((X,x))\n",
    "        y=np.append(y,np.full(x.shape[0],fill_value=(i+1)))\n",
    "    assert X.shape[0] == len(y)\n",
    "    return train_test_split(X,y,test_size=(1-split_ratio),random_state=random_state,shuffle=True,stratify=y)"
   ]
  },
  {
   "cell_type": "code",
   "execution_count": 83,
   "metadata": {},
   "outputs": [
    {
     "name": "stderr",
     "output_type": "stream",
     "text": [
      "Saving vectors to label -'Word1': 100%|██████████| 40/40 [00:00<00:00, 92.37it/s]\n",
      "Saving vectors to label -'Word2': 100%|██████████| 40/40 [00:00<00:00, 112.96it/s]\n",
      "Saving vectors to label -'Word3': 100%|██████████| 40/40 [00:00<00:00, 114.83it/s]\n",
      "Saving vectors to label -'Word4': 100%|██████████| 40/40 [00:00<00:00, 88.14it/s]\n",
      "Saving vectors to label -'Word5': 100%|██████████| 40/40 [00:00<00:00, 94.68it/s]\n",
      "Saving vectors to label -'Word6': 100%|██████████| 40/40 [00:00<00:00, 103.70it/s]\n",
      "Saving vectors to label -'Word7': 100%|██████████| 40/40 [00:00<00:00, 105.70it/s]\n"
     ]
    }
   ],
   "source": [
    "save_data_to_array()"
   ]
  },
  {
   "cell_type": "code",
   "execution_count": 106,
   "metadata": {},
   "outputs": [],
   "source": [
    "np.random.seed(seed)\n",
    "\n",
    "X_train, X_test, y_train, y_test=get_train_test()\n",
    "tot_no_MFCC=X_train.shape[1]*X_train.shape[2]\n",
    "X_train=X_train.reshape((X_train.shape[0],-1))\n",
    "X_test=X_test.reshape(X_test.shape[0],-1)\n",
    "y_train_hot=to_categorical(y_train)\n",
    "y_test_hot=to_categorical(y_test)"
   ]
  },
  {
   "cell_type": "code",
   "execution_count": 119,
   "metadata": {},
   "outputs": [],
   "source": [
    "model_w=Sequential()\n",
    "model_w.add(Dense(128, activation='tanh', input_shape=(tot_no_MFCC,)))\n",
    "model_w.add(Dense(64, activation='tanh'))\n",
    "model_w.add(Dense(32, activation='tanh'))\n",
    "model_w.add(Dense(16, activation='tanh'))\n",
    "model_w.add(Dense(7, activation='softmax'))"
   ]
  },
  {
   "cell_type": "code",
   "execution_count": 120,
   "metadata": {},
   "outputs": [],
   "source": [
    "model_w.compile(\n",
    "    optimizer=opt.Adam(learning_rate=0.005),\n",
    "    #loss=losses.CategoricalCrossentropy(),\n",
    "    loss='categorical_crossentropy',\n",
    "    metrics=['accuracy']\n",
    ")"
   ]
  },
  {
   "cell_type": "code",
   "execution_count": 121,
   "metadata": {},
   "outputs": [
    {
     "name": "stdout",
     "output_type": "stream",
     "text": [
      "Epoch 1/50\n",
      "1/1 [==============================] - 0s 150ms/step - loss: 2.1414 - accuracy: 0.1116 - val_loss: 1.9797 - val_accuracy: 0.1964\n",
      "Epoch 2/50\n",
      "1/1 [==============================] - 0s 56ms/step - loss: 1.8981 - accuracy: 0.2366 - val_loss: 1.9269 - val_accuracy: 0.2143\n",
      "Epoch 3/50\n",
      "1/1 [==============================] - 0s 65ms/step - loss: 1.8685 - accuracy: 0.2277 - val_loss: 1.8362 - val_accuracy: 0.2857\n",
      "Epoch 4/50\n",
      "1/1 [==============================] - 0s 45ms/step - loss: 1.7987 - accuracy: 0.3348 - val_loss: 1.7761 - val_accuracy: 0.3393\n",
      "Epoch 5/50\n",
      "1/1 [==============================] - 0s 62ms/step - loss: 1.6728 - accuracy: 0.3973 - val_loss: 1.7242 - val_accuracy: 0.3571\n",
      "Epoch 6/50\n",
      "1/1 [==============================] - 0s 79ms/step - loss: 1.6092 - accuracy: 0.3705 - val_loss: 1.6231 - val_accuracy: 0.4464\n",
      "Epoch 7/50\n",
      "1/1 [==============================] - 0s 71ms/step - loss: 1.5280 - accuracy: 0.4866 - val_loss: 1.6170 - val_accuracy: 0.4286\n",
      "Epoch 8/50\n",
      "1/1 [==============================] - 0s 63ms/step - loss: 1.5327 - accuracy: 0.4464 - val_loss: 1.5536 - val_accuracy: 0.4643\n",
      "Epoch 9/50\n",
      "1/1 [==============================] - 0s 60ms/step - loss: 1.4373 - accuracy: 0.5179 - val_loss: 1.5186 - val_accuracy: 0.4286\n",
      "Epoch 10/50\n",
      "1/1 [==============================] - 0s 51ms/step - loss: 1.4201 - accuracy: 0.4955 - val_loss: 1.3772 - val_accuracy: 0.5536\n",
      "Epoch 11/50\n",
      "1/1 [==============================] - 0s 57ms/step - loss: 1.2761 - accuracy: 0.6741 - val_loss: 1.4511 - val_accuracy: 0.4643\n",
      "Epoch 12/50\n",
      "1/1 [==============================] - 0s 74ms/step - loss: 1.2319 - accuracy: 0.6473 - val_loss: 1.4240 - val_accuracy: 0.5000\n",
      "Epoch 13/50\n",
      "1/1 [==============================] - 0s 74ms/step - loss: 1.2396 - accuracy: 0.6250 - val_loss: 1.3943 - val_accuracy: 0.5714\n",
      "Epoch 14/50\n",
      "1/1 [==============================] - 0s 99ms/step - loss: 1.2361 - accuracy: 0.5804 - val_loss: 1.4449 - val_accuracy: 0.5357\n",
      "Epoch 15/50\n",
      "1/1 [==============================] - 0s 106ms/step - loss: 1.2218 - accuracy: 0.6429 - val_loss: 1.3862 - val_accuracy: 0.4821\n",
      "Epoch 16/50\n",
      "1/1 [==============================] - 0s 48ms/step - loss: 1.0690 - accuracy: 0.6786 - val_loss: 1.2872 - val_accuracy: 0.5536\n",
      "Epoch 17/50\n",
      "1/1 [==============================] - 0s 70ms/step - loss: 1.0725 - accuracy: 0.6250 - val_loss: 1.2617 - val_accuracy: 0.5714\n",
      "Epoch 18/50\n",
      "1/1 [==============================] - 0s 64ms/step - loss: 1.0278 - accuracy: 0.6518 - val_loss: 1.2111 - val_accuracy: 0.5357\n",
      "Epoch 19/50\n",
      "1/1 [==============================] - 0s 41ms/step - loss: 1.0000 - accuracy: 0.6741 - val_loss: 1.2530 - val_accuracy: 0.5536\n",
      "Epoch 20/50\n",
      "1/1 [==============================] - 0s 65ms/step - loss: 0.9756 - accuracy: 0.6920 - val_loss: 1.2739 - val_accuracy: 0.5179\n",
      "Epoch 21/50\n",
      "1/1 [==============================] - 0s 47ms/step - loss: 0.9997 - accuracy: 0.6830 - val_loss: 1.3268 - val_accuracy: 0.5357\n",
      "Epoch 22/50\n",
      "1/1 [==============================] - 0s 67ms/step - loss: 0.9608 - accuracy: 0.7009 - val_loss: 1.3263 - val_accuracy: 0.5536\n",
      "Epoch 23/50\n",
      "1/1 [==============================] - 0s 64ms/step - loss: 0.9590 - accuracy: 0.6830 - val_loss: 1.1853 - val_accuracy: 0.6071\n",
      "Epoch 24/50\n",
      "1/1 [==============================] - 0s 60ms/step - loss: 0.9541 - accuracy: 0.6741 - val_loss: 1.3510 - val_accuracy: 0.5357\n",
      "Epoch 25/50\n",
      "1/1 [==============================] - 0s 54ms/step - loss: 1.1106 - accuracy: 0.6384 - val_loss: 1.2965 - val_accuracy: 0.5000\n",
      "Epoch 26/50\n",
      "1/1 [==============================] - 0s 61ms/step - loss: 1.0560 - accuracy: 0.6696 - val_loss: 1.3495 - val_accuracy: 0.3393\n",
      "Epoch 27/50\n",
      "1/1 [==============================] - 0s 65ms/step - loss: 1.0610 - accuracy: 0.5938 - val_loss: 1.2953 - val_accuracy: 0.4464\n",
      "Epoch 28/50\n",
      "1/1 [==============================] - 0s 43ms/step - loss: 1.0036 - accuracy: 0.7366 - val_loss: 1.2266 - val_accuracy: 0.5179\n",
      "Epoch 29/50\n",
      "1/1 [==============================] - 0s 45ms/step - loss: 0.9740 - accuracy: 0.6964 - val_loss: 1.2377 - val_accuracy: 0.5357\n",
      "Epoch 30/50\n",
      "1/1 [==============================] - 0s 53ms/step - loss: 0.9709 - accuracy: 0.6339 - val_loss: 1.2738 - val_accuracy: 0.4643\n",
      "Epoch 31/50\n",
      "1/1 [==============================] - 0s 43ms/step - loss: 0.9820 - accuracy: 0.6205 - val_loss: 1.1949 - val_accuracy: 0.5000\n",
      "Epoch 32/50\n",
      "1/1 [==============================] - 0s 54ms/step - loss: 0.9062 - accuracy: 0.6607 - val_loss: 1.1563 - val_accuracy: 0.5357\n",
      "Epoch 33/50\n",
      "1/1 [==============================] - 0s 53ms/step - loss: 0.8347 - accuracy: 0.7634 - val_loss: 1.2246 - val_accuracy: 0.5000\n",
      "Epoch 34/50\n",
      "1/1 [==============================] - 0s 63ms/step - loss: 0.8336 - accuracy: 0.7143 - val_loss: 1.2447 - val_accuracy: 0.5536\n",
      "Epoch 35/50\n",
      "1/1 [==============================] - 0s 62ms/step - loss: 0.8328 - accuracy: 0.6830 - val_loss: 1.2143 - val_accuracy: 0.5000\n",
      "Epoch 36/50\n",
      "1/1 [==============================] - 0s 60ms/step - loss: 0.7957 - accuracy: 0.6920 - val_loss: 1.2308 - val_accuracy: 0.5536\n",
      "Epoch 37/50\n",
      "1/1 [==============================] - 0s 40ms/step - loss: 0.8495 - accuracy: 0.7098 - val_loss: 1.3089 - val_accuracy: 0.4821\n",
      "Epoch 38/50\n",
      "1/1 [==============================] - 0s 61ms/step - loss: 0.8092 - accuracy: 0.7143 - val_loss: 1.2531 - val_accuracy: 0.5000\n",
      "Epoch 39/50\n",
      "1/1 [==============================] - 0s 52ms/step - loss: 0.8383 - accuracy: 0.6741 - val_loss: 1.1870 - val_accuracy: 0.4643\n",
      "Epoch 40/50\n",
      "1/1 [==============================] - 0s 61ms/step - loss: 0.7852 - accuracy: 0.6875 - val_loss: 1.2306 - val_accuracy: 0.4643\n",
      "Epoch 41/50\n",
      "1/1 [==============================] - 0s 54ms/step - loss: 0.8030 - accuracy: 0.6786 - val_loss: 1.1020 - val_accuracy: 0.5357\n",
      "Epoch 42/50\n",
      "1/1 [==============================] - 0s 48ms/step - loss: 0.8570 - accuracy: 0.6429 - val_loss: 1.1728 - val_accuracy: 0.4821\n",
      "Epoch 43/50\n",
      "1/1 [==============================] - 0s 90ms/step - loss: 0.8346 - accuracy: 0.6429 - val_loss: 1.1755 - val_accuracy: 0.5357\n",
      "Epoch 44/50\n",
      "1/1 [==============================] - 0s 106ms/step - loss: 0.8382 - accuracy: 0.6786 - val_loss: 1.1991 - val_accuracy: 0.5179\n",
      "Epoch 45/50\n",
      "1/1 [==============================] - 0s 113ms/step - loss: 0.8782 - accuracy: 0.6741 - val_loss: 1.2592 - val_accuracy: 0.5000\n",
      "Epoch 46/50\n",
      "1/1 [==============================] - 0s 80ms/step - loss: 0.9387 - accuracy: 0.6071 - val_loss: 1.2238 - val_accuracy: 0.4821\n",
      "Epoch 47/50\n",
      "1/1 [==============================] - 0s 101ms/step - loss: 0.9642 - accuracy: 0.5848 - val_loss: 1.3712 - val_accuracy: 0.5357\n",
      "Epoch 48/50\n",
      "1/1 [==============================] - 0s 93ms/step - loss: 0.9330 - accuracy: 0.6027 - val_loss: 1.1048 - val_accuracy: 0.6429\n",
      "Epoch 49/50\n",
      "1/1 [==============================] - 0s 97ms/step - loss: 0.8410 - accuracy: 0.6562 - val_loss: 1.1294 - val_accuracy: 0.5179\n",
      "Epoch 50/50\n",
      "1/1 [==============================] - 0s 66ms/step - loss: 0.8524 - accuracy: 0.6161 - val_loss: 1.0741 - val_accuracy: 0.5714\n"
     ]
    }
   ],
   "source": [
    "history_w=model_w.fit(X_train, y_train_hot, epochs=50, batch_size=X_train.shape[0], validation_data=(X_test,y_test_hot))"
   ]
  },
  {
   "cell_type": "code",
   "execution_count": 88,
   "metadata": {},
   "outputs": [],
   "source": [
    "history_dict=history_w.history"
   ]
  },
  {
   "cell_type": "code",
   "execution_count": 89,
   "metadata": {},
   "outputs": [
    {
     "data": {
      "image/png": "[encoded data removed]",
      "text/plain": [
       "<Figure size 720x288 with 1 Axes>"
      ]
     },
     "metadata": {
      "needs_background": "light"
     },
     "output_type": "display_data"
    }
   ],
   "source": [
    "loss_w=history_dict['loss']\n",
    "val_loss_w=history_dict['val_loss']\n",
    "epochs=range(1,len(loss_v)+1)\n",
    "\n",
    "plt.figure(figsize=(10,4))\n",
    "plt.plot(epochs,loss_w,'bo',label='Training loss')\n",
    "plt.plot(epochs,val_loss_w,'b',label='Validation loss')\n",
    "plt.xticks(epochs)\n",
    "plt.xlabel('Epochs')\n",
    "plt.ylabel('Loss')\n",
    "plt.legend()\n",
    "plt.tight_layout()\n",
    "#plt.savefig('./Result/New_without_CNN/loss_vowel_128_64_32_16_tanh_softmax_adam_batch200.svg',format='svg', dpi=600)"
   ]
  },
  {
   "cell_type": "code",
   "execution_count": 90,
   "metadata": {},
   "outputs": [
    {
     "data": {
      "text/plain": [
       "<Figure size 432x288 with 0 Axes>"
      ]
     },
     "metadata": {},
     "output_type": "display_data"
    },
    {
     "data": {
      "image/png": "[encoded data removed]",
      "text/plain": [
       "<Figure size 720x288 with 1 Axes>"
      ]
     },
     "metadata": {
      "needs_background": "light"
     },
     "output_type": "display_data"
    }
   ],
   "source": [
    "plt.clf()\n",
    "acc_w=history_dict['accuracy']\n",
    "val_acc_w=history_dict['val_accuracy']\n",
    "\n",
    "plt.figure(figsize=(10,4))\n",
    "plt.plot(epochs,acc_w,'bo',label='Training acc')\n",
    "plt.plot(epochs,val_acc_w,'b',label='Validation acc')\n",
    "plt.xticks(epochs)\n",
    "plt.xlabel('Epochs')\n",
    "plt.ylabel('Accuracy')\n",
    "plt.legend()\n",
    "plt.tight_layout()\n",
    "#plt.savefig('./Result/New_without_CNN/accuracy_vowel_128_64_32_16_tanh_softmax_adam_batch200.svg',format='svg', dpi=600)"
   ]
  },
  {
   "cell_type": "code",
   "execution_count": 91,
   "metadata": {},
   "outputs": [],
   "source": [
    "#COMPARE"
   ]
  },
  {
   "cell_type": "code",
   "execution_count": 92,
   "metadata": {},
   "outputs": [],
   "source": [
    "epochs=range(1,len(loss_v)+1)"
   ]
  },
  {
   "cell_type": "code",
   "execution_count": 93,
   "metadata": {},
   "outputs": [
    {
     "data": {
      "image/png": "[encoded data removed]",
      "text/plain": [
       "<Figure size 720x288 with 1 Axes>"
      ]
     },
     "metadata": {
      "needs_background": "light"
     },
     "output_type": "display_data"
    }
   ],
   "source": [
    "plt.figure(figsize=(10,4))\n",
    "plt.plot(epochs,loss_v,'r',label='Vowel')\n",
    "plt.plot(epochs,loss_w,'b',label='Word')\n",
    "plt.title('Loss comparison')\n",
    "plt.xticks(epochs)\n",
    "plt.xlabel('Epochs')\n",
    "plt.ylabel('Loss')\n",
    "plt.legend()\n",
    "plt.tight_layout()\n",
    "#plt.savefig('./Result/New_without_CNN/loss_compare_diff_len_128_64_32_16_tanh_softmax_rmsprop_batch128'+'.svg',format='svg',dpi=600)"
   ]
  },
  {
   "cell_type": "code",
   "execution_count": 94,
   "metadata": {},
   "outputs": [
    {
     "data": {
      "image/png": "[encoded data removed]",
      "text/plain": [
       "<Figure size 720x288 with 1 Axes>"
      ]
     },
     "metadata": {
      "needs_background": "light"
     },
     "output_type": "display_data"
    }
   ],
   "source": [
    "plt.figure(figsize=(10,4))\n",
    "plt.plot(epochs,acc_v,'r',label='Vowel')\n",
    "plt.plot(epochs,acc_w,'b',label='Word')\n",
    "plt.title('Accuracy comparison')\n",
    "plt.xticks(epochs)\n",
    "plt.xlabel('Epochs')\n",
    "plt.ylabel('Accuracy')\n",
    "plt.legend()\n",
    "plt.tight_layout()\n",
    "#plt.savefig('./Result/New_without_CNN/accuracy_compare_diff_len_128_64_32_16_tanh_softmax_rmsprop_batch128'+'.svg',format='svg',dpi=600)"
   ]
  }
 ],
 "metadata": {
  "kernelspec": {
   "display_name": "Python 3",
   "language": "python",
   "name": "python3"
  },
  "language_info": {
   "codemirror_mode": {
    "name": "ipython",
    "version": 3
   },
   "file_extension": ".py",
   "mimetype": "text/x-python",
   "name": "python",
   "nbconvert_exporter": "python",
   "pygments_lexer": "ipython3",
   "version": "3.8.3"
  }
 },
 "nbformat": 4,
 "nbformat_minor": 4
}
