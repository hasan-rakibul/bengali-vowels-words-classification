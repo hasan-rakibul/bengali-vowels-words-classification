{
 "cells": [
  {
   "cell_type": "code",
   "execution_count": 17,
   "metadata": {},
   "outputs": [],
   "source": [
    "import os\n",
    "from statistics import mean\n",
    "from tqdm import tqdm\n",
    "import pandas as pd\n",
    "import numpy as np"
   ]
  },
  {
   "cell_type": "code",
   "execution_count": 18,
   "metadata": {},
   "outputs": [],
   "source": [
    "path=\"./Vowel_Data/Formant/\""
   ]
  },
  {
   "cell_type": "code",
   "execution_count": 19,
   "metadata": {},
   "outputs": [],
   "source": [
    "def get_raw_formant(file_path):\n",
    "    formant=pd.read_csv(file_path,\n",
    "                delim_whitespace=True,\n",
    "                header=None,\n",
    "                names=[\"time\",\"F1\",\"F2\",\"F3\",\"F4\",\"F5\"],\n",
    "                dtype=np.float64,\n",
    "                na_values=\"--undefined--\")\n",
    "    return formant"
   ]
  },
  {
   "cell_type": "code",
   "execution_count": null,
   "metadata": {},
   "outputs": [],
   "source": [
    "labels=labels=sorted(os.listdir(path))\n",
    "length_vector=[]   \n",
    "for label_index,label in enumerate(labels):\n",
    "\n",
    "    formant_files=[path + label + '/' + file for file in sorted(os.listdir(path+'/'+label))]\n",
    "    for file in tqdm(formant_files,\"Reading Formants of label -'{}'\".format(label)):\n",
    "        print(file)\n",
    "        individual_formant=get_raw_formant(file_path=file)\n",
    "        length_vector.append(len(individual_formant))\n",
    "        \n",
    "avg_length=mean(length_vector)"
   ]
  },
  {
   "cell_type": "code",
   "execution_count": 24,
   "metadata": {},
   "outputs": [
    {
     "data": {
      "text/plain": [
       "50.575"
      ]
     },
     "execution_count": 24,
     "metadata": {},
     "output_type": "execute_result"
    }
   ],
   "source": [
    "avg_length"
   ]
  },
  {
   "cell_type": "code",
   "execution_count": 29,
   "metadata": {},
   "outputs": [],
   "source": [
    "path=\"./Word_Data/Formant/\""
   ]
  },
  {
   "cell_type": "code",
   "execution_count": 30,
   "metadata": {},
   "outputs": [],
   "source": [
    "def get_raw_formant(file_path):\n",
    "    formant=pd.read_csv(file_path,\n",
    "                delim_whitespace=True,\n",
    "                header=None,\n",
    "                names=[\"time\",\"F1\",\"F2\",\"F3\",\"F4\",\"F5\"],\n",
    "                dtype=np.float64,\n",
    "                na_values=\"--undefined--\")\n",
    "    return formant"
   ]
  },
  {
   "cell_type": "code",
   "execution_count": null,
   "metadata": {},
   "outputs": [],
   "source": [
    "labels=labels=sorted(os.listdir(path))\n",
    "length_vector=[]   \n",
    "for label_index,label in enumerate(labels):\n",
    "\n",
    "    formant_files=[path + label + '/' + file for file in sorted(os.listdir(path+'/'+label))]\n",
    "    for file in tqdm(formant_files,\"Reading Formants of label -'{}'\".format(label)):\n",
    "        print(file)\n",
    "        individual_formant=get_raw_formant(file_path=file)\n",
    "        length_vector.append(len(individual_formant))\n",
    "        \n",
    "avg_length=mean(length_vector)"
   ]
  },
  {
   "cell_type": "code",
   "execution_count": 32,
   "metadata": {},
   "outputs": [
    {
     "data": {
      "text/plain": [
       "70.31071428571428"
      ]
     },
     "execution_count": 32,
     "metadata": {},
     "output_type": "execute_result"
    }
   ],
   "source": [
    "avg_length"
   ]
  },
  {
   "cell_type": "code",
   "execution_count": null,
   "metadata": {},
   "outputs": [],
   "source": []
  }
 ],
 "metadata": {
  "kernelspec": {
   "display_name": "Python 3",
   "language": "python",
   "name": "python3"
  },
  "language_info": {
   "codemirror_mode": {
    "name": "ipython",
    "version": 3
   },
   "file_extension": ".py",
   "mimetype": "text/x-python",
   "name": "python",
   "nbconvert_exporter": "python",
   "pygments_lexer": "ipython3",
   "version": "3.8.3"
  }
 },
 "nbformat": 4,
 "nbformat_minor": 2
}
