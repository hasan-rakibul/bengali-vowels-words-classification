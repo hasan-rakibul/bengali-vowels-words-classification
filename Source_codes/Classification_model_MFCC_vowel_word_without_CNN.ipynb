{
 "cells": [
  {
   "cell_type": "code",
   "execution_count": 1,
   "metadata": {},
   "outputs": [
    {
     "name": "stderr",
     "output_type": "stream",
     "text": [
      "Using TensorFlow backend.\n"
     ]
    }
   ],
   "source": [
    "import librosa\n",
    "import os\n",
    "from sklearn.model_selection import train_test_split\n",
    "from keras.utils import to_categorical\n",
    "import numpy as np\n",
    "from tqdm import tqdm\n",
    "import matplotlib.pyplot as plt\n",
    "import keras\n",
    "from keras.models import Sequential\n",
    "from keras.layers import Dense\n",
    "from keras.optimizers import SGD"
   ]
  },
  {
   "cell_type": "code",
   "execution_count": 2,
   "metadata": {},
   "outputs": [],
   "source": [
    "DATA_PATH=\"./Vowel_Data/Vowel/\"\n",
    "# DATA_PATH=\"./Word_Data/Word/\"\n",
    "\n",
    "n_MFCC=13\n",
    "n_time_sample=33"
   ]
  },
  {
   "cell_type": "code",
   "execution_count": 3,
   "metadata": {},
   "outputs": [],
   "source": [
    "def get_labels(path=DATA_PATH):\n",
    "    labels=os.listdir(path)\n",
    "    label_indices=np.arange(0,len(labels))\n",
    "    return labels, label_indices, to_categorical(label_indices)\n",
    "\n",
    "def speech2mfcc(file_path,max_len=n_time_sample):\n",
    "    wave, sr= librosa.load(file_path, mono=True, sr=None)\n",
    "    mfcc=librosa.feature.mfcc(wave,sr=sr,n_mfcc=n_MFCC)\n",
    "    if (max_len > mfcc.shape[1]): #.shape[1], 1-->column\n",
    "        pad_width=max_len-mfcc.shape[1]\n",
    "        mfcc=np.pad(mfcc,pad_width=((0,0),(0,pad_width)),mode='constant')\n",
    "    else:\n",
    "        mfcc=mfcc[:,:max_len]\n",
    "    return mfcc\n",
    "\n",
    "def save_data_to_array(path=DATA_PATH, max_len=n_time_sample):\n",
    "    labels,_,_=get_labels(path)\n",
    "\n",
    "    for label in labels:\n",
    "        mfcc_vectors=[]\n",
    "\n",
    "        speechfiles=[path + label + '/' + speech for speech in os.listdir(path+'/'+label)]\n",
    "        for speech in tqdm(speechfiles,\"Saving vectors to label -'{}'\".format(label)):\n",
    "            mfcc=speech2mfcc(speech,max_len=max_len)\n",
    "            mfcc_vectors.append(mfcc)\n",
    "            \n",
    "        np.save(label+'.npy',mfcc_vectors)\n",
    "        \n",
    "def get_train_test(split_ratio=0.8,random_state=42):\n",
    "    labels,indices,_=get_labels(DATA_PATH)\n",
    "\n",
    "    X=np.load(labels[0]+'.npy')\n",
    "    y=np.zeros(X.shape[0])\n",
    "\n",
    "    for i,label in enumerate(labels[1:]):\n",
    "        x=np.load(label+'.npy')\n",
    "        X=np.vstack((X,x))\n",
    "        y=np.append(y,np.full(x.shape[0],fill_value=(i+1)))\n",
    "    assert X.shape[0] == len(y)\n",
    "    return train_test_split(X,y,test_size=(1-split_ratio),random_state=random_state,shuffle=True)"
   ]
  },
  {
   "cell_type": "code",
   "execution_count": 4,
   "metadata": {},
   "outputs": [
    {
     "name": "stderr",
     "output_type": "stream",
     "text": [
      "Saving vectors to label -'vowel1': 100%|██████████| 40/40 [00:05<00:00,  9.75it/s]\n",
      "Saving vectors to label -'vowel2': 100%|██████████| 40/40 [00:05<00:00,  7.87it/s]\n",
      "Saving vectors to label -'vowel3': 100%|██████████| 40/40 [00:04<00:00,  8.77it/s]\n",
      "Saving vectors to label -'vowel4': 100%|██████████| 40/40 [00:03<00:00, 10.66it/s]\n",
      "Saving vectors to label -'vowel5': 100%|██████████| 40/40 [00:04<00:00, 10.35it/s]\n",
      "Saving vectors to label -'vowel6': 100%|██████████| 40/40 [00:04<00:00,  9.83it/s]\n",
      "Saving vectors to label -'vowel7': 100%|██████████| 40/40 [00:03<00:00, 10.16it/s]\n"
     ]
    }
   ],
   "source": [
    "save_data_to_array()"
   ]
  },
  {
   "cell_type": "code",
   "execution_count": 4,
   "metadata": {},
   "outputs": [],
   "source": [
    "X_train, X_test, y_train, y_test=get_train_test()\n",
    "tot_no_MFCC=X_train.shape[1]*X_train.shape[2]\n",
    "X_train=X_train.reshape((X_train.shape[0],tot_no_MFCC))\n",
    "X_test=X_test.reshape(X_test.shape[0],tot_no_MFCC)\n",
    "y_train_hot=to_categorical(y_train)\n",
    "y_test_hot=to_categorical(y_test)"
   ]
  },
  {
   "cell_type": "code",
   "execution_count": 21,
   "metadata": {},
   "outputs": [
    {
     "name": "stdout",
     "output_type": "stream",
     "text": [
      "Train on 224 samples, validate on 56 samples\n",
      "Epoch 1/50\n",
      "224/224 [==============================] - 1s 2ms/step - loss: 2.0157 - acc: 0.1607 - val_loss: 1.8980 - val_acc: 0.2321\n",
      "Epoch 2/50\n",
      "224/224 [==============================] - 0s 80us/step - loss: 1.7369 - acc: 0.3170 - val_loss: 1.7940 - val_acc: 0.2679\n",
      "Epoch 3/50\n",
      "224/224 [==============================] - 0s 84us/step - loss: 1.6408 - acc: 0.4107 - val_loss: 1.6977 - val_acc: 0.3036\n",
      "Epoch 4/50\n",
      "224/224 [==============================] - 0s 66us/step - loss: 1.5887 - acc: 0.4732 - val_loss: 1.6203 - val_acc: 0.4107\n",
      "Epoch 5/50\n",
      "224/224 [==============================] - 0s 124us/step - loss: 1.5154 - acc: 0.5268 - val_loss: 1.5956 - val_acc: 0.4107\n",
      "Epoch 6/50\n",
      "224/224 [==============================] - 0s 205us/step - loss: 1.4833 - acc: 0.5402 - val_loss: 1.5912 - val_acc: 0.3750\n",
      "Epoch 7/50\n",
      "224/224 [==============================] - 0s 78us/step - loss: 1.4383 - acc: 0.5402 - val_loss: 1.5710 - val_acc: 0.3571\n",
      "Epoch 8/50\n",
      "224/224 [==============================] - 0s 99us/step - loss: 1.3878 - acc: 0.5491 - val_loss: 1.5057 - val_acc: 0.3750\n",
      "Epoch 9/50\n",
      "224/224 [==============================] - 0s 118us/step - loss: 1.3366 - acc: 0.5982 - val_loss: 1.4134 - val_acc: 0.4821\n",
      "Epoch 10/50\n",
      "224/224 [==============================] - 0s 104us/step - loss: 1.2951 - acc: 0.5937 - val_loss: 1.3298 - val_acc: 0.5714\n",
      "Epoch 11/50\n",
      "224/224 [==============================] - 0s 71us/step - loss: 1.2681 - acc: 0.6384 - val_loss: 1.3300 - val_acc: 0.5536\n",
      "Epoch 12/50\n",
      "224/224 [==============================] - 0s 70us/step - loss: 1.2299 - acc: 0.6384 - val_loss: 1.3126 - val_acc: 0.5536\n",
      "Epoch 13/50\n",
      "224/224 [==============================] - 0s 79us/step - loss: 1.2005 - acc: 0.6429 - val_loss: 1.3038 - val_acc: 0.5536\n",
      "Epoch 14/50\n",
      "224/224 [==============================] - 0s 82us/step - loss: 1.1631 - acc: 0.6339 - val_loss: 1.2795 - val_acc: 0.5536\n",
      "Epoch 15/50\n",
      "224/224 [==============================] - 0s 62us/step - loss: 1.1263 - acc: 0.6607 - val_loss: 1.2029 - val_acc: 0.6250\n",
      "Epoch 16/50\n",
      "224/224 [==============================] - 0s 127us/step - loss: 1.0777 - acc: 0.6920 - val_loss: 1.2050 - val_acc: 0.5893\n",
      "Epoch 17/50\n",
      "224/224 [==============================] - 0s 105us/step - loss: 1.0313 - acc: 0.7098 - val_loss: 1.2113 - val_acc: 0.5893\n",
      "Epoch 18/50\n",
      "224/224 [==============================] - 0s 143us/step - loss: 1.0121 - acc: 0.7098 - val_loss: 1.1904 - val_acc: 0.6071\n",
      "Epoch 19/50\n",
      "224/224 [==============================] - 0s 152us/step - loss: 0.9947 - acc: 0.7455 - val_loss: 1.1566 - val_acc: 0.6607\n",
      "Epoch 20/50\n",
      "224/224 [==============================] - 0s 118us/step - loss: 0.9850 - acc: 0.7411 - val_loss: 1.1468 - val_acc: 0.6429\n",
      "Epoch 21/50\n",
      "224/224 [==============================] - 0s 130us/step - loss: 0.9604 - acc: 0.7411 - val_loss: 1.1107 - val_acc: 0.6429\n",
      "Epoch 22/50\n",
      "224/224 [==============================] - 0s 86us/step - loss: 0.9463 - acc: 0.7411 - val_loss: 1.0805 - val_acc: 0.6429\n",
      "Epoch 23/50\n",
      "224/224 [==============================] - 0s 147us/step - loss: 0.9284 - acc: 0.7634 - val_loss: 1.0455 - val_acc: 0.6607\n",
      "Epoch 24/50\n",
      "224/224 [==============================] - 0s 130us/step - loss: 0.9176 - acc: 0.7455 - val_loss: 1.0337 - val_acc: 0.6964\n",
      "Epoch 25/50\n",
      "224/224 [==============================] - 0s 122us/step - loss: 0.9206 - acc: 0.7500 - val_loss: 1.0456 - val_acc: 0.7143\n",
      "Epoch 26/50\n",
      "224/224 [==============================] - 0s 117us/step - loss: 0.8991 - acc: 0.7634 - val_loss: 1.1061 - val_acc: 0.6607\n",
      "Epoch 27/50\n",
      "224/224 [==============================] - 0s 103us/step - loss: 0.8778 - acc: 0.7902 - val_loss: 1.1197 - val_acc: 0.6429\n",
      "Epoch 28/50\n",
      "224/224 [==============================] - 0s 113us/step - loss: 0.8620 - acc: 0.8170 - val_loss: 1.1263 - val_acc: 0.6071\n",
      "Epoch 29/50\n",
      "224/224 [==============================] - 0s 107us/step - loss: 0.8620 - acc: 0.7946 - val_loss: 1.0981 - val_acc: 0.6250\n",
      "Epoch 30/50\n",
      "224/224 [==============================] - 0s 94us/step - loss: 0.8485 - acc: 0.7768 - val_loss: 1.0268 - val_acc: 0.5714\n",
      "Epoch 31/50\n",
      "224/224 [==============================] - 0s 108us/step - loss: 0.8198 - acc: 0.7902 - val_loss: 0.9317 - val_acc: 0.6786\n",
      "Epoch 32/50\n",
      "224/224 [==============================] - 0s 145us/step - loss: 0.7967 - acc: 0.8214 - val_loss: 0.9162 - val_acc: 0.7143\n",
      "Epoch 33/50\n",
      "224/224 [==============================] - 0s 79us/step - loss: 0.7768 - acc: 0.7946 - val_loss: 0.9064 - val_acc: 0.6607\n",
      "Epoch 34/50\n",
      "224/224 [==============================] - 0s 68us/step - loss: 0.7418 - acc: 0.8125 - val_loss: 0.8878 - val_acc: 0.7143\n",
      "Epoch 35/50\n",
      "224/224 [==============================] - 0s 89us/step - loss: 0.6949 - acc: 0.8304 - val_loss: 0.9063 - val_acc: 0.6607\n",
      "Epoch 36/50\n",
      "224/224 [==============================] - 0s 70us/step - loss: 0.6977 - acc: 0.8438 - val_loss: 0.8903 - val_acc: 0.6786\n",
      "Epoch 37/50\n",
      "224/224 [==============================] - 0s 133us/step - loss: 0.6707 - acc: 0.8616 - val_loss: 0.8543 - val_acc: 0.6964\n",
      "Epoch 38/50\n",
      "224/224 [==============================] - 0s 91us/step - loss: 0.6620 - acc: 0.8795 - val_loss: 0.8408 - val_acc: 0.7321\n",
      "Epoch 39/50\n",
      "224/224 [==============================] - 0s 87us/step - loss: 0.6969 - acc: 0.8438 - val_loss: 0.8135 - val_acc: 0.7500\n",
      "Epoch 40/50\n",
      "224/224 [==============================] - 0s 80us/step - loss: 0.6959 - acc: 0.8393 - val_loss: 0.8364 - val_acc: 0.7500\n",
      "Epoch 41/50\n",
      "224/224 [==============================] - 0s 110us/step - loss: 0.6833 - acc: 0.8304 - val_loss: 0.8185 - val_acc: 0.7143\n",
      "Epoch 42/50\n",
      "224/224 [==============================] - 0s 75us/step - loss: 0.6631 - acc: 0.8616 - val_loss: 0.8869 - val_acc: 0.7500\n",
      "Epoch 43/50\n",
      "224/224 [==============================] - 0s 131us/step - loss: 0.6999 - acc: 0.8214 - val_loss: 0.8759 - val_acc: 0.7143\n",
      "Epoch 44/50\n",
      "224/224 [==============================] - 0s 117us/step - loss: 0.6779 - acc: 0.8170 - val_loss: 0.7738 - val_acc: 0.7679\n",
      "Epoch 45/50\n",
      "224/224 [==============================] - 0s 105us/step - loss: 0.6189 - acc: 0.8482 - val_loss: 0.7123 - val_acc: 0.7857\n",
      "Epoch 46/50\n",
      "224/224 [==============================] - 0s 95us/step - loss: 0.6187 - acc: 0.8616 - val_loss: 0.7134 - val_acc: 0.7679\n",
      "Epoch 47/50\n",
      "224/224 [==============================] - 0s 86us/step - loss: 0.6554 - acc: 0.8304 - val_loss: 0.7230 - val_acc: 0.7679\n",
      "Epoch 48/50\n",
      "224/224 [==============================] - 0s 110us/step - loss: 0.6286 - acc: 0.8259 - val_loss: 0.7244 - val_acc: 0.7500\n",
      "Epoch 49/50\n",
      "224/224 [==============================] - 0s 121us/step - loss: 0.5892 - acc: 0.8661 - val_loss: 0.8208 - val_acc: 0.6786\n",
      "Epoch 50/50\n",
      "224/224 [==============================] - 0s 123us/step - loss: 0.6530 - acc: 0.8214 - val_loss: 0.8560 - val_acc: 0.6429\n"
     ]
    }
   ],
   "source": [
    "model=Sequential()\n",
    "model.add(Dense(128, activation='tanh', input_shape=(tot_no_MFCC,)))\n",
    "model.add(Dense(64, activation='tanh'))\n",
    "model.add(Dense(32, activation='tanh'))\n",
    "model.add(Dense(16, activation='tanh'))\n",
    "model.add(Dense(7, activation='softmax'))\n",
    "# opt = SGD(lr=0.001, momentum=0.1, decay=0.01)\n",
    "# model.compile(optimizer=opt,loss='categorical_crossentropy',metrics=['accuracy'])\n",
    "model.compile(optimizer='adam',loss='categorical_crossentropy', metrics=['accuracy'])\n",
    "history=model.fit(X_train, y_train_hot, epochs=50, batch_size=200, validation_data=(X_test,y_test_hot))"
   ]
  },
  {
   "cell_type": "code",
   "execution_count": 45,
   "metadata": {
    "collapsed": true
   },
   "outputs": [
    {
     "name": "stdout",
     "output_type": "stream",
     "text": [
      "Train on 224 samples, validate on 56 samples\n",
      "Epoch 1/20\n",
      "224/224 [==============================] - 1s 3ms/step - loss: 1.9554 - acc: 0.1830 - val_loss: 1.8643 - val_acc: 0.2143\n",
      "Epoch 2/20\n",
      "224/224 [==============================] - 0s 55us/step - loss: 1.7484 - acc: 0.3839 - val_loss: 1.6898 - val_acc: 0.3750\n",
      "Epoch 3/20\n",
      "224/224 [==============================] - 0s 125us/step - loss: 1.6229 - acc: 0.4062 - val_loss: 1.6228 - val_acc: 0.4107\n",
      "Epoch 4/20\n",
      "224/224 [==============================] - 0s 146us/step - loss: 1.5500 - acc: 0.4687 - val_loss: 1.5978 - val_acc: 0.4107\n",
      "Epoch 5/20\n",
      "224/224 [==============================] - 0s 80us/step - loss: 1.5013 - acc: 0.4375 - val_loss: 1.4975 - val_acc: 0.4107\n",
      "Epoch 6/20\n",
      "224/224 [==============================] - 0s 89us/step - loss: 1.4486 - acc: 0.4420 - val_loss: 1.5850 - val_acc: 0.3571\n",
      "Epoch 7/20\n",
      "224/224 [==============================] - 0s 111us/step - loss: 1.4479 - acc: 0.4152 - val_loss: 1.4517 - val_acc: 0.4821\n",
      "Epoch 8/20\n",
      "224/224 [==============================] - 0s 92us/step - loss: 1.3131 - acc: 0.6027 - val_loss: 1.4765 - val_acc: 0.4286\n",
      "Epoch 9/20\n",
      "224/224 [==============================] - 0s 109us/step - loss: 1.2887 - acc: 0.5580 - val_loss: 1.2889 - val_acc: 0.5179\n",
      "Epoch 10/20\n",
      "224/224 [==============================] - 0s 131us/step - loss: 1.2641 - acc: 0.5491 - val_loss: 1.5453 - val_acc: 0.2679\n",
      "Epoch 11/20\n",
      "224/224 [==============================] - 0s 98us/step - loss: 1.2569 - acc: 0.5491 - val_loss: 1.1922 - val_acc: 0.6071\n",
      "Epoch 12/20\n",
      "224/224 [==============================] - 0s 132us/step - loss: 1.1478 - acc: 0.6473 - val_loss: 1.3100 - val_acc: 0.4464\n",
      "Epoch 13/20\n",
      "224/224 [==============================] - 0s 128us/step - loss: 1.1584 - acc: 0.5893 - val_loss: 1.2729 - val_acc: 0.4464\n",
      "Epoch 14/20\n",
      "224/224 [==============================] - 0s 146us/step - loss: 1.0805 - acc: 0.6250 - val_loss: 1.1850 - val_acc: 0.5536\n",
      "Epoch 15/20\n",
      "224/224 [==============================] - 0s 125us/step - loss: 1.1881 - acc: 0.5714 - val_loss: 1.2289 - val_acc: 0.4643\n",
      "Epoch 16/20\n",
      "224/224 [==============================] - 0s 106us/step - loss: 1.1053 - acc: 0.6071 - val_loss: 1.1007 - val_acc: 0.6071\n",
      "Epoch 17/20\n",
      "224/224 [==============================] - 0s 98us/step - loss: 1.0661 - acc: 0.6027 - val_loss: 1.1883 - val_acc: 0.4643\n",
      "Epoch 18/20\n",
      "224/224 [==============================] - 0s 117us/step - loss: 1.0769 - acc: 0.5893 - val_loss: 1.1955 - val_acc: 0.4821\n",
      "Epoch 19/20\n",
      "224/224 [==============================] - 0s 129us/step - loss: 1.0439 - acc: 0.6607 - val_loss: 1.1677 - val_acc: 0.5357\n",
      "Epoch 20/20\n",
      "224/224 [==============================] - 0s 80us/step - loss: 0.9660 - acc: 0.6875 - val_loss: 1.0839 - val_acc: 0.5714\n"
     ]
    }
   ],
   "source": [
    "# model.compile(loss=keras.losses.categorical_crossentropy,optimizer=keras.optimizers.adadelta(),metrics=['accuracy'])\n",
    "# history=model.fit(X_train,y_train_hot,batch_size=128,epochs=20,verbose=1,validation_data=(X_test,y_test_hot))\n",
    "# history=model.fit(X_train,y_train_hot,batch_size=128,epochs=20,verbose=1)"
   ]
  },
  {
   "cell_type": "code",
   "execution_count": 27,
   "metadata": {},
   "outputs": [],
   "source": [
    "# history_dict=history.history\n",
    "# final_loss=history_dict['loss'][-1]\n",
    "# final_acc=history_dict['acc'][-1]\n",
    "# np.save('./Result/Training_trial7.npy',[final_loss, final_acc])\n",
    "# np.load('./Result/Training_trial5.npy')"
   ]
  },
  {
   "cell_type": "code",
   "execution_count": 22,
   "metadata": {},
   "outputs": [],
   "source": [
    "history_dict=history.history\n",
    "loss_values=history_dict['loss']\n",
    "val_loss_values=history_dict['val_loss']\n",
    "epochs=range(1,len(loss_values)+1)"
   ]
  },
  {
   "cell_type": "code",
   "execution_count": 23,
   "metadata": {},
   "outputs": [
    {
     "data": {
      "image/png": "[encoded data removed]",
      "text/plain": [
       "<Figure size 720x288 with 1 Axes>"
      ]
     },
     "metadata": {
      "needs_background": "light"
     },
     "output_type": "display_data"
    }
   ],
   "source": [
    "plt.figure(figsize=(10,4))\n",
    "plt.plot(epochs,loss_values,'bo',label='Training loss')\n",
    "plt.plot(epochs,val_loss_values,'b',label='Validation loss')\n",
    "plt.xticks(epochs)\n",
    "plt.xlabel('Epochs')\n",
    "plt.ylabel('Loss')\n",
    "plt.legend()\n",
    "plt.tight_layout()\n",
    "plt.savefig('./Result/New_without_CNN/loss_vowel_128_64_32_16_tanh_softmax_adam_batch200.svg',format='svg', dpi=600)"
   ]
  },
  {
   "cell_type": "code",
   "execution_count": 24,
   "metadata": {},
   "outputs": [
    {
     "data": {
      "text/plain": [
       "<Figure size 432x288 with 0 Axes>"
      ]
     },
     "metadata": {},
     "output_type": "display_data"
    }
   ],
   "source": [
    "plt.clf()\n",
    "acc_values=history_dict['acc']\n",
    "val_acc_values=history_dict['val_acc']"
   ]
  },
  {
   "cell_type": "code",
   "execution_count": 25,
   "metadata": {},
   "outputs": [
    {
     "data": {
      "image/png": "[encoded data removed]",
      "text/plain": [
       "<Figure size 720x288 with 1 Axes>"
      ]
     },
     "metadata": {
      "needs_background": "light"
     },
     "output_type": "display_data"
    }
   ],
   "source": [
    "plt.figure(figsize=(10,4))\n",
    "plt.plot(epochs,acc_values,'bo',label='Training acc')\n",
    "plt.plot(epochs,val_acc_values,'b',label='Validation acc')\n",
    "plt.xticks(epochs)\n",
    "plt.xlabel('Epochs')\n",
    "plt.ylabel('Accuracy')\n",
    "plt.legend()\n",
    "plt.tight_layout()\n",
    "plt.savefig('./Result/New_without_CNN/accuracy_vowel_128_64_32_16_tanh_softmax_adam_batch200.svg',format='svg', dpi=600)"
   ]
  },
  {
   "cell_type": "code",
   "execution_count": 19,
   "metadata": {},
   "outputs": [
    {
     "name": "stdout",
     "output_type": "stream",
     "text": [
      "_________________________________________________________________\n",
      "Layer (type)                 Output Shape              Param #   \n",
      "=================================================================\n",
      "dense_6 (Dense)              (None, 128)               58368     \n",
      "_________________________________________________________________\n",
      "dense_7 (Dense)              (None, 64)                8256      \n",
      "_________________________________________________________________\n",
      "dense_8 (Dense)              (None, 32)                2080      \n",
      "_________________________________________________________________\n",
      "dense_9 (Dense)              (None, 16)                528       \n",
      "_________________________________________________________________\n",
      "dense_10 (Dense)             (None, 7)                 119       \n",
      "=================================================================\n",
      "Total params: 69,351\n",
      "Trainable params: 69,351\n",
      "Non-trainable params: 0\n",
      "_________________________________________________________________\n"
     ]
    }
   ],
   "source": [
    "model.summary()"
   ]
  }
 ],
 "metadata": {
  "kernelspec": {
   "display_name": "Python 3",
   "language": "python",
   "name": "python3"
  },
  "language_info": {
   "codemirror_mode": {
    "name": "ipython",
    "version": 3
   },
   "file_extension": ".py",
   "mimetype": "text/x-python",
   "name": "python",
   "nbconvert_exporter": "python",
   "pygments_lexer": "ipython3",
   "version": "3.8.3"
  }
 },
 "nbformat": 4,
 "nbformat_minor": 2
}
