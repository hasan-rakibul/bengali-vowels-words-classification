{
 "cells": [
  {
   "cell_type": "code",
   "execution_count": 1,
   "metadata": {},
   "outputs": [],
   "source": [
    "import os,librosa\n",
    "import numpy as np\n",
    "import matplotlib.pyplot as plt\n",
    "from sklearn.model_selection import train_test_split\n",
    "from tqdm import tqdm\n",
    "from tensorflow.keras.models import Sequential\n",
    "from tensorflow.keras.layers import Dense\n",
    "from tensorflow.keras import optimizers as opt\n",
    "from tensorflow.keras.utils import to_categorical"
   ]
  },
  {
   "cell_type": "code",
   "execution_count": 24,
   "metadata": {},
   "outputs": [],
   "source": [
    "DATA_PATH=\"./Vowel_Data/Vowel/\"\n",
    "\n",
    "n_MFCC=13\n",
    "n_time_sample=33"
   ]
  },
  {
   "cell_type": "code",
   "execution_count": 62,
   "metadata": {},
   "outputs": [],
   "source": [
    "def get_labels(path=DATA_PATH):\n",
    "    labels=sorted(os.listdir(path))\n",
    "    label_indices=np.arange(0,len(labels))\n",
    "    return labels, label_indices, to_categorical(label_indices)\n",
    "\n",
    "def speech2mfcc(file_path,max_len=n_time_sample):\n",
    "    wave, sr= librosa.load(file_path, mono=True, sr=None)\n",
    "    mfcc=librosa.feature.mfcc(wave,sr=sr,n_mfcc=n_MFCC)\n",
    "    if (max_len > mfcc.shape[1]): #.shape[1], 1-->column\n",
    "        pad_width=max_len-mfcc.shape[1]\n",
    "        mfcc=np.pad(mfcc,pad_width=((0,0),(0,pad_width)),mode='constant')\n",
    "    else:\n",
    "        mfcc=mfcc[:,:max_len]\n",
    "    return mfcc\n",
    "\n",
    "def save_data_to_array(path=DATA_PATH, max_len=n_time_sample):\n",
    "    labels,_,_=get_labels(path)\n",
    "\n",
    "    for label in labels:\n",
    "        mfcc_vectors=[]\n",
    "\n",
    "        speechfiles=[path + label + '/' + speech for speech in sorted(os.listdir(path+'/'+label))]\n",
    "        for speech in tqdm(speechfiles,\"Saving vectors to label -'{}'\".format(label)):\n",
    "            mfcc=speech2mfcc(speech,max_len=max_len)\n",
    "            mfcc_vectors.append(mfcc)\n",
    "            \n",
    "        np.save(label+'.npy',mfcc_vectors)\n",
    "        \n",
    "def get_train_test(split_ratio=0.8,random_state=42):\n",
    "    labels,indices,_=get_labels(DATA_PATH)\n",
    "\n",
    "    X=np.load(labels[0]+'.npy')\n",
    "    y=np.zeros(X.shape[0])\n",
    "\n",
    "    for i,label in enumerate(labels[1:]):\n",
    "        x=np.load(label+'.npy')\n",
    "        X=np.vstack((X,x))\n",
    "        y=np.append(y,np.full(x.shape[0],fill_value=(i+1)))\n",
    "    assert X.shape[0] == len(y)\n",
    "    return train_test_split(X,y,test_size=(1-split_ratio),random_state=random_state,shuffle=True,stratify=y)"
   ]
  },
  {
   "cell_type": "code",
   "execution_count": 63,
   "metadata": {},
   "outputs": [
    {
     "data": {
      "text/plain": [
       "array([[1., 0., 0., 0., 0., 0., 0.],\n",
       "       [0., 1., 0., 0., 0., 0., 0.],\n",
       "       [0., 0., 1., 0., 0., 0., 0.],\n",
       "       [0., 0., 0., 1., 0., 0., 0.],\n",
       "       [0., 0., 0., 0., 1., 0., 0.],\n",
       "       [0., 0., 0., 0., 0., 1., 0.],\n",
       "       [0., 0., 0., 0., 0., 0., 1.]], dtype=float32)"
      ]
     },
     "execution_count": 63,
     "metadata": {},
     "output_type": "execute_result"
    }
   ],
   "source": [
    "path=DATA_PATH\n",
    "labels=sorted(os.listdir(path))\n",
    "label_indices=np.arange(0,len(labels))\n",
    "to_categorical(label_indices)"
   ]
  },
  {
   "cell_type": "code",
   "execution_count": 64,
   "metadata": {},
   "outputs": [
    {
     "data": {
      "text/plain": [
       "['vowel1', 'vowel2', 'vowel3', 'vowel4', 'vowel5', 'vowel6', 'vowel7']"
      ]
     },
     "execution_count": 64,
     "metadata": {},
     "output_type": "execute_result"
    }
   ],
   "source": [
    "labels"
   ]
  },
  {
   "cell_type": "code",
   "execution_count": 65,
   "metadata": {
    "scrolled": true
   },
   "outputs": [],
   "source": [
    "file_path='./Vowel_Data/Vowel/vowel7/vowel7_28.wav'\n",
    "max_len=n_time_sample\n",
    "wave, sr= librosa.load(file_path, mono=True, sr=None)\n",
    "mfcc=librosa.feature.mfcc(wave,sr=sr,n_mfcc=n_MFCC)\n",
    "if (max_len > mfcc.shape[1]): #shape[1], 1-->column\n",
    "    pad_width=max_len-mfcc.shape[1]\n",
    "    mfcc=np.pad(mfcc,pad_width=((0,0),(0,pad_width)),mode='constant')\n",
    "else:\n",
    "    mfcc=mfcc[:,:max_len]\n"
   ]
  },
  {
   "cell_type": "code",
   "execution_count": 66,
   "metadata": {},
   "outputs": [
    {
     "data": {
      "text/plain": [
       "(13, 33)"
      ]
     },
     "execution_count": 66,
     "metadata": {},
     "output_type": "execute_result"
    }
   ],
   "source": [
    "mfcc.shape"
   ]
  },
  {
   "cell_type": "code",
   "execution_count": 67,
   "metadata": {
    "collapsed": true
   },
   "outputs": [
    {
     "name": "stderr",
     "output_type": "stream",
     "text": [
      "Saving vectors to label -'vowel1':  18%|█▊        | 7/40 [00:00<00:00, 63.44it/s]"
     ]
    },
    {
     "name": "stdout",
     "output_type": "stream",
     "text": [
      "./Vowel_Data/Vowel/vowel1/vowel1_1.wav\n",
      "./Vowel_Data/Vowel/vowel1/vowel1_10.wav\n",
      "./Vowel_Data/Vowel/vowel1/vowel1_11.wav\n",
      "./Vowel_Data/Vowel/vowel1/vowel1_12.wav\n",
      "./Vowel_Data/Vowel/vowel1/vowel1_13.wav\n",
      "./Vowel_Data/Vowel/vowel1/vowel1_14.wav\n",
      "./Vowel_Data/Vowel/vowel1/vowel1_15.wav\n",
      "./Vowel_Data/Vowel/vowel1/vowel1_16.wav\n",
      "./Vowel_Data/Vowel/vowel1/vowel1_17.wav\n",
      "./Vowel_Data/Vowel/vowel1/vowel1_18.wav\n",
      "./Vowel_Data/Vowel/vowel1/vowel1_19.wav\n",
      "./Vowel_Data/Vowel/vowel1/vowel1_2.wav\n",
      "./Vowel_Data/Vowel/vowel1/vowel1_20.wav\n",
      "./Vowel_Data/Vowel/vowel1/vowel1_21.wav\n",
      "./Vowel_Data/Vowel/vowel1/vowel1_22.wav\n",
      "./Vowel_Data/Vowel/vowel1/vowel1_23.wav\n",
      "./Vowel_Data/Vowel/vowel1/vowel1_24.wav\n",
      "./Vowel_Data/Vowel/vowel1/vowel1_25.wav\n",
      "./Vowel_Data/Vowel/vowel1/vowel1_26.wav\n",
      "./Vowel_Data/Vowel/vowel1/vowel1_27.wav\n"
     ]
    },
    {
     "name": "stderr",
     "output_type": "stream",
     "text": [
      "Saving vectors to label -'vowel1': 100%|██████████| 40/40 [00:00<00:00, 115.23it/s]\n",
      "Saving vectors to label -'vowel2':   0%|          | 0/40 [00:00<?, ?it/s]"
     ]
    },
    {
     "name": "stdout",
     "output_type": "stream",
     "text": [
      "./Vowel_Data/Vowel/vowel1/vowel1_28.wav\n",
      "./Vowel_Data/Vowel/vowel1/vowel1_29.wav\n",
      "./Vowel_Data/Vowel/vowel1/vowel1_3.wav\n",
      "./Vowel_Data/Vowel/vowel1/vowel1_30.wav\n",
      "./Vowel_Data/Vowel/vowel1/vowel1_31.wav\n",
      "./Vowel_Data/Vowel/vowel1/vowel1_32.wav\n",
      "./Vowel_Data/Vowel/vowel1/vowel1_33.wav\n",
      "./Vowel_Data/Vowel/vowel1/vowel1_34.wav\n",
      "./Vowel_Data/Vowel/vowel1/vowel1_35.wav\n",
      "./Vowel_Data/Vowel/vowel1/vowel1_36.wav\n",
      "./Vowel_Data/Vowel/vowel1/vowel1_37.wav\n",
      "./Vowel_Data/Vowel/vowel1/vowel1_38.wav\n",
      "./Vowel_Data/Vowel/vowel1/vowel1_39.wav\n",
      "./Vowel_Data/Vowel/vowel1/vowel1_4.wav\n",
      "./Vowel_Data/Vowel/vowel1/vowel1_40.wav\n",
      "./Vowel_Data/Vowel/vowel1/vowel1_5.wav\n",
      "./Vowel_Data/Vowel/vowel1/vowel1_6.wav\n",
      "./Vowel_Data/Vowel/vowel1/vowel1_7.wav\n",
      "./Vowel_Data/Vowel/vowel1/vowel1_8.wav\n",
      "./Vowel_Data/Vowel/vowel1/vowel1_9.wav\n",
      "./Vowel_Data/Vowel/vowel2/vowel2_1.wav\n",
      "./Vowel_Data/Vowel/vowel2/vowel2_10.wav\n",
      "./Vowel_Data/Vowel/vowel2/vowel2_11.wav\n",
      "./Vowel_Data/Vowel/vowel2/vowel2_12.wav\n",
      "./Vowel_Data/Vowel/vowel2/vowel2_13.wav\n",
      "./Vowel_Data/Vowel/vowel2/vowel2_14.wav\n",
      "./Vowel_Data/Vowel/vowel2/vowel2_15.wav\n",
      "./Vowel_Data/Vowel/vowel2/vowel2_16.wav\n",
      "./Vowel_Data/Vowel/vowel2/vowel2_17.wav\n"
     ]
    },
    {
     "name": "stderr",
     "output_type": "stream",
     "text": [
      "Saving vectors to label -'vowel2':  72%|███████▎  | 29/40 [00:00<00:00, 134.92it/s]"
     ]
    },
    {
     "name": "stdout",
     "output_type": "stream",
     "text": [
      "./Vowel_Data/Vowel/vowel2/vowel2_18.wav\n",
      "./Vowel_Data/Vowel/vowel2/vowel2_19.wav\n",
      "./Vowel_Data/Vowel/vowel2/vowel2_2.wav\n",
      "./Vowel_Data/Vowel/vowel2/vowel2_20.wav\n",
      "./Vowel_Data/Vowel/vowel2/vowel2_21.wav\n",
      "./Vowel_Data/Vowel/vowel2/vowel2_22.wav\n",
      "./Vowel_Data/Vowel/vowel2/vowel2_23.wav\n",
      "./Vowel_Data/Vowel/vowel2/vowel2_24.wav\n",
      "./Vowel_Data/Vowel/vowel2/vowel2_25.wav\n",
      "./Vowel_Data/Vowel/vowel2/vowel2_26.wav\n",
      "./Vowel_Data/Vowel/vowel2/vowel2_27.wav\n",
      "./Vowel_Data/Vowel/vowel2/vowel2_28.wav\n",
      "./Vowel_Data/Vowel/vowel2/vowel2_29.wav\n",
      "./Vowel_Data/Vowel/vowel2/vowel2_3.wav\n",
      "./Vowel_Data/Vowel/vowel2/vowel2_30.wav\n",
      "./Vowel_Data/Vowel/vowel2/vowel2_31.wav\n",
      "./Vowel_Data/Vowel/vowel2/vowel2_32.wav\n",
      "./Vowel_Data/Vowel/vowel2/vowel2_33.wav\n",
      "./Vowel_Data/Vowel/vowel2/vowel2_34.wav\n",
      "./Vowel_Data/Vowel/vowel2/vowel2_35.wav\n",
      "./Vowel_Data/Vowel/vowel2/vowel2_36.wav\n",
      "./Vowel_Data/Vowel/vowel2/vowel2_37.wav\n",
      "./Vowel_Data/Vowel/vowel2/vowel2_38.wav\n",
      "./Vowel_Data/Vowel/vowel2/vowel2_39.wav\n",
      "./Vowel_Data/Vowel/vowel2/vowel2_4.wav\n",
      "./Vowel_Data/Vowel/vowel2/vowel2_40.wav\n",
      "./Vowel_Data/Vowel/vowel2/vowel2_5.wav\n",
      "./Vowel_Data/Vowel/vowel2/vowel2_6.wav\n",
      "./Vowel_Data/Vowel/vowel2/vowel2_7.wav\n",
      "./Vowel_Data/Vowel/vowel2/vowel2_8.wav\n"
     ]
    },
    {
     "name": "stderr",
     "output_type": "stream",
     "text": [
      "Saving vectors to label -'vowel2': 100%|██████████| 40/40 [00:00<00:00, 142.71it/s]\n",
      "Saving vectors to label -'vowel3':  38%|███▊      | 15/40 [00:00<00:00, 145.48it/s]"
     ]
    },
    {
     "name": "stdout",
     "output_type": "stream",
     "text": [
      "./Vowel_Data/Vowel/vowel2/vowel2_9.wav\n",
      "./Vowel_Data/Vowel/vowel3/vowel3_1.wav\n",
      "./Vowel_Data/Vowel/vowel3/vowel3_10.wav\n",
      "./Vowel_Data/Vowel/vowel3/vowel3_11.wav\n",
      "./Vowel_Data/Vowel/vowel3/vowel3_12.wav\n",
      "./Vowel_Data/Vowel/vowel3/vowel3_13.wav\n",
      "./Vowel_Data/Vowel/vowel3/vowel3_14.wav\n",
      "./Vowel_Data/Vowel/vowel3/vowel3_15.wav\n",
      "./Vowel_Data/Vowel/vowel3/vowel3_16.wav\n",
      "./Vowel_Data/Vowel/vowel3/vowel3_17.wav\n",
      "./Vowel_Data/Vowel/vowel3/vowel3_18.wav\n",
      "./Vowel_Data/Vowel/vowel3/vowel3_19.wav\n",
      "./Vowel_Data/Vowel/vowel3/vowel3_2.wav\n",
      "./Vowel_Data/Vowel/vowel3/vowel3_20.wav\n",
      "./Vowel_Data/Vowel/vowel3/vowel3_21.wav\n",
      "./Vowel_Data/Vowel/vowel3/vowel3_22.wav\n",
      "./Vowel_Data/Vowel/vowel3/vowel3_23.wav\n",
      "./Vowel_Data/Vowel/vowel3/vowel3_24.wav\n",
      "./Vowel_Data/Vowel/vowel3/vowel3_25.wav\n",
      "./Vowel_Data/Vowel/vowel3/vowel3_26.wav\n",
      "./Vowel_Data/Vowel/vowel3/vowel3_27.wav\n",
      "./Vowel_Data/Vowel/vowel3/vowel3_28.wav\n",
      "./Vowel_Data/Vowel/vowel3/vowel3_29.wav\n",
      "./Vowel_Data/Vowel/vowel3/vowel3_3.wav\n",
      "./Vowel_Data/Vowel/vowel3/vowel3_30.wav\n",
      "./Vowel_Data/Vowel/vowel3/vowel3_31.wav\n",
      "./Vowel_Data/Vowel/vowel3/vowel3_32.wav\n",
      "./Vowel_Data/Vowel/vowel3/vowel3_33.wav\n",
      "./Vowel_Data/Vowel/vowel3/vowel3_34.wav\n",
      "./Vowel_Data/Vowel/vowel3/vowel3_35.wav\n"
     ]
    },
    {
     "name": "stderr",
     "output_type": "stream",
     "text": [
      "Saving vectors to label -'vowel3': 100%|██████████| 40/40 [00:00<00:00, 137.53it/s]\n",
      "Saving vectors to label -'vowel4':  28%|██▊       | 11/40 [00:00<00:00, 105.58it/s]"
     ]
    },
    {
     "name": "stdout",
     "output_type": "stream",
     "text": [
      "./Vowel_Data/Vowel/vowel3/vowel3_36.wav\n",
      "./Vowel_Data/Vowel/vowel3/vowel3_37.wav\n",
      "./Vowel_Data/Vowel/vowel3/vowel3_38.wav\n",
      "./Vowel_Data/Vowel/vowel3/vowel3_39.wav\n",
      "./Vowel_Data/Vowel/vowel3/vowel3_4.wav\n",
      "./Vowel_Data/Vowel/vowel3/vowel3_40.wav\n",
      "./Vowel_Data/Vowel/vowel3/vowel3_5.wav\n",
      "./Vowel_Data/Vowel/vowel3/vowel3_6.wav\n",
      "./Vowel_Data/Vowel/vowel3/vowel3_7.wav\n",
      "./Vowel_Data/Vowel/vowel3/vowel3_8.wav\n",
      "./Vowel_Data/Vowel/vowel3/vowel3_9.wav\n",
      "./Vowel_Data/Vowel/vowel4/vowel4_1.wav\n",
      "./Vowel_Data/Vowel/vowel4/vowel4_10.wav\n",
      "./Vowel_Data/Vowel/vowel4/vowel4_11.wav\n",
      "./Vowel_Data/Vowel/vowel4/vowel4_12.wav\n",
      "./Vowel_Data/Vowel/vowel4/vowel4_13.wav\n",
      "./Vowel_Data/Vowel/vowel4/vowel4_14.wav\n",
      "./Vowel_Data/Vowel/vowel4/vowel4_15.wav\n",
      "./Vowel_Data/Vowel/vowel4/vowel4_16.wav\n",
      "./Vowel_Data/Vowel/vowel4/vowel4_17.wav\n",
      "./Vowel_Data/Vowel/vowel4/vowel4_18.wav\n",
      "./Vowel_Data/Vowel/vowel4/vowel4_19.wav\n"
     ]
    },
    {
     "name": "stderr",
     "output_type": "stream",
     "text": [
      "Saving vectors to label -'vowel4': 100%|██████████| 40/40 [00:00<00:00, 129.71it/s]\n",
      "Saving vectors to label -'vowel5':   0%|          | 0/40 [00:00<?, ?it/s]"
     ]
    },
    {
     "name": "stdout",
     "output_type": "stream",
     "text": [
      "./Vowel_Data/Vowel/vowel4/vowel4_2.wav\n",
      "./Vowel_Data/Vowel/vowel4/vowel4_20.wav\n",
      "./Vowel_Data/Vowel/vowel4/vowel4_21.wav\n",
      "./Vowel_Data/Vowel/vowel4/vowel4_22.wav\n",
      "./Vowel_Data/Vowel/vowel4/vowel4_23.wav\n",
      "./Vowel_Data/Vowel/vowel4/vowel4_24.wav\n",
      "./Vowel_Data/Vowel/vowel4/vowel4_25.wav\n",
      "./Vowel_Data/Vowel/vowel4/vowel4_26.wav\n",
      "./Vowel_Data/Vowel/vowel4/vowel4_27.wav\n",
      "./Vowel_Data/Vowel/vowel4/vowel4_28.wav\n",
      "./Vowel_Data/Vowel/vowel4/vowel4_29.wav\n",
      "./Vowel_Data/Vowel/vowel4/vowel4_3.wav\n",
      "./Vowel_Data/Vowel/vowel4/vowel4_30.wav\n",
      "./Vowel_Data/Vowel/vowel4/vowel4_31.wav\n",
      "./Vowel_Data/Vowel/vowel4/vowel4_32.wav\n",
      "./Vowel_Data/Vowel/vowel4/vowel4_33.wav\n",
      "./Vowel_Data/Vowel/vowel4/vowel4_34.wav\n",
      "./Vowel_Data/Vowel/vowel4/vowel4_35.wav\n",
      "./Vowel_Data/Vowel/vowel4/vowel4_36.wav\n",
      "./Vowel_Data/Vowel/vowel4/vowel4_37.wav\n",
      "./Vowel_Data/Vowel/vowel4/vowel4_38.wav\n",
      "./Vowel_Data/Vowel/vowel4/vowel4_39.wav\n",
      "./Vowel_Data/Vowel/vowel4/vowel4_4.wav\n",
      "./Vowel_Data/Vowel/vowel4/vowel4_40.wav\n",
      "./Vowel_Data/Vowel/vowel4/vowel4_5.wav\n",
      "./Vowel_Data/Vowel/vowel4/vowel4_6.wav\n",
      "./Vowel_Data/Vowel/vowel4/vowel4_7.wav\n",
      "./Vowel_Data/Vowel/vowel4/vowel4_8.wav\n",
      "./Vowel_Data/Vowel/vowel4/vowel4_9.wav\n"
     ]
    },
    {
     "name": "stderr",
     "output_type": "stream",
     "text": [
      "Saving vectors to label -'vowel5':  70%|███████   | 28/40 [00:00<00:00, 136.27it/s]"
     ]
    },
    {
     "name": "stdout",
     "output_type": "stream",
     "text": [
      "./Vowel_Data/Vowel/vowel5/vowel5_1.wav\n",
      "./Vowel_Data/Vowel/vowel5/vowel5_10.wav\n",
      "./Vowel_Data/Vowel/vowel5/vowel5_11.wav\n",
      "./Vowel_Data/Vowel/vowel5/vowel5_12.wav\n",
      "./Vowel_Data/Vowel/vowel5/vowel5_13.wav\n",
      "./Vowel_Data/Vowel/vowel5/vowel5_14.wav\n",
      "./Vowel_Data/Vowel/vowel5/vowel5_15.wav\n",
      "./Vowel_Data/Vowel/vowel5/vowel5_16.wav\n",
      "./Vowel_Data/Vowel/vowel5/vowel5_17.wav\n",
      "./Vowel_Data/Vowel/vowel5/vowel5_18.wav\n",
      "./Vowel_Data/Vowel/vowel5/vowel5_19.wav\n",
      "./Vowel_Data/Vowel/vowel5/vowel5_2.wav\n",
      "./Vowel_Data/Vowel/vowel5/vowel5_20.wav\n",
      "./Vowel_Data/Vowel/vowel5/vowel5_21.wav\n",
      "./Vowel_Data/Vowel/vowel5/vowel5_22.wav\n",
      "./Vowel_Data/Vowel/vowel5/vowel5_23.wav\n",
      "./Vowel_Data/Vowel/vowel5/vowel5_24.wav\n",
      "./Vowel_Data/Vowel/vowel5/vowel5_25.wav\n",
      "./Vowel_Data/Vowel/vowel5/vowel5_26.wav\n",
      "./Vowel_Data/Vowel/vowel5/vowel5_27.wav\n",
      "./Vowel_Data/Vowel/vowel5/vowel5_28.wav\n",
      "./Vowel_Data/Vowel/vowel5/vowel5_29.wav\n",
      "./Vowel_Data/Vowel/vowel5/vowel5_3.wav\n",
      "./Vowel_Data/Vowel/vowel5/vowel5_30.wav\n",
      "./Vowel_Data/Vowel/vowel5/vowel5_31.wav\n",
      "./Vowel_Data/Vowel/vowel5/vowel5_32.wav\n",
      "./Vowel_Data/Vowel/vowel5/vowel5_33.wav\n",
      "./Vowel_Data/Vowel/vowel5/vowel5_34.wav\n"
     ]
    },
    {
     "name": "stderr",
     "output_type": "stream",
     "text": [
      "Saving vectors to label -'vowel5': 100%|██████████| 40/40 [00:00<00:00, 137.64it/s]\n",
      "Saving vectors to label -'vowel6':  38%|███▊      | 15/40 [00:00<00:00, 145.33it/s]"
     ]
    },
    {
     "name": "stdout",
     "output_type": "stream",
     "text": [
      "./Vowel_Data/Vowel/vowel5/vowel5_35.wav\n",
      "./Vowel_Data/Vowel/vowel5/vowel5_36.wav\n",
      "./Vowel_Data/Vowel/vowel5/vowel5_37.wav\n",
      "./Vowel_Data/Vowel/vowel5/vowel5_38.wav\n",
      "./Vowel_Data/Vowel/vowel5/vowel5_39.wav\n",
      "./Vowel_Data/Vowel/vowel5/vowel5_4.wav\n",
      "./Vowel_Data/Vowel/vowel5/vowel5_40.wav\n",
      "./Vowel_Data/Vowel/vowel5/vowel5_5.wav\n",
      "./Vowel_Data/Vowel/vowel5/vowel5_6.wav\n",
      "./Vowel_Data/Vowel/vowel5/vowel5_7.wav\n",
      "./Vowel_Data/Vowel/vowel5/vowel5_8.wav\n",
      "./Vowel_Data/Vowel/vowel5/vowel5_9.wav\n",
      "./Vowel_Data/Vowel/vowel6/vowel6_1.wav\n",
      "./Vowel_Data/Vowel/vowel6/vowel6_10.wav\n",
      "./Vowel_Data/Vowel/vowel6/vowel6_11.wav\n",
      "./Vowel_Data/Vowel/vowel6/vowel6_12.wav\n",
      "./Vowel_Data/Vowel/vowel6/vowel6_13.wav\n",
      "./Vowel_Data/Vowel/vowel6/vowel6_14.wav\n",
      "./Vowel_Data/Vowel/vowel6/vowel6_15.wav\n",
      "./Vowel_Data/Vowel/vowel6/vowel6_16.wav\n",
      "./Vowel_Data/Vowel/vowel6/vowel6_17.wav\n",
      "./Vowel_Data/Vowel/vowel6/vowel6_18.wav\n",
      "./Vowel_Data/Vowel/vowel6/vowel6_19.wav\n",
      "./Vowel_Data/Vowel/vowel6/vowel6_2.wav\n",
      "./Vowel_Data/Vowel/vowel6/vowel6_20.wav\n",
      "./Vowel_Data/Vowel/vowel6/vowel6_21.wav\n",
      "./Vowel_Data/Vowel/vowel6/vowel6_22.wav\n",
      "./Vowel_Data/Vowel/vowel6/vowel6_23.wav\n",
      "./Vowel_Data/Vowel/vowel6/vowel6_24.wav\n"
     ]
    },
    {
     "name": "stderr",
     "output_type": "stream",
     "text": [
      "Saving vectors to label -'vowel6': 100%|██████████| 40/40 [00:00<00:00, 146.59it/s]\n",
      "Saving vectors to label -'vowel7':   0%|          | 0/40 [00:00<?, ?it/s]"
     ]
    },
    {
     "name": "stdout",
     "output_type": "stream",
     "text": [
      "./Vowel_Data/Vowel/vowel6/vowel6_25.wav\n",
      "./Vowel_Data/Vowel/vowel6/vowel6_26.wav\n",
      "./Vowel_Data/Vowel/vowel6/vowel6_27.wav\n",
      "./Vowel_Data/Vowel/vowel6/vowel6_28.wav\n",
      "./Vowel_Data/Vowel/vowel6/vowel6_29.wav\n",
      "./Vowel_Data/Vowel/vowel6/vowel6_3.wav\n",
      "./Vowel_Data/Vowel/vowel6/vowel6_30.wav\n",
      "./Vowel_Data/Vowel/vowel6/vowel6_31.wav\n",
      "./Vowel_Data/Vowel/vowel6/vowel6_32.wav\n",
      "./Vowel_Data/Vowel/vowel6/vowel6_33.wav\n",
      "./Vowel_Data/Vowel/vowel6/vowel6_34.wav\n",
      "./Vowel_Data/Vowel/vowel6/vowel6_35.wav\n",
      "./Vowel_Data/Vowel/vowel6/vowel6_36.wav\n",
      "./Vowel_Data/Vowel/vowel6/vowel6_37.wav\n",
      "./Vowel_Data/Vowel/vowel6/vowel6_38.wav\n",
      "./Vowel_Data/Vowel/vowel6/vowel6_39.wav\n",
      "./Vowel_Data/Vowel/vowel6/vowel6_4.wav\n",
      "./Vowel_Data/Vowel/vowel6/vowel6_40.wav\n",
      "./Vowel_Data/Vowel/vowel6/vowel6_5.wav\n",
      "./Vowel_Data/Vowel/vowel6/vowel6_6.wav\n",
      "./Vowel_Data/Vowel/vowel6/vowel6_7.wav\n",
      "./Vowel_Data/Vowel/vowel6/vowel6_8.wav\n",
      "./Vowel_Data/Vowel/vowel6/vowel6_9.wav\n",
      "./Vowel_Data/Vowel/vowel7/vowel7_1.wav\n",
      "./Vowel_Data/Vowel/vowel7/vowel7_10.wav\n",
      "./Vowel_Data/Vowel/vowel7/vowel7_11.wav\n",
      "./Vowel_Data/Vowel/vowel7/vowel7_12.wav\n",
      "./Vowel_Data/Vowel/vowel7/vowel7_13.wav\n",
      "./Vowel_Data/Vowel/vowel7/vowel7_14.wav\n",
      "./Vowel_Data/Vowel/vowel7/vowel7_15.wav\n"
     ]
    },
    {
     "name": "stderr",
     "output_type": "stream",
     "text": [
      "Saving vectors to label -'vowel7':  65%|██████▌   | 26/40 [00:00<00:00, 127.01it/s]"
     ]
    },
    {
     "name": "stdout",
     "output_type": "stream",
     "text": [
      "./Vowel_Data/Vowel/vowel7/vowel7_16.wav\n",
      "./Vowel_Data/Vowel/vowel7/vowel7_17.wav\n",
      "./Vowel_Data/Vowel/vowel7/vowel7_18.wav\n",
      "./Vowel_Data/Vowel/vowel7/vowel7_19.wav\n",
      "./Vowel_Data/Vowel/vowel7/vowel7_2.wav\n",
      "./Vowel_Data/Vowel/vowel7/vowel7_20.wav\n",
      "./Vowel_Data/Vowel/vowel7/vowel7_21.wav\n",
      "./Vowel_Data/Vowel/vowel7/vowel7_22.wav\n",
      "./Vowel_Data/Vowel/vowel7/vowel7_23.wav\n",
      "./Vowel_Data/Vowel/vowel7/vowel7_24.wav\n",
      "./Vowel_Data/Vowel/vowel7/vowel7_25.wav\n",
      "./Vowel_Data/Vowel/vowel7/vowel7_26.wav\n",
      "./Vowel_Data/Vowel/vowel7/vowel7_27.wav\n",
      "./Vowel_Data/Vowel/vowel7/vowel7_28.wav\n",
      "./Vowel_Data/Vowel/vowel7/vowel7_29.wav\n",
      "./Vowel_Data/Vowel/vowel7/vowel7_3.wav\n",
      "./Vowel_Data/Vowel/vowel7/vowel7_30.wav\n",
      "./Vowel_Data/Vowel/vowel7/vowel7_31.wav\n",
      "./Vowel_Data/Vowel/vowel7/vowel7_32.wav\n",
      "./Vowel_Data/Vowel/vowel7/vowel7_33.wav\n",
      "./Vowel_Data/Vowel/vowel7/vowel7_34.wav\n",
      "./Vowel_Data/Vowel/vowel7/vowel7_35.wav\n",
      "./Vowel_Data/Vowel/vowel7/vowel7_36.wav\n",
      "./Vowel_Data/Vowel/vowel7/vowel7_37.wav\n"
     ]
    },
    {
     "name": "stderr",
     "output_type": "stream",
     "text": [
      "Saving vectors to label -'vowel7': 100%|██████████| 40/40 [00:00<00:00, 121.95it/s]"
     ]
    },
    {
     "name": "stdout",
     "output_type": "stream",
     "text": [
      "./Vowel_Data/Vowel/vowel7/vowel7_38.wav\n",
      "./Vowel_Data/Vowel/vowel7/vowel7_39.wav\n",
      "./Vowel_Data/Vowel/vowel7/vowel7_4.wav\n",
      "./Vowel_Data/Vowel/vowel7/vowel7_40.wav\n",
      "./Vowel_Data/Vowel/vowel7/vowel7_5.wav\n",
      "./Vowel_Data/Vowel/vowel7/vowel7_6.wav\n",
      "./Vowel_Data/Vowel/vowel7/vowel7_7.wav\n",
      "./Vowel_Data/Vowel/vowel7/vowel7_8.wav\n",
      "./Vowel_Data/Vowel/vowel7/vowel7_9.wav\n"
     ]
    },
    {
     "name": "stderr",
     "output_type": "stream",
     "text": [
      "\n"
     ]
    }
   ],
   "source": [
    "path=DATA_PATH\n",
    "max_len=n_time_sample\n",
    "labels,_,_=get_labels(path)\n",
    "\n",
    "for label in labels:\n",
    "    mfcc_vectors=[]\n",
    "\n",
    "    speechfiles=[path + label + '/' + speech for speech in sorted(os.listdir(path+'/'+label))]\n",
    "    for speech in tqdm(speechfiles,\"Saving vectors to label -'{}'\".format(label)):\n",
    "        mfcc=speech2mfcc(speech,max_len=max_len)\n",
    "        print(speech)\n",
    "        mfcc_vectors.append(mfcc)"
   ]
  },
  {
   "cell_type": "code",
   "execution_count": 68,
   "metadata": {},
   "outputs": [
    {
     "data": {
      "text/plain": [
       "(13, 33)"
      ]
     },
     "execution_count": 68,
     "metadata": {},
     "output_type": "execute_result"
    }
   ],
   "source": [
    "mfcc_vectors[0].shape"
   ]
  },
  {
   "cell_type": "code",
   "execution_count": 69,
   "metadata": {},
   "outputs": [],
   "source": [
    "split_ratio=0.8\n",
    "random_state=42\n",
    "labels,indices,_=get_labels(DATA_PATH)\n",
    "\n",
    "X=np.load(labels[0]+'.npy')\n",
    "y=np.zeros(X.shape[0])"
   ]
  },
  {
   "cell_type": "code",
   "execution_count": 73,
   "metadata": {},
   "outputs": [
    {
     "data": {
      "text/plain": [
       "'vowel1'"
      ]
     },
     "execution_count": 73,
     "metadata": {},
     "output_type": "execute_result"
    }
   ],
   "source": [
    "labels[0]"
   ]
  },
  {
   "cell_type": "code",
   "execution_count": 71,
   "metadata": {},
   "outputs": [],
   "source": [
    "for i,label in enumerate(labels[1:]):\n",
    "    x=np.load(label+'.npy')\n",
    "    X=np.vstack((X,x))\n",
    "    y=np.append(y,np.full(x.shape[0],fill_value=(i+1)))\n",
    "assert X.shape[0] == len(y)\n",
    "X_train, X_test, y_train, y_test=train_test_split(X,y,test_size=(1-split_ratio),random_state=random_state,shuffle=True,stratify=y)"
   ]
  },
  {
   "cell_type": "code",
   "execution_count": 90,
   "metadata": {},
   "outputs": [
    {
     "data": {
      "text/plain": [
       "array([[-609.53046  , -612.5554   , -617.7326   , ...,    0.       ,\n",
       "           0.       ,    0.       ],\n",
       "       [-608.503    , -615.55804  , -625.4579   , ...,    0.       ,\n",
       "           0.       ,    0.       ],\n",
       "       [-374.54425  , -344.42017  , -328.06296  , ...,    0.       ,\n",
       "           0.       ,    0.       ],\n",
       "       ...,\n",
       "       [-352.49478  , -334.29327  , -319.92828  , ...,    0.       ,\n",
       "           0.       ,    0.       ],\n",
       "       [-366.61148  , -348.521    , -329.59894  , ...,   -7.411428 ,\n",
       "          -7.6468453,   -6.8008084],\n",
       "       [-464.2635   , -442.2461   , -424.00452  , ...,  -10.725952 ,\n",
       "          -4.232842 ,   -2.2395744]], dtype=float32)"
      ]
     },
     "execution_count": 90,
     "metadata": {},
     "output_type": "execute_result"
    }
   ],
   "source": [
    "X_train"
   ]
  },
  {
   "cell_type": "code",
   "execution_count": 80,
   "metadata": {},
   "outputs": [],
   "source": [
    "X_train=X_train.reshape((X_train.shape[0],-1))\n",
    "X_test=X_test.reshape(X_test.shape[0],-1)\n",
    "y_train_hot=to_categorical(y_train)\n",
    "y_test_hot=to_categorical(y_test)"
   ]
  },
  {
   "cell_type": "code",
   "execution_count": 83,
   "metadata": {},
   "outputs": [
    {
     "data": {
      "text/plain": [
       "array([[0., 0., 1., ..., 0., 0., 0.],\n",
       "       [0., 0., 0., ..., 0., 0., 0.],\n",
       "       [1., 0., 0., ..., 0., 0., 0.],\n",
       "       ...,\n",
       "       [0., 0., 0., ..., 0., 1., 0.],\n",
       "       [0., 0., 0., ..., 0., 1., 0.],\n",
       "       [0., 0., 0., ..., 0., 0., 1.]], dtype=float32)"
      ]
     },
     "execution_count": 83,
     "metadata": {},
     "output_type": "execute_result"
    }
   ],
   "source": [
    "y_train_hot"
   ]
  }
 ],
 "metadata": {
  "kernelspec": {
   "display_name": "Python 3",
   "language": "python",
   "name": "python3"
  },
  "language_info": {
   "codemirror_mode": {
    "name": "ipython",
    "version": 3
   },
   "file_extension": ".py",
   "mimetype": "text/x-python",
   "name": "python",
   "nbconvert_exporter": "python",
   "pygments_lexer": "ipython3",
   "version": "3.8.3"
  }
 },
 "nbformat": 4,
 "nbformat_minor": 4
}
