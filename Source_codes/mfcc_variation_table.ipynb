{
 "cells": [
  {
   "cell_type": "code",
   "execution_count": 6,
   "metadata": {},
   "outputs": [],
   "source": [
    "import librosa\n",
    "import os\n",
    "import matplotlib.pyplot as plt\n",
    "import numpy as np\n",
    "from scipy.stats import variation\n",
    "import csv"
   ]
  },
  {
   "cell_type": "code",
   "execution_count": 2,
   "metadata": {},
   "outputs": [],
   "source": [
    "Word_PATH=\"./Word_Data/Word/\"\n",
    "Vowel_PATH=\"./Vowel_Data/Vowel/\""
   ]
  },
  {
   "cell_type": "code",
   "execution_count": 37,
   "metadata": {},
   "outputs": [],
   "source": [
    "wave, sr= librosa.load(Word_PATH+'Word7/Word7_1.wav', mono=True, sr=None)\n",
    "#wave=wave[::2]\n",
    "mfcc=librosa.feature.mfcc(wave,sr=sr)"
   ]
  },
  {
   "cell_type": "code",
   "execution_count": 38,
   "metadata": {},
   "outputs": [],
   "source": [
    "word_mfcc_var=variation(mfcc,axis=1)"
   ]
  },
  {
   "cell_type": "code",
   "execution_count": 39,
   "metadata": {
    "scrolled": true
   },
   "outputs": [
    {
     "data": {
      "text/plain": [
       "array([-0.18496935,  0.28228653,  3.48280074,  0.51335939,  1.42228853,\n",
       "       -1.78015048, -2.99002636, -1.18944609,  3.18829868, -0.8889206 ,\n",
       "       -0.94343458, 16.75858558, -1.05115161, -0.92158988,  3.60090231,\n",
       "       -0.83849447, -0.53802558,  1.39110148, -0.90910729, -0.63978213])"
      ]
     },
     "execution_count": 39,
     "metadata": {},
     "output_type": "execute_result"
    }
   ],
   "source": [
    "word_mfcc_var"
   ]
  },
  {
   "cell_type": "code",
   "execution_count": 40,
   "metadata": {},
   "outputs": [],
   "source": [
    "myFile=open('./Result/Word_mfcc_var','a')\n",
    "with myFile:\n",
    "    writer=csv.writer(myFile)\n",
    "    writer.writerow(word_mfcc_var)"
   ]
  },
  {
   "cell_type": "code",
   "execution_count": 59,
   "metadata": {},
   "outputs": [],
   "source": [
    "wave, sr= librosa.load(Vowel_PATH+'vowel7/vowel7_1.wav', mono=True, sr=None)\n",
    "#wave=wave[::2]\n",
    "mfcc=librosa.feature.mfcc(wave,sr=sr)"
   ]
  },
  {
   "cell_type": "code",
   "execution_count": 60,
   "metadata": {},
   "outputs": [],
   "source": [
    "vowel_mfcc_var=variation(mfcc,axis=1)"
   ]
  },
  {
   "cell_type": "code",
   "execution_count": 61,
   "metadata": {},
   "outputs": [],
   "source": [
    "myFile=open('./Result/Vowel_mfcc_var','a')\n",
    "with myFile:\n",
    "    writer=csv.writer(myFile)\n",
    "    writer.writerow(vowel_mfcc_var)"
   ]
  }
 ],
 "metadata": {
  "kernelspec": {
   "display_name": "Python 3",
   "language": "python",
   "name": "python3"
  },
  "language_info": {
   "codemirror_mode": {
    "name": "ipython",
    "version": 3
   },
   "file_extension": ".py",
   "mimetype": "text/x-python",
   "name": "python",
   "nbconvert_exporter": "python",
   "pygments_lexer": "ipython3",
   "version": "3.8.3"
  }
 },
 "nbformat": 4,
 "nbformat_minor": 2
}
