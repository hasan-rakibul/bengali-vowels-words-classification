{
 "cells": [
  {
   "cell_type": "code",
   "execution_count": 1,
   "metadata": {},
   "outputs": [],
   "source": [
    "import os,librosa\n",
    "import numpy as np\n",
    "from sklearn.model_selection import StratifiedKFold\n",
    "from tqdm import tqdm\n",
    "from tensorflow.keras.models import Sequential\n",
    "from tensorflow.keras.layers import Dense\n",
    "from tensorflow.keras import optimizers as opt\n",
    "from tensorflow.keras.utils import to_categorical\n",
    "from tensorflow.keras import losses\n",
    "import pandas as pd\n",
    "from sklearn.metrics import precision_score,recall_score,f1_score, cohen_kappa_score"
   ]
  },
  {
   "cell_type": "code",
   "execution_count": 2,
   "metadata": {},
   "outputs": [],
   "source": [
    "seed=42\n",
    "n_MFCC=13\n",
    "n_epochs=50\n",
    "column_names= ['MFCC_'+str(i) for i in range(1,n_MFCC+1)]"
   ]
  },
  {
   "cell_type": "code",
   "execution_count": 3,
   "metadata": {},
   "outputs": [],
   "source": [
    "DATA_PATH=\"/home/rakibul/WORK/Work/Thesis/Speech_Recognition/Vowel_Word/GitHub Repo/Vowel_Data/Vowel/\""
   ]
  },
  {
   "cell_type": "code",
   "execution_count": 4,
   "metadata": {},
   "outputs": [],
   "source": [
    "def get_mfcc(file_path):\n",
    "    wave, sr= librosa.load(file_path, mono=True, sr=None)\n",
    "    mfcc=librosa.feature.mfcc(wave,sr=sr,n_mfcc=n_MFCC)\n",
    "    mfcc_df=pd.DataFrame(mfcc.T,columns=column_names) #convert array to pandas df\n",
    "    return mfcc_df\n",
    "\n",
    "def get_all_mfcc(path=DATA_PATH):\n",
    "    labels=sorted(os.listdir(path))\n",
    "    all_mfcc=pd.DataFrame() #empty dataframe to store all_mfccs\n",
    "    \n",
    "    for label_index,label in enumerate(labels):\n",
    "        folder_mfcc=pd.DataFrame() #empty dataframe to store mfcc of indivuals vowels/words i.e. folders\n",
    "\n",
    "        speech_files=[path + label + '/' + file for file in sorted(os.listdir(path+'/'+label))]\n",
    "        for file in tqdm(speech_files,\"Reading Speech of label -'{}'\".format(label)):\n",
    "            #print(file)\n",
    "            individual_mfcc=get_mfcc(file_path=file)\n",
    "            folder_mfcc=folder_mfcc.append(individual_mfcc,ignore_index=True)\n",
    "        \n",
    "        folder_mfcc['label']=label_index  #new columns for encoding label\n",
    "        \n",
    "        all_mfcc=all_mfcc.append(folder_mfcc,ignore_index=True)\n",
    "        \n",
    "    return all_mfcc\n",
    "\n",
    "def get_train_test():\n",
    "    all_mfccs=get_all_mfcc()\n",
    "    \n",
    "    y=all_mfccs['label'].values\n",
    "    \n",
    "    only_mfcc=all_mfccs.drop(labels=['label'],axis=1)\n",
    "    standard_mfcc=(only_mfcc-only_mfcc.mean())/only_mfcc.std()\n",
    "    X=standard_mfcc.values\n",
    "\n",
    "    assert X.shape[0] == len(y)\n",
    "    return X,y"
   ]
  },
  {
   "cell_type": "code",
   "execution_count": 5,
   "metadata": {
    "scrolled": true
   },
   "outputs": [
    {
     "name": "stderr",
     "output_type": "stream",
     "text": [
      "Reading Speech of label -'vowel1': 100%|██████████| 40/40 [00:00<00:00, 56.10it/s]\n",
      "Reading Speech of label -'vowel2': 100%|██████████| 40/40 [00:00<00:00, 115.32it/s]\n",
      "Reading Speech of label -'vowel3': 100%|██████████| 40/40 [00:00<00:00, 74.37it/s]\n",
      "Reading Speech of label -'vowel4': 100%|██████████| 40/40 [00:00<00:00, 84.78it/s] \n",
      "Reading Speech of label -'vowel5': 100%|██████████| 40/40 [00:00<00:00, 59.67it/s]\n",
      "Reading Speech of label -'vowel6': 100%|██████████| 40/40 [00:00<00:00, 75.43it/s]\n",
      "Reading Speech of label -'vowel7': 100%|██████████| 40/40 [00:00<00:00, 56.41it/s]\n"
     ]
    }
   ],
   "source": [
    "X,y=get_train_test()"
   ]
  },
  {
   "cell_type": "code",
   "execution_count": 6,
   "metadata": {
    "scrolled": true
   },
   "outputs": [
    {
     "name": "stdout",
     "output_type": "stream",
     "text": [
      "WARNING:tensorflow:From /home/rakibul/anaconda3/envs/speech_recog/lib/python3.8/site-packages/tensorflow/python/ops/resource_variable_ops.py:1813: calling BaseResourceVariable.__init__ (from tensorflow.python.ops.resource_variable_ops) with constraint is deprecated and will be removed in a future version.\n",
      "Instructions for updating:\n",
      "If using Keras pass *_constraint arguments to layers.\n",
      "accuracy: 0.80\n",
      "auc: 0.97\n",
      "WARNING:tensorflow:From <ipython-input-6-88e5cc9f0a2c>:30: Sequential.predict_classes (from tensorflow.python.keras.engine.sequential) is deprecated and will be removed after 2021-01-01.\n",
      "Instructions for updating:\n",
      "Please use instead:* `np.argmax(model.predict(x), axis=-1)`,   if your model does multi-class classification   (e.g. if it uses a `softmax` last-layer activation).* `(model.predict(x) > 0.5).astype(\"int32\")`,   if your model does binary classification   (e.g. if it uses a `sigmoid` last-layer activation).\n",
      "F1: 0.79\n",
      "Cohens kappa: 0.76\n",
      " \n",
      "accuracy: 0.79\n",
      "auc: 0.97\n",
      "F1: 0.79\n",
      "Cohens kappa: 0.76\n",
      " \n",
      "accuracy: 0.80\n",
      "auc: 0.97\n",
      "F1: 0.79\n",
      "Cohens kappa: 0.76\n",
      " \n",
      "accuracy: 0.78\n",
      "auc: 0.97\n",
      "F1: 0.77\n",
      "Cohens kappa: 0.74\n",
      " \n",
      "Overall acc: 0.79 (+/- 0.01)\n",
      "Overall AUC: 0.97 (+/- 0.00)\n",
      "Overall f1: 0.79 (+/- 0.01)\n",
      "Overall kappa: 0.76 (+/- 0.01)\n"
     ]
    }
   ],
   "source": [
    "kfold=StratifiedKFold(n_splits=4,shuffle=True,random_state=seed)\n",
    "cv_acc=[]\n",
    "cv_AUC=[]\n",
    "cv_f1=[]\n",
    "cv_kappa=[]\n",
    "\n",
    "for train,test in kfold.split(X,y):\n",
    "    y_hot=to_categorical(y)\n",
    "    \n",
    "    model_v=Sequential()\n",
    "    model_v.add(Dense(64, activation='tanh',input_shape=(X[train].shape[1],)))\n",
    "    #model_v.add(Dense(128, activation='tanh'))\n",
    "    #model_v.add(Dense(64, activation='tanh'))\n",
    "    model_v.add(Dense(32, activation='tanh'))\n",
    "    model_v.add(Dense(16, activation='tanh'))\n",
    "    model_v.add(Dense(7, activation='softmax'))\n",
    "    \n",
    "    model_v.compile(\n",
    "        optimizer=opt.Adam(learning_rate=0.005),\n",
    "        loss='categorical_crossentropy',\n",
    "        metrics=[['accuracy','AUC']]\n",
    "    )\n",
    "    model_v.fit(X[train], y_hot[train], epochs=n_epochs, batch_size=X[train].shape[0],verbose=0)\n",
    "    \n",
    "    scores=model_v.evaluate(X[test],y_hot[test],verbose=0)\n",
    "    \n",
    "    print(\"%s: %.2f\" % (model_v.metrics_names[1],scores[1]))\n",
    "    print(\"%s: %.2f\" % (model_v.metrics_names[2],scores[2]))\n",
    "    \n",
    "    yhat_classes = model_v.predict_classes(X[test], verbose=0)\n",
    "    \n",
    "    f1 = f1_score(y[test], yhat_classes,average='weighted')\n",
    "    print('F1: %.2f' % f1)\n",
    "    \n",
    "    kappa = cohen_kappa_score(y[test], yhat_classes)\n",
    "    print('Cohens kappa: %.2f' % kappa)\n",
    "    \n",
    "    cv_acc.append(scores[1])\n",
    "    cv_AUC.append(scores[2])\n",
    "    cv_f1.append(f1)\n",
    "    cv_kappa.append(kappa)\n",
    "    \n",
    "    print(' ')\n",
    "    \n",
    "print(\"Overall acc: %.2f (+/- %.2f)\" % (np.mean(cv_acc),np.std(cv_acc)))\n",
    "print(\"Overall AUC: %.2f (+/- %.2f)\" % (np.mean(cv_AUC),np.std(cv_AUC)))\n",
    "print(\"Overall f1: %.2f (+/- %.2f)\" % (np.mean(cv_f1),np.std(cv_f1)))\n",
    "print(\"Overall kappa: %.2f (+/- %.2f)\" % (np.mean(cv_kappa),np.std(cv_kappa)))"
   ]
  },
  {
   "cell_type": "code",
   "execution_count": 7,
   "metadata": {},
   "outputs": [],
   "source": [
    "save_specifier='standard_'+str(n_MFCC)+'mfcc_64_32_16_tanh_softmax_adam_0.005_batchfull'+str(n_epochs)+'epocs'"
   ]
  },
  {
   "cell_type": "code",
   "execution_count": 8,
   "metadata": {},
   "outputs": [],
   "source": [
    "cv_data_df=pd.DataFrame(data={'acc':cv_acc,\n",
    "                              'AUC':cv_AUC,\n",
    "                              'F1':cv_f1,\n",
    "                              'Kappa':cv_kappa}\n",
    "                       )\n",
    "cv_data_df.to_csv('/home/rakibul/WORK/Work/Thesis/Speech_Recognition/Vowel_Word/GitHub Repo/Result/New_without_CNN/vowel_cv_data_df_'+save_specifier+'.csv')"
   ]
  },
  {
   "cell_type": "code",
   "execution_count": 9,
   "metadata": {},
   "outputs": [],
   "source": [
    "#WORD"
   ]
  },
  {
   "cell_type": "code",
   "execution_count": 10,
   "metadata": {},
   "outputs": [],
   "source": [
    "DATA_PATH=\"/home/rakibul/WORK/Work/Thesis/Speech_Recognition/Vowel_Word/GitHub Repo/Word_Data/Word/\""
   ]
  },
  {
   "cell_type": "code",
   "execution_count": 11,
   "metadata": {},
   "outputs": [],
   "source": [
    "def get_mfcc(file_path):\n",
    "    wave, sr= librosa.load(file_path, mono=True, sr=None)\n",
    "    mfcc=librosa.feature.mfcc(wave,sr=sr,n_mfcc=n_MFCC)\n",
    "    mfcc_df=pd.DataFrame(mfcc.T,columns=column_names) #convert array to pandas df\n",
    "    return mfcc_df\n",
    "\n",
    "def get_all_mfcc(path=DATA_PATH):\n",
    "    labels=sorted(os.listdir(path))\n",
    "    all_mfcc=pd.DataFrame() #empty dataframe to store all_mfccs\n",
    "    \n",
    "    for label_index,label in enumerate(labels):\n",
    "        folder_mfcc=pd.DataFrame() #empty dataframe to store mfcc of indivuals vowels/words i.e. folders\n",
    "\n",
    "        speech_files=[path + label + '/' + file for file in sorted(os.listdir(path+'/'+label))]\n",
    "        for file in tqdm(speech_files,\"Reading Speech of label -'{}'\".format(label)):\n",
    "            #print(file)\n",
    "            individual_mfcc=get_mfcc(file_path=file)\n",
    "            folder_mfcc=folder_mfcc.append(individual_mfcc,ignore_index=True)\n",
    "        \n",
    "        folder_mfcc['label']=label_index  #new columns for encoding label\n",
    "        \n",
    "        all_mfcc=all_mfcc.append(folder_mfcc,ignore_index=True)\n",
    "        \n",
    "    return all_mfcc\n",
    "\n",
    "def get_train_test():\n",
    "    all_mfccs=get_all_mfcc()\n",
    "    \n",
    "    y=all_mfccs['label'].values\n",
    "    \n",
    "    only_mfcc=all_mfccs.drop(labels=['label'],axis=1)\n",
    "    standard_mfcc=(only_mfcc-only_mfcc.mean())/only_mfcc.std()\n",
    "    X=standard_mfcc.values\n",
    "\n",
    "    assert X.shape[0] == len(y)\n",
    "    return X,y"
   ]
  },
  {
   "cell_type": "code",
   "execution_count": 12,
   "metadata": {},
   "outputs": [
    {
     "name": "stderr",
     "output_type": "stream",
     "text": [
      "Reading Speech of label -'Word1': 100%|██████████| 40/40 [00:00<00:00, 78.07it/s]\n",
      "Reading Speech of label -'Word2': 100%|██████████| 40/40 [00:00<00:00, 85.78it/s]\n",
      "Reading Speech of label -'Word3': 100%|██████████| 40/40 [00:00<00:00, 110.15it/s]\n",
      "Reading Speech of label -'Word4': 100%|██████████| 40/40 [00:00<00:00, 77.98it/s]\n",
      "Reading Speech of label -'Word5': 100%|██████████| 40/40 [00:00<00:00, 90.36it/s]\n",
      "Reading Speech of label -'Word6': 100%|██████████| 40/40 [00:00<00:00, 94.29it/s] \n",
      "Reading Speech of label -'Word7': 100%|██████████| 40/40 [00:00<00:00, 115.45it/s]\n"
     ]
    }
   ],
   "source": [
    "X,y=get_train_test()"
   ]
  },
  {
   "cell_type": "code",
   "execution_count": 13,
   "metadata": {},
   "outputs": [
    {
     "name": "stdout",
     "output_type": "stream",
     "text": [
      "accuracy: 0.55\n",
      "auc: 0.88\n",
      "F1: 0.54\n",
      "Cohens kappa: 0.47\n",
      " \n",
      "accuracy: 0.57\n",
      "auc: 0.89\n",
      "F1: 0.56\n",
      "Cohens kappa: 0.50\n",
      " \n",
      "accuracy: 0.55\n",
      "auc: 0.89\n",
      "F1: 0.54\n",
      "Cohens kappa: 0.47\n",
      " \n",
      "accuracy: 0.54\n",
      "auc: 0.88\n",
      "F1: 0.54\n",
      "Cohens kappa: 0.47\n",
      " \n",
      "Overall acc: 0.55 (+/- 0.01)\n",
      "Overall AUC: 0.89 (+/- 0.00)\n",
      "Overall f1: 0.55 (+/- 0.01)\n",
      "Overall kappa: 0.48 (+/- 0.01)\n"
     ]
    }
   ],
   "source": [
    "kfold=StratifiedKFold(n_splits=4,shuffle=True,random_state=seed)\n",
    "cv_acc=[]\n",
    "cv_AUC=[]\n",
    "cv_f1=[]\n",
    "cv_kappa=[]\n",
    "\n",
    "for train,test in kfold.split(X,y):\n",
    "    y_hot=to_categorical(y)\n",
    "    \n",
    "    model_w=Sequential()\n",
    "    model_w.add(Dense(64, activation='tanh',input_shape=(X[train].shape[1],)))\n",
    "    #model_w.add(Dense(128, activation='tanh'))\n",
    "    #model_w.add(Dense(64, activation='tanh'))\n",
    "    model_w.add(Dense(32, activation='tanh'))\n",
    "    model_w.add(Dense(16, activation='tanh'))\n",
    "    model_w.add(Dense(7, activation='softmax'))\n",
    "    \n",
    "    model_w.compile(\n",
    "        optimizer=opt.Adam(learning_rate=0.005),\n",
    "        loss='categorical_crossentropy',\n",
    "        metrics=[['accuracy','AUC']]\n",
    "    )\n",
    "    model_w.fit(X[train], y_hot[train], epochs=n_epochs, batch_size=X[train].shape[0],verbose=0)\n",
    "    \n",
    "    scores=model_w.evaluate(X[test],y_hot[test],verbose=0)\n",
    "    \n",
    "    print(\"%s: %.2f\" % (model_w.metrics_names[1],scores[1]))\n",
    "    print(\"%s: %.2f\" % (model_w.metrics_names[2],scores[2]))\n",
    "    \n",
    "    yhat_classes = model_w.predict_classes(X[test], verbose=0)\n",
    "    \n",
    "    f1 = f1_score(y[test], yhat_classes,average='weighted')\n",
    "    print('F1: %.2f' % f1)\n",
    "    \n",
    "    kappa = cohen_kappa_score(y[test], yhat_classes)\n",
    "    print('Cohens kappa: %.2f' % kappa)\n",
    "    \n",
    "    cv_acc.append(scores[1])\n",
    "    cv_AUC.append(scores[2])\n",
    "    cv_f1.append(f1)\n",
    "    cv_kappa.append(kappa)\n",
    "    \n",
    "    print(' ')\n",
    "    \n",
    "print(\"Overall acc: %.2f (+/- %.2f)\" % (np.mean(cv_acc),np.std(cv_acc)))\n",
    "print(\"Overall AUC: %.2f (+/- %.2f)\" % (np.mean(cv_AUC),np.std(cv_AUC)))\n",
    "print(\"Overall f1: %.2f (+/- %.2f)\" % (np.mean(cv_f1),np.std(cv_f1)))\n",
    "print(\"Overall kappa: %.2f (+/- %.2f)\" % (np.mean(cv_kappa),np.std(cv_kappa)))"
   ]
  },
  {
   "cell_type": "code",
   "execution_count": 14,
   "metadata": {},
   "outputs": [],
   "source": [
    "cv_data_df=pd.DataFrame(data={'acc':cv_acc,\n",
    "                              'AUC':cv_AUC,\n",
    "                              'F1':cv_f1,\n",
    "                              'Kappa':cv_kappa}\n",
    "                       )\n",
    "cv_data_df.to_csv('/home/rakibul/WORK/Work/Thesis/Speech_Recognition/Vowel_Word/GitHub Repo/Result/New_without_CNN/word_cv_data_df_'+save_specifier+'.csv')"
   ]
  },
  {
   "cell_type": "code",
   "execution_count": 16,
   "metadata": {},
   "outputs": [
    {
     "name": "stdout",
     "output_type": "stream",
     "text": [
      "Model: \"sequential_3\"\n",
      "_________________________________________________________________\n",
      "Layer (type)                 Output Shape              Param #   \n",
      "=================================================================\n",
      "dense_12 (Dense)             (None, 64)                896       \n",
      "_________________________________________________________________\n",
      "dense_13 (Dense)             (None, 32)                2080      \n",
      "_________________________________________________________________\n",
      "dense_14 (Dense)             (None, 16)                528       \n",
      "_________________________________________________________________\n",
      "dense_15 (Dense)             (None, 7)                 119       \n",
      "=================================================================\n",
      "Total params: 3,623\n",
      "Trainable params: 3,623\n",
      "Non-trainable params: 0\n",
      "_________________________________________________________________\n"
     ]
    }
   ],
   "source": [
    "model_v.summary()"
   ]
  },
  {
   "cell_type": "code",
   "execution_count": null,
   "metadata": {},
   "outputs": [],
   "source": []
  }
 ],
 "metadata": {
  "kernelspec": {
   "display_name": "Python 3",
   "language": "python",
   "name": "python3"
  },
  "language_info": {
   "codemirror_mode": {
    "name": "ipython",
    "version": 3
   },
   "file_extension": ".py",
   "mimetype": "text/x-python",
   "name": "python",
   "nbconvert_exporter": "python",
   "pygments_lexer": "ipython3",
   "version": "3.8.3"
  }
 },
 "nbformat": 4,
 "nbformat_minor": 4
}
