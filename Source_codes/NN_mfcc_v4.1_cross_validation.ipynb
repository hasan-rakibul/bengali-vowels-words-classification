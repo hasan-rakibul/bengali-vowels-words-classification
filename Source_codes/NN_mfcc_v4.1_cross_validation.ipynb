{
 "cells": [
  {
   "cell_type": "code",
   "execution_count": 15,
   "metadata": {},
   "outputs": [],
   "source": [
    "import os,librosa\n",
    "import numpy as np\n",
    "from sklearn.model_selection import StratifiedKFold\n",
    "from tqdm import tqdm\n",
    "from tensorflow.keras.models import Sequential\n",
    "from tensorflow.keras.layers import Dense\n",
    "from tensorflow.keras import optimizers as opt\n",
    "from tensorflow.keras.utils import to_categorical\n",
    "from tensorflow.keras import losses\n",
    "import pandas as pd\n",
    "from sklearn.metrics import precision_score,recall_score,f1_score, cohen_kappa_score"
   ]
  },
  {
   "cell_type": "code",
   "execution_count": 61,
   "metadata": {},
   "outputs": [],
   "source": [
    "seed=42\n",
    "n_MFCC=6\n",
    "column_names= ['MFCC_'+str(i) for i in range(1,n_MFCC+1)]"
   ]
  },
  {
   "cell_type": "code",
   "execution_count": 62,
   "metadata": {},
   "outputs": [],
   "source": [
    "DATA_PATH=\"./Vowel_Data/Vowel/\""
   ]
  },
  {
   "cell_type": "code",
   "execution_count": 63,
   "metadata": {},
   "outputs": [],
   "source": [
    "def get_mfcc(file_path):\n",
    "    wave, sr= librosa.load(file_path, mono=True, sr=None)\n",
    "    mfcc=librosa.feature.mfcc(wave,sr=sr,n_mfcc=n_MFCC)\n",
    "    mfcc_df=pd.DataFrame(mfcc.T,columns=column_names) #convert array to pandas df\n",
    "    return mfcc_df\n",
    "\n",
    "def get_all_mfcc(path=DATA_PATH):\n",
    "    labels=sorted(os.listdir(path))\n",
    "    all_mfcc=pd.DataFrame() #empty dataframe to store all_mfccs\n",
    "    \n",
    "    for label_index,label in enumerate(labels):\n",
    "        folder_mfcc=pd.DataFrame() #empty dataframe to store mfcc of indivuals vowels/words i.e. folders\n",
    "\n",
    "        speech_files=[path + label + '/' + file for file in sorted(os.listdir(path+'/'+label))]\n",
    "        for file in tqdm(speech_files,\"Reading Speech of label -'{}'\".format(label)):\n",
    "            #print(file)\n",
    "            individual_mfcc=get_mfcc(file_path=file)\n",
    "            folder_mfcc=folder_mfcc.append(individual_mfcc,ignore_index=True)\n",
    "        \n",
    "        folder_mfcc['label']=label_index  #new columns for encoding label\n",
    "        \n",
    "        all_mfcc=all_mfcc.append(folder_mfcc,ignore_index=True)\n",
    "        \n",
    "    return all_mfcc\n",
    "\n",
    "def get_train_test():\n",
    "    all_mfccs=get_all_mfcc()\n",
    "    \n",
    "    y=all_mfccs['label'].values\n",
    "    \n",
    "    only_mfcc=all_mfccs.drop(labels=['label'],axis=1)\n",
    "    standard_mfcc=(only_mfcc-only_mfcc.mean())/only_mfcc.std()\n",
    "    X=standard_mfcc.values\n",
    "\n",
    "    assert X.shape[0] == len(y)\n",
    "    return X,y"
   ]
  },
  {
   "cell_type": "code",
   "execution_count": 64,
   "metadata": {
    "scrolled": true
   },
   "outputs": [
    {
     "name": "stderr",
     "output_type": "stream",
     "text": [
      "Reading Speech of label -'vowel1': 100%|██████████| 40/40 [00:00<00:00, 127.43it/s]\n",
      "Reading Speech of label -'vowel2': 100%|██████████| 40/40 [00:00<00:00, 101.74it/s]\n",
      "Reading Speech of label -'vowel3': 100%|██████████| 40/40 [00:00<00:00, 125.12it/s]\n",
      "Reading Speech of label -'vowel4': 100%|██████████| 40/40 [00:00<00:00, 109.71it/s]\n",
      "Reading Speech of label -'vowel5': 100%|██████████| 40/40 [00:00<00:00, 93.35it/s]\n",
      "Reading Speech of label -'vowel6': 100%|██████████| 40/40 [00:00<00:00, 117.13it/s]\n",
      "Reading Speech of label -'vowel7': 100%|██████████| 40/40 [00:00<00:00, 120.48it/s]\n"
     ]
    }
   ],
   "source": [
    "X,y=get_train_test()"
   ]
  },
  {
   "cell_type": "code",
   "execution_count": 65,
   "metadata": {
    "scrolled": false
   },
   "outputs": [
    {
     "name": "stdout",
     "output_type": "stream",
     "text": [
      "accuracy: 0.60\n",
      "auc: 0.92\n",
      "F1: 0.59\n",
      "Cohens kappa: 0.53\n",
      " \n",
      "accuracy: 0.62\n",
      "auc: 0.93\n",
      "F1: 0.60\n",
      "Cohens kappa: 0.56\n",
      " \n",
      "accuracy: 0.60\n",
      "auc: 0.92\n",
      "F1: 0.58\n",
      "Cohens kappa: 0.53\n",
      " \n",
      "accuracy: 0.59\n",
      "auc: 0.92\n",
      "F1: 0.58\n",
      "Cohens kappa: 0.52\n",
      " \n",
      "Overall acc: 0.60 (+/- 0.01)\n",
      "Overall AUC: 0.92 (+/- 0.00)\n",
      "Overall f1: 0.59 (+/- 0.01)\n",
      "Overall kappa: 0.54 (+/- 0.01)\n"
     ]
    }
   ],
   "source": [
    "kfold=StratifiedKFold(n_splits=4,shuffle=True,random_state=seed)\n",
    "cv_acc=[]\n",
    "cv_AUC=[]\n",
    "cv_f1=[]\n",
    "cv_kappa=[]\n",
    "\n",
    "for train,test in kfold.split(X,y):\n",
    "    y_hot=to_categorical(y)\n",
    "    \n",
    "    model_v=Sequential()\n",
    "    model_v.add(Dense(32, activation='tanh',input_shape=(X[train].shape[1],)))\n",
    "    model_v.add(Dense(16, activation='tanh'))\n",
    "    model_v.add(Dense(7, activation='softmax'))\n",
    "    \n",
    "    model_v.compile(\n",
    "        optimizer=opt.Adam(learning_rate=0.005),\n",
    "        loss='categorical_crossentropy',\n",
    "        metrics=[['accuracy','AUC']]\n",
    "    )\n",
    "    model_v.fit(X[train], y_hot[train], epochs=50, batch_size=X[train].shape[0],verbose=0)\n",
    "    \n",
    "    scores=model_v.evaluate(X[test],y_hot[test],verbose=0)\n",
    "    \n",
    "    print(\"%s: %.2f\" % (model_v.metrics_names[1],scores[1]))\n",
    "    print(\"%s: %.2f\" % (model_v.metrics_names[2],scores[2]))\n",
    "    \n",
    "    yhat_classes = model_v.predict_classes(X[test], verbose=0)\n",
    "    \n",
    "    f1 = f1_score(y[test], yhat_classes,average='weighted')\n",
    "    print('F1: %.2f' % f1)\n",
    "    \n",
    "    kappa = cohen_kappa_score(y[test], yhat_classes)\n",
    "    print('Cohens kappa: %.2f' % kappa)\n",
    "    \n",
    "    cv_acc.append(scores[1])\n",
    "    cv_AUC.append(scores[2])\n",
    "    cv_f1.append(f1)\n",
    "    cv_kappa.append(kappa)\n",
    "    \n",
    "    print(' ')\n",
    "    \n",
    "print(\"Overall acc: %.2f (+/- %.2f)\" % (np.mean(cv_acc),np.std(cv_acc)))\n",
    "print(\"Overall AUC: %.2f (+/- %.2f)\" % (np.mean(cv_AUC),np.std(cv_AUC)))\n",
    "print(\"Overall f1: %.2f (+/- %.2f)\" % (np.mean(cv_f1),np.std(cv_f1)))\n",
    "print(\"Overall kappa: %.2f (+/- %.2f)\" % (np.mean(cv_kappa),np.std(cv_kappa)))"
   ]
  },
  {
   "cell_type": "code",
   "execution_count": 66,
   "metadata": {},
   "outputs": [],
   "source": [
    "save_specifier='standard_6mfcc_64_32_16_tanh_softmax_adam_0.005_batchfull'"
   ]
  },
  {
   "cell_type": "code",
   "execution_count": 67,
   "metadata": {},
   "outputs": [],
   "source": [
    "cv_data_df=pd.DataFrame(data={'acc':cv_acc,\n",
    "                              'AUC':cv_AUC,\n",
    "                              'F1':cv_f1,\n",
    "                              'Kappa':cv_kappa}\n",
    "                       )\n",
    "cv_data_df.to_csv('./New_without_CNN/vowel_cv_data_df_'+save_specifier+'.csv')"
   ]
  },
  {
   "cell_type": "code",
   "execution_count": 68,
   "metadata": {},
   "outputs": [],
   "source": [
    "#WORD"
   ]
  },
  {
   "cell_type": "code",
   "execution_count": 69,
   "metadata": {},
   "outputs": [],
   "source": [
    "DATA_PATH=\"./Word_Data/Word/\""
   ]
  },
  {
   "cell_type": "code",
   "execution_count": 70,
   "metadata": {},
   "outputs": [],
   "source": [
    "def get_mfcc(file_path):\n",
    "    wave, sr= librosa.load(file_path, mono=True, sr=None)\n",
    "    mfcc=librosa.feature.mfcc(wave,sr=sr,n_mfcc=n_MFCC)\n",
    "    mfcc_df=pd.DataFrame(mfcc.T,columns=column_names) #convert array to pandas df\n",
    "    return mfcc_df\n",
    "\n",
    "def get_all_mfcc(path=DATA_PATH):\n",
    "    labels=sorted(os.listdir(path))\n",
    "    all_mfcc=pd.DataFrame() #empty dataframe to store all_mfccs\n",
    "    \n",
    "    for label_index,label in enumerate(labels):\n",
    "        folder_mfcc=pd.DataFrame() #empty dataframe to store mfcc of indivuals vowels/words i.e. folders\n",
    "\n",
    "        speech_files=[path + label + '/' + file for file in sorted(os.listdir(path+'/'+label))]\n",
    "        for file in tqdm(speech_files,\"Reading Speech of label -'{}'\".format(label)):\n",
    "            #print(file)\n",
    "            individual_mfcc=get_mfcc(file_path=file)\n",
    "            folder_mfcc=folder_mfcc.append(individual_mfcc,ignore_index=True)\n",
    "        \n",
    "        folder_mfcc['label']=label_index  #new columns for encoding label\n",
    "        \n",
    "        all_mfcc=all_mfcc.append(folder_mfcc,ignore_index=True)\n",
    "        \n",
    "    return all_mfcc\n",
    "\n",
    "def get_train_test():\n",
    "    all_mfccs=get_all_mfcc()\n",
    "    \n",
    "    y=all_mfccs['label'].values\n",
    "    \n",
    "    only_mfcc=all_mfccs.drop(labels=['label'],axis=1)\n",
    "    standard_mfcc=(only_mfcc-only_mfcc.mean())/only_mfcc.std()\n",
    "    X=standard_mfcc.values\n",
    "\n",
    "    assert X.shape[0] == len(y)\n",
    "    return X,y"
   ]
  },
  {
   "cell_type": "code",
   "execution_count": 71,
   "metadata": {},
   "outputs": [
    {
     "name": "stderr",
     "output_type": "stream",
     "text": [
      "Reading Speech of label -'Word1': 100%|██████████| 40/40 [00:00<00:00, 87.79it/s]\n",
      "Reading Speech of label -'Word2': 100%|██████████| 40/40 [00:00<00:00, 112.78it/s]\n",
      "Reading Speech of label -'Word3': 100%|██████████| 40/40 [00:00<00:00, 102.60it/s]\n",
      "Reading Speech of label -'Word4': 100%|██████████| 40/40 [00:00<00:00, 102.58it/s]\n",
      "Reading Speech of label -'Word5': 100%|██████████| 40/40 [00:00<00:00, 102.78it/s]\n",
      "Reading Speech of label -'Word6': 100%|██████████| 40/40 [00:00<00:00, 101.39it/s]\n",
      "Reading Speech of label -'Word7': 100%|██████████| 40/40 [00:00<00:00, 111.49it/s]\n"
     ]
    }
   ],
   "source": [
    "X,y=get_train_test()"
   ]
  },
  {
   "cell_type": "code",
   "execution_count": 72,
   "metadata": {},
   "outputs": [
    {
     "name": "stdout",
     "output_type": "stream",
     "text": [
      "accuracy: 0.43\n",
      "auc: 0.81\n",
      "F1: 0.41\n",
      "Cohens kappa: 0.33\n",
      " \n",
      "accuracy: 0.42\n",
      "auc: 0.81\n",
      "F1: 0.39\n",
      "Cohens kappa: 0.32\n",
      " \n",
      "accuracy: 0.43\n",
      "auc: 0.82\n",
      "F1: 0.41\n",
      "Cohens kappa: 0.33\n",
      " \n",
      "accuracy: 0.41\n",
      "auc: 0.80\n",
      "F1: 0.39\n",
      "Cohens kappa: 0.31\n",
      " \n",
      "Overall acc: 0.42 (+/- 0.01)\n",
      "Overall AUC: 0.81 (+/- 0.00)\n",
      "Overall f1: 0.40 (+/- 0.01)\n",
      "Overall kappa: 0.32 (+/- 0.01)\n"
     ]
    }
   ],
   "source": [
    "kfold=StratifiedKFold(n_splits=4,shuffle=True,random_state=seed)\n",
    "cv_acc=[]\n",
    "cv_AUC=[]\n",
    "cv_f1=[]\n",
    "cv_kappa=[]\n",
    "\n",
    "for train,test in kfold.split(X,y):\n",
    "    y_hot=to_categorical(y)\n",
    "    \n",
    "    model_w=Sequential()\n",
    "    model_w.add(Dense(32, activation='tanh',input_shape=(X[train].shape[1],)))\n",
    "    model_w.add(Dense(16, activation='tanh'))\n",
    "    model_w.add(Dense(7, activation='softmax'))\n",
    "    \n",
    "    model_w.compile(\n",
    "        optimizer=opt.Adam(learning_rate=0.005),\n",
    "        loss='categorical_crossentropy',\n",
    "        metrics=[['accuracy','AUC']]\n",
    "    )\n",
    "    model_w.fit(X[train], y_hot[train], epochs=50, batch_size=X[train].shape[0],verbose=0)\n",
    "    \n",
    "    scores=model_w.evaluate(X[test],y_hot[test],verbose=0)\n",
    "    \n",
    "    print(\"%s: %.2f\" % (model_w.metrics_names[1],scores[1]))\n",
    "    print(\"%s: %.2f\" % (model_w.metrics_names[2],scores[2]))\n",
    "    \n",
    "    yhat_classes = model_w.predict_classes(X[test], verbose=0)\n",
    "    \n",
    "    f1 = f1_score(y[test], yhat_classes,average='weighted')\n",
    "    print('F1: %.2f' % f1)\n",
    "    \n",
    "    kappa = cohen_kappa_score(y[test], yhat_classes)\n",
    "    print('Cohens kappa: %.2f' % kappa)\n",
    "    \n",
    "    cv_acc.append(scores[1])\n",
    "    cv_AUC.append(scores[2])\n",
    "    cv_f1.append(f1)\n",
    "    cv_kappa.append(kappa)\n",
    "    \n",
    "    print(' ')\n",
    "    \n",
    "print(\"Overall acc: %.2f (+/- %.2f)\" % (np.mean(cv_acc),np.std(cv_acc)))\n",
    "print(\"Overall AUC: %.2f (+/- %.2f)\" % (np.mean(cv_AUC),np.std(cv_AUC)))\n",
    "print(\"Overall f1: %.2f (+/- %.2f)\" % (np.mean(cv_f1),np.std(cv_f1)))\n",
    "print(\"Overall kappa: %.2f (+/- %.2f)\" % (np.mean(cv_kappa),np.std(cv_kappa)))"
   ]
  },
  {
   "cell_type": "code",
   "execution_count": 60,
   "metadata": {},
   "outputs": [],
   "source": [
    "cv_data_df=pd.DataFrame(data={'acc':cv_acc,\n",
    "                              'AUC':cv_AUC,\n",
    "                              'F1':cv_f1,\n",
    "                              'Kappa':cv_kappa}\n",
    "                       )\n",
    "cv_data_df.to_csv('./New_without_CNN/vowel_cv_data_df_'+save_specifier+'.csv')"
   ]
  }
 ],
 "metadata": {
  "kernelspec": {
   "display_name": "Python 3",
   "language": "python",
   "name": "python3"
  },
  "language_info": {
   "codemirror_mode": {
    "name": "ipython",
    "version": 3
   },
   "file_extension": ".py",
   "mimetype": "text/x-python",
   "name": "python",
   "nbconvert_exporter": "python",
   "pygments_lexer": "ipython3",
   "version": "3.8.3"
  }
 },
 "nbformat": 4,
 "nbformat_minor": 4
}
