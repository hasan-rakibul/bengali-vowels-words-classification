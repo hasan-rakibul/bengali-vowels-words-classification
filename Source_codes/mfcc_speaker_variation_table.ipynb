{
 "cells": [
  {
   "cell_type": "code",
   "execution_count": 9,
   "metadata": {},
   "outputs": [],
   "source": [
    "import librosa\n",
    "import os\n",
    "from scipy.stats import variation\n",
    "import numpy as np\n",
    "import matplotlib.pyplot as plt"
   ]
  },
  {
   "cell_type": "code",
   "execution_count": 115,
   "metadata": {},
   "outputs": [],
   "source": [
    "Word_PATH=\"./Word_Data/Word/Word5/\"\n",
    "Vowel_PATH=\"./Vowel_Data/Vowel/vowel7/\""
   ]
  },
  {
   "cell_type": "code",
   "execution_count": 116,
   "metadata": {
    "scrolled": true
   },
   "outputs": [],
   "source": [
    "def speech2mfcc(file_path,max_len=13):\n",
    "    wave, sr= librosa.load(file_path, mono=True, sr=None)\n",
    "    wave=wave[::2]\n",
    "    mfcc=librosa.feature.mfcc(wave,sr=sr)\n",
    "    if (mfcc.shape[1]<max_len): #.shape[1], 1-->column, max len of 13 is considered\n",
    "        pad_width=max_len-mfcc.shape[1]\n",
    "        mfcc=np.pad(mfcc,pad_width=((0,0),(0,pad_width)),mode='constant')\n",
    "    else:\n",
    "        mfcc=mfcc[:,:13]\n",
    "        \n",
    "    return mfcc"
   ]
  },
  {
   "cell_type": "code",
   "execution_count": null,
   "metadata": {},
   "outputs": [],
   "source": [
    "mfcc_vectors=[]\n",
    "labels=os.listdir(Word_PATH)\n",
    "\n",
    "for speech in labels:\n",
    "    mfcc=speech2mfcc(Word_PATH+speech)\n",
    "    mfcc_vectors.append(mfcc)"
   ]
  },
  {
   "cell_type": "code",
   "execution_count": null,
   "metadata": {},
   "outputs": [],
   "source": [
    "mfcc_total=[]\n",
    "for n_mf,_ in enumerate(mfcc_vectors[1]):\n",
    "#    print('n_mf='+repr(n_mf))\n",
    "    mfcc_i=mfcc_vectors[0][n_mf,]\n",
    "    for i,_ in enumerate(mfcc_vectors[1:]):\n",
    "#        print('i='+repr(i))\n",
    "        mfcc_i=np.vstack((mfcc_i,mfcc_vectors[i+1][n_mf,]))\n",
    "    mfcc_total.append(mfcc_i)"
   ]
  },
  {
   "cell_type": "code",
   "execution_count": null,
   "metadata": {},
   "outputs": [],
   "source": [
    "for j,_ in enumerate(mfcc_total):\n",
    "    mfcc_total[j][mfcc_total[j] ==0]=np.nan"
   ]
  },
  {
   "cell_type": "code",
   "execution_count": null,
   "metadata": {},
   "outputs": [],
   "source": [
    "speaker_variation=np.nanstd(mfcc_total,axis=1)"
   ]
  },
  {
   "cell_type": "code",
   "execution_count": null,
   "metadata": {},
   "outputs": [],
   "source": [
    "#sr=44100\n",
    "#time_sample=np.linspace(0,50/sr,11)\n",
    "plt.figure(figsize=(10,4))\n",
    "plt.plot(range(1,14),speaker_variation.transpose())\n",
    "plt.xticks(range(1,14))\n",
    "plt.xlabel('Time Sample')\n",
    "plt.ylabel('Standard Deviation')\n",
    "plt.title('Variation of MFCC for different speaker')\n",
    "\n",
    "label=[]\n",
    "for i in range(1,6):\n",
    "    label.append('MFCC: '+repr(i))\n",
    "\n",
    "plt.legend(label)\n",
    "\n",
    "plt.savefig('./Result/Word5_speaker_variation.svg',format='svg', dpi=1200)\n",
    "#np.save('SD_vs_time_all_formant_1.npy',std_total)"
   ]
  }
 ],
 "metadata": {
  "kernelspec": {
   "display_name": "Python 3",
   "language": "python",
   "name": "python3"
  },
  "language_info": {
   "codemirror_mode": {
    "name": "ipython",
    "version": 3
   },
   "file_extension": ".py",
   "mimetype": "text/x-python",
   "name": "python",
   "nbconvert_exporter": "python",
   "pygments_lexer": "ipython3",
   "version": "3.8.3"
  }
 },
 "nbformat": 4,
 "nbformat_minor": 2
}
