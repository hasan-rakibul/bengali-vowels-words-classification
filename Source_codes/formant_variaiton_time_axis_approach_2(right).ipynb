{
 "cells": [
  {
   "cell_type": "code",
   "execution_count": 1,
   "metadata": {},
   "outputs": [],
   "source": [
    "import pandas as pd\n",
    "import numpy as np\n",
    "import os\n",
    "from scipy.stats import variation"
   ]
  },
  {
   "cell_type": "code",
   "execution_count": 6,
   "metadata": {},
   "outputs": [],
   "source": [
    "for k in range(1,2):   #number of variation or trial....WData_v1, v2\n",
    "    for j in range(1,8):  #number of word in each variation\n",
    "        #DATA_PATH=\"./WData_v\"+str(k)+\"/Formant/Formant\"+str(j)+\"/\"\n",
    "        #DATA_PATH=\"./WData_all/Formant/Formant\"+str(j)+\"/\"\n",
    "        DATA_PATH=\"./Vowel_Data/Formant/Formant\"+str(j)+\"/\"\n",
    "        #DATA_PATH=\"./Word_Data/Formant/Formant\"+str(j)+\"/\"\n",
    "        i=0\n",
    "        for speechfile in os.listdir(DATA_PATH):  #accessing each formant file\n",
    "            data = pd.read_csv(DATA_PATH+speechfile, delim_whitespace=True,header=None,names=[\"time\",\"F1\",\"F2\",\"F3\",\"F4\",\"F5\"],dtype=np.float64,na_values=\"--undefined--\")\n",
    "            if i==0:\n",
    "                cov=variation(data,axis=0)  #row to row variation\n",
    "                i=1;\n",
    "            else:\n",
    "                cov=np.vstack((cov,variation(data,axis=0)))\n",
    "    \n",
    "        mean_variation=cov.mean(axis=0)  #row to row mean...mean for all F1, mean for all F2...\n",
    "    \n",
    "        #np.save('./New_without_CNN/Formant_variation/COV_trial'+str(k)+'_vowel_'+str(j)+'.npy',mean_variation) #file saved as ....<trial_number>...<word_number>\n",
    "        #np.save('./Result/COV/COV_all_word_'+str(j)+'.npy',mean_variation) #file saved as ....<trial_number>...<word_number>\n"
   ]
  },
  {
   "cell_type": "code",
   "execution_count": 7,
   "metadata": {},
   "outputs": [
    {
     "data": {
      "text/plain": [
       "array([0.50647537, 0.39146175, 0.4938618 , 0.13122308, 0.06216533,\n",
       "       0.07009489])"
      ]
     },
     "execution_count": 7,
     "metadata": {},
     "output_type": "execute_result"
    }
   ],
   "source": [
    "mean_variation"
   ]
  },
  {
   "cell_type": "code",
   "execution_count": 4,
   "metadata": {},
   "outputs": [
    {
     "data": {
      "text/plain": [
       "array([0.50988726, 0.53342787, 0.41572811, 0.17538039, 0.11974406,\n",
       "       0.09321043])"
      ]
     },
     "execution_count": 4,
     "metadata": {},
     "output_type": "execute_result"
    }
   ],
   "source": [
    "DATA_PATH_w=\"./Word_Data/Formant/Formant\"+str(j)+\"/\""
   ]
  },
  {
   "cell_type": "code",
   "execution_count": 8,
   "metadata": {},
   "outputs": [
    {
     "data": {
      "text/plain": [
       "array([0.18804143, 0.16094586, 0.13442615, 0.0566681 , 0.04529129,\n",
       "       0.05310488])"
      ]
     },
     "execution_count": 8,
     "metadata": {},
     "output_type": "execute_result"
    }
   ],
   "source": [
    "np.load('./Result/COV/COV_all_word_7.npy')"
   ]
  },
  {
   "cell_type": "code",
   "execution_count": 4,
   "metadata": {},
   "outputs": [],
   "source": [
    "variation_df=pd.DataFrame(np.load('./Result/COV/COV_all_word_7.npy'))"
   ]
  },
  {
   "cell_type": "code",
   "execution_count": 5,
   "metadata": {},
   "outputs": [
    {
     "data": {
      "text/html": [
       "<div>\n",
       "<style scoped>\n",
       "    .dataframe tbody tr th:only-of-type {\n",
       "        vertical-align: middle;\n",
       "    }\n",
       "\n",
       "    .dataframe tbody tr th {\n",
       "        vertical-align: top;\n",
       "    }\n",
       "\n",
       "    .dataframe thead th {\n",
       "        text-align: right;\n",
       "    }\n",
       "</style>\n",
       "<table border=\"1\" class=\"dataframe\">\n",
       "  <thead>\n",
       "    <tr style=\"text-align: right;\">\n",
       "      <th></th>\n",
       "      <th>0</th>\n",
       "    </tr>\n",
       "  </thead>\n",
       "  <tbody>\n",
       "    <tr>\n",
       "      <th>0</th>\n",
       "      <td>0.188041</td>\n",
       "    </tr>\n",
       "    <tr>\n",
       "      <th>1</th>\n",
       "      <td>0.160946</td>\n",
       "    </tr>\n",
       "    <tr>\n",
       "      <th>2</th>\n",
       "      <td>0.134426</td>\n",
       "    </tr>\n",
       "    <tr>\n",
       "      <th>3</th>\n",
       "      <td>0.056668</td>\n",
       "    </tr>\n",
       "    <tr>\n",
       "      <th>4</th>\n",
       "      <td>0.045291</td>\n",
       "    </tr>\n",
       "    <tr>\n",
       "      <th>5</th>\n",
       "      <td>0.053105</td>\n",
       "    </tr>\n",
       "  </tbody>\n",
       "</table>\n",
       "</div>"
      ],
      "text/plain": [
       "          0\n",
       "0  0.188041\n",
       "1  0.160946\n",
       "2  0.134426\n",
       "3  0.056668\n",
       "4  0.045291\n",
       "5  0.053105"
      ]
     },
     "execution_count": 5,
     "metadata": {},
     "output_type": "execute_result"
    }
   ],
   "source": [
    "variation_df"
   ]
  }
 ],
 "metadata": {
  "kernelspec": {
   "display_name": "Python 3",
   "language": "python",
   "name": "python3"
  },
  "language_info": {
   "codemirror_mode": {
    "name": "ipython",
    "version": 3
   },
   "file_extension": ".py",
   "mimetype": "text/x-python",
   "name": "python",
   "nbconvert_exporter": "python",
   "pygments_lexer": "ipython3",
   "version": "3.8.3"
  }
 },
 "nbformat": 4,
 "nbformat_minor": 2
}
