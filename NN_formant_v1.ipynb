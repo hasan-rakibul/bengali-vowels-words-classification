{
 "cells": [
  {
   "cell_type": "code",
   "execution_count": 45,
   "metadata": {},
   "outputs": [],
   "source": [
    "import os\n",
    "import numpy as np\n",
    "import matplotlib.pyplot as plt\n",
    "from sklearn.model_selection import train_test_split\n",
    "from tqdm import tqdm\n",
    "from tensorflow.keras.models import Sequential\n",
    "from tensorflow.keras.layers import Dense\n",
    "from tensorflow.keras import optimizers as opt\n",
    "from tensorflow.keras.utils import to_categorical\n",
    "from tensorflow.keras import losses"
   ]
  },
  {
   "cell_type": "code",
   "execution_count": 2,
   "metadata": {},
   "outputs": [],
   "source": [
    "DATA_PATH=\"./Vowel_Data/Formant/\"\n",
    "n_time_sample=25"
   ]
  },
  {
   "cell_type": "code",
   "execution_count": 3,
   "metadata": {},
   "outputs": [],
   "source": [
    "seed=0"
   ]
  },
  {
   "cell_type": "code",
   "execution_count": 51,
   "metadata": {},
   "outputs": [],
   "source": [
    "def get_labels(path=DATA_PATH):\n",
    "    labels=sorted(os.listdir(path))\n",
    "    label_indices=np.arange(0,len(labels))\n",
    "    return labels, label_indices, to_categorical(label_indices)\n",
    "\n",
    "def get_formant(file_path,max_len=n_time_sample):\n",
    "    formant=np.genfromtxt(fname=file_path,missing_values=\"--undefined--\",filling_values=0.)\n",
    "    if (max_len > formant.shape[0]):\n",
    "        pad_width=max_len-formant.shape[0]\n",
    "        formant=np.pad(formant,pad_width=((0,0),(0,pad_width)),mode='constant')\n",
    "    else:\n",
    "        formant=formant[:max_len,:]\n",
    "    return formant\n",
    "\n",
    "def save_data_to_array(path=DATA_PATH, max_len=n_time_sample):\n",
    "    labels,_,_=get_labels(path)\n",
    "\n",
    "    for label in labels:\n",
    "        formant_vectors=[]\n",
    "\n",
    "        formant_files=[path + label + '/' + file for file in sorted(os.listdir(path+'/'+label))]\n",
    "        for file in tqdm(formant_files,\"Saving vectors to label -'{}'\".format(label)):\n",
    "            formant=get_formant(file_path=file)\n",
    "            formant_vectors.append(formant)\n",
    "            \n",
    "        np.save(label+'.npy',formant_vectors)\n",
    "        \n",
    "def get_train_test(split_ratio=0.8,random_state=42):\n",
    "    labels,indices,_=get_labels(DATA_PATH)\n",
    "\n",
    "    X=np.load(labels[0]+'.npy')\n",
    "    y=np.zeros(X.shape[0])\n",
    "\n",
    "    for i,label in enumerate(labels[1:]):\n",
    "        x=np.load(label+'.npy')\n",
    "        X=np.vstack((X,x))\n",
    "        y=np.append(y,np.full(x.shape[0],fill_value=(i+1)))\n",
    "    assert X.shape[0] == len(y)\n",
    "    return train_test_split(X,y,test_size=(1-split_ratio),random_state=random_state,shuffle=True,stratify=y)"
   ]
  },
  {
   "cell_type": "code",
   "execution_count": 30,
   "metadata": {},
   "outputs": [
    {
     "name": "stderr",
     "output_type": "stream",
     "text": [
      "Saving vectors to label -'Formant1': 100%|██████████| 40/40 [00:00<00:00, 588.89it/s]\n",
      "Saving vectors to label -'Formant2': 100%|██████████| 40/40 [00:00<00:00, 643.99it/s]\n",
      "Saving vectors to label -'Formant3': 100%|██████████| 40/40 [00:00<00:00, 746.11it/s]\n",
      "Saving vectors to label -'Formant4':   0%|          | 0/40 [00:00<?, ?it/s]"
     ]
    },
    {
     "name": "stdout",
     "output_type": "stream",
     "text": [
      "./Vowel_Data/Formant/Formant1/vowel1_10_Formant_frq.txt\n",
      "./Vowel_Data/Formant/Formant1/vowel1_11_Formant_frq.txt\n",
      "./Vowel_Data/Formant/Formant1/vowel1_12_Formant_frq.txt\n",
      "./Vowel_Data/Formant/Formant1/vowel1_13_Formant_frq.txt\n",
      "./Vowel_Data/Formant/Formant1/vowel1_14_Formant_frq.txt\n",
      "./Vowel_Data/Formant/Formant1/vowel1_15_Formant_frq.txt\n",
      "./Vowel_Data/Formant/Formant1/vowel1_16_Formant_frq.txt\n",
      "./Vowel_Data/Formant/Formant1/vowel1_17_Formant_frq.txt\n",
      "./Vowel_Data/Formant/Formant1/vowel1_18_Formant_frq.txt\n",
      "./Vowel_Data/Formant/Formant1/vowel1_19_Formant_frq.txt\n",
      "./Vowel_Data/Formant/Formant1/vowel1_1_Formant_frq.txt\n",
      "./Vowel_Data/Formant/Formant1/vowel1_20_Formant_frq.txt\n",
      "./Vowel_Data/Formant/Formant1/vowel1_21_Formant_frq.txt\n",
      "./Vowel_Data/Formant/Formant1/vowel1_22_Formant_frq.txt\n",
      "./Vowel_Data/Formant/Formant1/vowel1_23_Formant_frq.txt\n",
      "./Vowel_Data/Formant/Formant1/vowel1_24_Formant_frq.txt\n",
      "./Vowel_Data/Formant/Formant1/vowel1_25_Formant_frq.txt\n",
      "./Vowel_Data/Formant/Formant1/vowel1_26_Formant_frq.txt\n",
      "./Vowel_Data/Formant/Formant1/vowel1_27_Formant_frq.txt\n",
      "./Vowel_Data/Formant/Formant1/vowel1_28_Formant_frq.txt\n",
      "./Vowel_Data/Formant/Formant1/vowel1_29_Formant_frq.txt\n",
      "./Vowel_Data/Formant/Formant1/vowel1_2_Formant_frq.txt\n",
      "./Vowel_Data/Formant/Formant1/vowel1_30_Formant_frq.txt\n",
      "./Vowel_Data/Formant/Formant1/vowel1_31_Formant_frq.txt\n",
      "./Vowel_Data/Formant/Formant1/vowel1_32_Formant_frq.txt\n",
      "./Vowel_Data/Formant/Formant1/vowel1_33_Formant_frq.txt\n",
      "./Vowel_Data/Formant/Formant1/vowel1_34_Formant_frq.txt\n",
      "./Vowel_Data/Formant/Formant1/vowel1_35_Formant_frq.txt\n",
      "./Vowel_Data/Formant/Formant1/vowel1_36_Formant_frq.txt\n",
      "./Vowel_Data/Formant/Formant1/vowel1_37_Formant_frq.txt\n",
      "./Vowel_Data/Formant/Formant1/vowel1_38_Formant_frq.txt\n",
      "./Vowel_Data/Formant/Formant1/vowel1_39_Formant_frq.txt\n",
      "./Vowel_Data/Formant/Formant1/vowel1_3_Formant_frq.txt\n",
      "./Vowel_Data/Formant/Formant1/vowel1_40_Formant_frq.txt\n",
      "./Vowel_Data/Formant/Formant1/vowel1_4_Formant_frq.txt\n",
      "./Vowel_Data/Formant/Formant1/vowel1_5_Formant_frq.txt\n",
      "./Vowel_Data/Formant/Formant1/vowel1_6_Formant_frq.txt\n",
      "./Vowel_Data/Formant/Formant1/vowel1_7_Formant_frq.txt\n",
      "./Vowel_Data/Formant/Formant1/vowel1_8_Formant_frq.txt\n",
      "./Vowel_Data/Formant/Formant1/vowel1_9_Formant_frq.txt\n",
      "./Vowel_Data/Formant/Formant2/vowel2_10_Formant_frq.txt\n",
      "./Vowel_Data/Formant/Formant2/vowel2_11_Formant_frq.txt\n",
      "./Vowel_Data/Formant/Formant2/vowel2_12_Formant_frq.txt\n",
      "./Vowel_Data/Formant/Formant2/vowel2_13_Formant_frq.txt\n",
      "./Vowel_Data/Formant/Formant2/vowel2_14_Formant_frq.txt\n",
      "./Vowel_Data/Formant/Formant2/vowel2_15_Formant_frq.txt\n",
      "./Vowel_Data/Formant/Formant2/vowel2_16_Formant_frq.txt\n",
      "./Vowel_Data/Formant/Formant2/vowel2_17_Formant_frq.txt\n",
      "./Vowel_Data/Formant/Formant2/vowel2_18_Formant_frq.txt\n",
      "./Vowel_Data/Formant/Formant2/vowel2_19_Formant_frq.txt\n",
      "./Vowel_Data/Formant/Formant2/vowel2_1_Formant_frq.txt\n",
      "./Vowel_Data/Formant/Formant2/vowel2_20_Formant_frq.txt\n",
      "./Vowel_Data/Formant/Formant2/vowel2_21_Formant_frq.txt\n",
      "./Vowel_Data/Formant/Formant2/vowel2_22_Formant_frq.txt\n",
      "./Vowel_Data/Formant/Formant2/vowel2_23_Formant_frq.txt\n",
      "./Vowel_Data/Formant/Formant2/vowel2_24_Formant_frq.txt\n",
      "./Vowel_Data/Formant/Formant2/vowel2_25_Formant_frq.txt\n",
      "./Vowel_Data/Formant/Formant2/vowel2_26_Formant_frq.txt\n",
      "./Vowel_Data/Formant/Formant2/vowel2_27_Formant_frq.txt\n",
      "./Vowel_Data/Formant/Formant2/vowel2_28_Formant_frq.txt\n",
      "./Vowel_Data/Formant/Formant2/vowel2_29_Formant_frq.txt\n",
      "./Vowel_Data/Formant/Formant2/vowel2_2_Formant_frq.txt\n",
      "./Vowel_Data/Formant/Formant2/vowel2_30_Formant_frq.txt\n",
      "./Vowel_Data/Formant/Formant2/vowel2_31_Formant_frq.txt\n",
      "./Vowel_Data/Formant/Formant2/vowel2_32_Formant_frq.txt\n",
      "./Vowel_Data/Formant/Formant2/vowel2_33_Formant_frq.txt\n",
      "./Vowel_Data/Formant/Formant2/vowel2_34_Formant_frq.txt\n",
      "./Vowel_Data/Formant/Formant2/vowel2_35_Formant_frq.txt\n",
      "./Vowel_Data/Formant/Formant2/vowel2_36_Formant_frq.txt\n",
      "./Vowel_Data/Formant/Formant2/vowel2_37_Formant_frq.txt\n",
      "./Vowel_Data/Formant/Formant2/vowel2_38_Formant_frq.txt\n",
      "./Vowel_Data/Formant/Formant2/vowel2_39_Formant_frq.txt\n",
      "./Vowel_Data/Formant/Formant2/vowel2_3_Formant_frq.txt\n",
      "./Vowel_Data/Formant/Formant2/vowel2_40_Formant_frq.txt\n",
      "./Vowel_Data/Formant/Formant2/vowel2_4_Formant_frq.txt\n",
      "./Vowel_Data/Formant/Formant2/vowel2_5_Formant_frq.txt\n",
      "./Vowel_Data/Formant/Formant2/vowel2_6_Formant_frq.txt\n",
      "./Vowel_Data/Formant/Formant2/vowel2_7_Formant_frq.txt\n",
      "./Vowel_Data/Formant/Formant2/vowel2_8_Formant_frq.txt\n",
      "./Vowel_Data/Formant/Formant2/vowel2_9_Formant_frq.txt\n",
      "./Vowel_Data/Formant/Formant3/vowel3_10_Formant_frq.txt\n",
      "./Vowel_Data/Formant/Formant3/vowel3_11_Formant_frq.txt\n",
      "./Vowel_Data/Formant/Formant3/vowel3_12_Formant_frq.txt\n",
      "./Vowel_Data/Formant/Formant3/vowel3_13_Formant_frq.txt\n",
      "./Vowel_Data/Formant/Formant3/vowel3_14_Formant_frq.txt\n",
      "./Vowel_Data/Formant/Formant3/vowel3_15_Formant_frq.txt\n",
      "./Vowel_Data/Formant/Formant3/vowel3_16_Formant_frq.txt\n",
      "./Vowel_Data/Formant/Formant3/vowel3_17_Formant_frq.txt\n",
      "./Vowel_Data/Formant/Formant3/vowel3_18_Formant_frq.txt\n",
      "./Vowel_Data/Formant/Formant3/vowel3_19_Formant_frq.txt\n",
      "./Vowel_Data/Formant/Formant3/vowel3_1_Formant_frq.txt\n",
      "./Vowel_Data/Formant/Formant3/vowel3_20_Formant_frq.txt\n",
      "./Vowel_Data/Formant/Formant3/vowel3_21_Formant_frq.txt\n",
      "./Vowel_Data/Formant/Formant3/vowel3_22_Formant_frq.txt\n",
      "./Vowel_Data/Formant/Formant3/vowel3_23_Formant_frq.txt\n",
      "./Vowel_Data/Formant/Formant3/vowel3_24_Formant_frq.txt\n",
      "./Vowel_Data/Formant/Formant3/vowel3_25_Formant_frq.txt\n",
      "./Vowel_Data/Formant/Formant3/vowel3_26_Formant_frq.txt\n",
      "./Vowel_Data/Formant/Formant3/vowel3_27_Formant_frq.txt\n",
      "./Vowel_Data/Formant/Formant3/vowel3_28_Formant_frq.txt\n",
      "./Vowel_Data/Formant/Formant3/vowel3_29_Formant_frq.txt\n",
      "./Vowel_Data/Formant/Formant3/vowel3_2_Formant_frq.txt\n",
      "./Vowel_Data/Formant/Formant3/vowel3_30_Formant_frq.txt\n",
      "./Vowel_Data/Formant/Formant3/vowel3_31_Formant_frq.txt\n",
      "./Vowel_Data/Formant/Formant3/vowel3_32_Formant_frq.txt\n",
      "./Vowel_Data/Formant/Formant3/vowel3_33_Formant_frq.txt\n",
      "./Vowel_Data/Formant/Formant3/vowel3_34_Formant_frq.txt\n",
      "./Vowel_Data/Formant/Formant3/vowel3_35_Formant_frq.txt\n",
      "./Vowel_Data/Formant/Formant3/vowel3_36_Formant_frq.txt\n",
      "./Vowel_Data/Formant/Formant3/vowel3_37_Formant_frq.txt\n",
      "./Vowel_Data/Formant/Formant3/vowel3_38_Formant_frq.txt\n",
      "./Vowel_Data/Formant/Formant3/vowel3_39_Formant_frq.txt\n",
      "./Vowel_Data/Formant/Formant3/vowel3_3_Formant_frq.txt\n",
      "./Vowel_Data/Formant/Formant3/vowel3_40_Formant_frq.txt\n",
      "./Vowel_Data/Formant/Formant3/vowel3_4_Formant_frq.txt\n",
      "./Vowel_Data/Formant/Formant3/vowel3_5_Formant_frq.txt\n",
      "./Vowel_Data/Formant/Formant3/vowel3_6_Formant_frq.txt\n",
      "./Vowel_Data/Formant/Formant3/vowel3_7_Formant_frq.txt\n",
      "./Vowel_Data/Formant/Formant3/vowel3_8_Formant_frq.txt\n",
      "./Vowel_Data/Formant/Formant3/vowel3_9_Formant_frq.txt\n"
     ]
    },
    {
     "name": "stderr",
     "output_type": "stream",
     "text": [
      "Saving vectors to label -'Formant4': 100%|██████████| 40/40 [00:00<00:00, 560.48it/s]\n",
      "Saving vectors to label -'Formant5': 100%|██████████| 40/40 [00:00<00:00, 843.30it/s]\n",
      "Saving vectors to label -'Formant6': 100%|██████████| 40/40 [00:00<00:00, 1011.25it/s]\n",
      "Saving vectors to label -'Formant7':   0%|          | 0/40 [00:00<?, ?it/s]"
     ]
    },
    {
     "name": "stdout",
     "output_type": "stream",
     "text": [
      "./Vowel_Data/Formant/Formant4/vowel4_10_Formant_frq.txt\n",
      "./Vowel_Data/Formant/Formant4/vowel4_11_Formant_frq.txt\n",
      "./Vowel_Data/Formant/Formant4/vowel4_12_Formant_frq.txt\n",
      "./Vowel_Data/Formant/Formant4/vowel4_13_Formant_frq.txt\n",
      "./Vowel_Data/Formant/Formant4/vowel4_14_Formant_frq.txt\n",
      "./Vowel_Data/Formant/Formant4/vowel4_15_Formant_frq.txt\n",
      "./Vowel_Data/Formant/Formant4/vowel4_16_Formant_frq.txt\n",
      "./Vowel_Data/Formant/Formant4/vowel4_17_Formant_frq.txt\n",
      "./Vowel_Data/Formant/Formant4/vowel4_18_Formant_frq.txt\n",
      "./Vowel_Data/Formant/Formant4/vowel4_19_Formant_frq.txt\n",
      "./Vowel_Data/Formant/Formant4/vowel4_1_Formant_frq.txt\n",
      "./Vowel_Data/Formant/Formant4/vowel4_20_Formant_frq.txt\n",
      "./Vowel_Data/Formant/Formant4/vowel4_21_Formant_frq.txt\n",
      "./Vowel_Data/Formant/Formant4/vowel4_22_Formant_frq.txt\n",
      "./Vowel_Data/Formant/Formant4/vowel4_23_Formant_frq.txt\n",
      "./Vowel_Data/Formant/Formant4/vowel4_24_Formant_frq.txt\n",
      "./Vowel_Data/Formant/Formant4/vowel4_25_Formant_frq.txt\n",
      "./Vowel_Data/Formant/Formant4/vowel4_26_Formant_frq.txt\n",
      "./Vowel_Data/Formant/Formant4/vowel4_27_Formant_frq.txt\n",
      "./Vowel_Data/Formant/Formant4/vowel4_28_Formant_frq.txt\n",
      "./Vowel_Data/Formant/Formant4/vowel4_29_Formant_frq.txt\n",
      "./Vowel_Data/Formant/Formant4/vowel4_2_Formant_frq.txt\n",
      "./Vowel_Data/Formant/Formant4/vowel4_30_Formant_frq.txt\n",
      "./Vowel_Data/Formant/Formant4/vowel4_31_Formant_frq.txt\n",
      "./Vowel_Data/Formant/Formant4/vowel4_32_Formant_frq.txt\n",
      "./Vowel_Data/Formant/Formant4/vowel4_33_Formant_frq.txt\n",
      "./Vowel_Data/Formant/Formant4/vowel4_34_Formant_frq.txt\n",
      "./Vowel_Data/Formant/Formant4/vowel4_35_Formant_frq.txt\n",
      "./Vowel_Data/Formant/Formant4/vowel4_36_Formant_frq.txt\n",
      "./Vowel_Data/Formant/Formant4/vowel4_37_Formant_frq.txt\n",
      "./Vowel_Data/Formant/Formant4/vowel4_38_Formant_frq.txt\n",
      "./Vowel_Data/Formant/Formant4/vowel4_39_Formant_frq.txt\n",
      "./Vowel_Data/Formant/Formant4/vowel4_3_Formant_frq.txt\n",
      "./Vowel_Data/Formant/Formant4/vowel4_40_Formant_frq.txt\n",
      "./Vowel_Data/Formant/Formant4/vowel4_4_Formant_frq.txt\n",
      "./Vowel_Data/Formant/Formant4/vowel4_5_Formant_frq.txt\n",
      "./Vowel_Data/Formant/Formant4/vowel4_6_Formant_frq.txt\n",
      "./Vowel_Data/Formant/Formant4/vowel4_7_Formant_frq.txt\n",
      "./Vowel_Data/Formant/Formant4/vowel4_8_Formant_frq.txt\n",
      "./Vowel_Data/Formant/Formant4/vowel4_9_Formant_frq.txt\n",
      "./Vowel_Data/Formant/Formant5/vowel5_10_Formant_frq.txt\n",
      "./Vowel_Data/Formant/Formant5/vowel5_11_Formant_frq.txt\n",
      "./Vowel_Data/Formant/Formant5/vowel5_12_Formant_frq.txt\n",
      "./Vowel_Data/Formant/Formant5/vowel5_13_Formant_frq.txt\n",
      "./Vowel_Data/Formant/Formant5/vowel5_14_Formant_frq.txt\n",
      "./Vowel_Data/Formant/Formant5/vowel5_15_Formant_frq.txt\n",
      "./Vowel_Data/Formant/Formant5/vowel5_16_Formant_frq.txt\n",
      "./Vowel_Data/Formant/Formant5/vowel5_17_Formant_frq.txt\n",
      "./Vowel_Data/Formant/Formant5/vowel5_18_Formant_frq.txt\n",
      "./Vowel_Data/Formant/Formant5/vowel5_19_Formant_frq.txt\n",
      "./Vowel_Data/Formant/Formant5/vowel5_1_Formant_frq.txt\n",
      "./Vowel_Data/Formant/Formant5/vowel5_20_Formant_frq.txt\n",
      "./Vowel_Data/Formant/Formant5/vowel5_21_Formant_frq.txt\n",
      "./Vowel_Data/Formant/Formant5/vowel5_22_Formant_frq.txt\n",
      "./Vowel_Data/Formant/Formant5/vowel5_23_Formant_frq.txt\n",
      "./Vowel_Data/Formant/Formant5/vowel5_24_Formant_frq.txt\n",
      "./Vowel_Data/Formant/Formant5/vowel5_25_Formant_frq.txt\n",
      "./Vowel_Data/Formant/Formant5/vowel5_26_Formant_frq.txt\n",
      "./Vowel_Data/Formant/Formant5/vowel5_27_Formant_frq.txt\n",
      "./Vowel_Data/Formant/Formant5/vowel5_28_Formant_frq.txt\n",
      "./Vowel_Data/Formant/Formant5/vowel5_29_Formant_frq.txt\n",
      "./Vowel_Data/Formant/Formant5/vowel5_2_Formant_frq.txt\n",
      "./Vowel_Data/Formant/Formant5/vowel5_30_Formant_frq.txt\n",
      "./Vowel_Data/Formant/Formant5/vowel5_31_Formant_frq.txt\n",
      "./Vowel_Data/Formant/Formant5/vowel5_32_Formant_frq.txt\n",
      "./Vowel_Data/Formant/Formant5/vowel5_33_Formant_frq.txt\n",
      "./Vowel_Data/Formant/Formant5/vowel5_34_Formant_frq.txt\n",
      "./Vowel_Data/Formant/Formant5/vowel5_35_Formant_frq.txt\n",
      "./Vowel_Data/Formant/Formant5/vowel5_36_Formant_frq.txt\n",
      "./Vowel_Data/Formant/Formant5/vowel5_37_Formant_frq.txt\n",
      "./Vowel_Data/Formant/Formant5/vowel5_38_Formant_frq.txt\n",
      "./Vowel_Data/Formant/Formant5/vowel5_39_Formant_frq.txt\n",
      "./Vowel_Data/Formant/Formant5/vowel5_3_Formant_frq.txt\n",
      "./Vowel_Data/Formant/Formant5/vowel5_40_Formant_frq.txt\n",
      "./Vowel_Data/Formant/Formant5/vowel5_4_Formant_frq.txt\n",
      "./Vowel_Data/Formant/Formant5/vowel5_5_Formant_frq.txt\n",
      "./Vowel_Data/Formant/Formant5/vowel5_6_Formant_frq.txt\n",
      "./Vowel_Data/Formant/Formant5/vowel5_7_Formant_frq.txt\n",
      "./Vowel_Data/Formant/Formant5/vowel5_8_Formant_frq.txt\n",
      "./Vowel_Data/Formant/Formant5/vowel5_9_Formant_frq.txt\n",
      "./Vowel_Data/Formant/Formant6/vowel6_10_Formant_frq.txt\n",
      "./Vowel_Data/Formant/Formant6/vowel6_11_Formant_frq.txt\n",
      "./Vowel_Data/Formant/Formant6/vowel6_12_Formant_frq.txt\n",
      "./Vowel_Data/Formant/Formant6/vowel6_13_Formant_frq.txt\n",
      "./Vowel_Data/Formant/Formant6/vowel6_14_Formant_frq.txt\n",
      "./Vowel_Data/Formant/Formant6/vowel6_15_Formant_frq.txt\n",
      "./Vowel_Data/Formant/Formant6/vowel6_16_Formant_frq.txt\n",
      "./Vowel_Data/Formant/Formant6/vowel6_17_Formant_frq.txt\n",
      "./Vowel_Data/Formant/Formant6/vowel6_18_Formant_frq.txt\n",
      "./Vowel_Data/Formant/Formant6/vowel6_19_Formant_frq.txt\n",
      "./Vowel_Data/Formant/Formant6/vowel6_1_Formant_frq.txt\n",
      "./Vowel_Data/Formant/Formant6/vowel6_20_Formant_frq.txt\n",
      "./Vowel_Data/Formant/Formant6/vowel6_21_Formant_frq.txt\n",
      "./Vowel_Data/Formant/Formant6/vowel6_22_Formant_frq.txt\n",
      "./Vowel_Data/Formant/Formant6/vowel6_23_Formant_frq.txt\n",
      "./Vowel_Data/Formant/Formant6/vowel6_24_Formant_frq.txt\n",
      "./Vowel_Data/Formant/Formant6/vowel6_25_Formant_frq.txt\n",
      "./Vowel_Data/Formant/Formant6/vowel6_26_Formant_frq.txt\n",
      "./Vowel_Data/Formant/Formant6/vowel6_27_Formant_frq.txt\n",
      "./Vowel_Data/Formant/Formant6/vowel6_28_Formant_frq.txt\n",
      "./Vowel_Data/Formant/Formant6/vowel6_29_Formant_frq.txt\n",
      "./Vowel_Data/Formant/Formant6/vowel6_2_Formant_frq.txt\n",
      "./Vowel_Data/Formant/Formant6/vowel6_30_Formant_frq.txt\n",
      "./Vowel_Data/Formant/Formant6/vowel6_31_Formant_frq.txt\n",
      "./Vowel_Data/Formant/Formant6/vowel6_32_Formant_frq.txt\n",
      "./Vowel_Data/Formant/Formant6/vowel6_33_Formant_frq.txt\n",
      "./Vowel_Data/Formant/Formant6/vowel6_34_Formant_frq.txt\n",
      "./Vowel_Data/Formant/Formant6/vowel6_35_Formant_frq.txt\n",
      "./Vowel_Data/Formant/Formant6/vowel6_36_Formant_frq.txt\n",
      "./Vowel_Data/Formant/Formant6/vowel6_37_Formant_frq.txt\n",
      "./Vowel_Data/Formant/Formant6/vowel6_38_Formant_frq.txt\n",
      "./Vowel_Data/Formant/Formant6/vowel6_39_Formant_frq.txt\n",
      "./Vowel_Data/Formant/Formant6/vowel6_3_Formant_frq.txt\n",
      "./Vowel_Data/Formant/Formant6/vowel6_40_Formant_frq.txt\n",
      "./Vowel_Data/Formant/Formant6/vowel6_4_Formant_frq.txt\n",
      "./Vowel_Data/Formant/Formant6/vowel6_5_Formant_frq.txt\n",
      "./Vowel_Data/Formant/Formant6/vowel6_6_Formant_frq.txt\n",
      "./Vowel_Data/Formant/Formant6/vowel6_7_Formant_frq.txt\n",
      "./Vowel_Data/Formant/Formant6/vowel6_8_Formant_frq.txt\n",
      "./Vowel_Data/Formant/Formant6/vowel6_9_Formant_frq.txt\n",
      "./Vowel_Data/Formant/Formant7/vowel7_10_Formant_frq.txt\n",
      "./Vowel_Data/Formant/Formant7/vowel7_11_Formant_frq.txt\n",
      "./Vowel_Data/Formant/Formant7/vowel7_12_Formant_frq.txt\n",
      "./Vowel_Data/Formant/Formant7/vowel7_13_Formant_frq.txt\n",
      "./Vowel_Data/Formant/Formant7/vowel7_14_Formant_frq.txt\n",
      "./Vowel_Data/Formant/Formant7/vowel7_15_Formant_frq.txt\n",
      "./Vowel_Data/Formant/Formant7/vowel7_16_Formant_frq.txt\n",
      "./Vowel_Data/Formant/Formant7/vowel7_17_Formant_frq.txt\n",
      "./Vowel_Data/Formant/Formant7/vowel7_18_Formant_frq.txt\n",
      "./Vowel_Data/Formant/Formant7/vowel7_19_Formant_frq.txt\n",
      "./Vowel_Data/Formant/Formant7/vowel7_1_Formant_frq.txt\n",
      "./Vowel_Data/Formant/Formant7/vowel7_20_Formant_frq.txt\n",
      "./Vowel_Data/Formant/Formant7/vowel7_21_Formant_frq.txt\n",
      "./Vowel_Data/Formant/Formant7/vowel7_22_Formant_frq.txt\n",
      "./Vowel_Data/Formant/Formant7/vowel7_23_Formant_frq.txt\n",
      "./Vowel_Data/Formant/Formant7/vowel7_24_Formant_frq.txt\n",
      "./Vowel_Data/Formant/Formant7/vowel7_25_Formant_frq.txt\n",
      "./Vowel_Data/Formant/Formant7/vowel7_26_Formant_frq.txt\n",
      "./Vowel_Data/Formant/Formant7/vowel7_27_Formant_frq.txt\n",
      "./Vowel_Data/Formant/Formant7/vowel7_28_Formant_frq.txt\n",
      "./Vowel_Data/Formant/Formant7/vowel7_29_Formant_frq.txt\n",
      "./Vowel_Data/Formant/Formant7/vowel7_2_Formant_frq.txt\n",
      "./Vowel_Data/Formant/Formant7/vowel7_30_Formant_frq.txt\n",
      "./Vowel_Data/Formant/Formant7/vowel7_31_Formant_frq.txt\n"
     ]
    },
    {
     "name": "stderr",
     "output_type": "stream",
     "text": [
      "\r",
      "Saving vectors to label -'Formant7': 100%|██████████| 40/40 [00:00<00:00, 613.40it/s]"
     ]
    },
    {
     "name": "stdout",
     "output_type": "stream",
     "text": [
      "./Vowel_Data/Formant/Formant7/vowel7_32_Formant_frq.txt\n",
      "./Vowel_Data/Formant/Formant7/vowel7_33_Formant_frq.txt\n",
      "./Vowel_Data/Formant/Formant7/vowel7_34_Formant_frq.txt\n",
      "./Vowel_Data/Formant/Formant7/vowel7_35_Formant_frq.txt\n",
      "./Vowel_Data/Formant/Formant7/vowel7_36_Formant_frq.txt\n",
      "./Vowel_Data/Formant/Formant7/vowel7_37_Formant_frq.txt\n",
      "./Vowel_Data/Formant/Formant7/vowel7_38_Formant_frq.txt\n",
      "./Vowel_Data/Formant/Formant7/vowel7_39_Formant_frq.txt\n",
      "./Vowel_Data/Formant/Formant7/vowel7_3_Formant_frq.txt\n",
      "./Vowel_Data/Formant/Formant7/vowel7_40_Formant_frq.txt\n",
      "./Vowel_Data/Formant/Formant7/vowel7_4_Formant_frq.txt\n",
      "./Vowel_Data/Formant/Formant7/vowel7_5_Formant_frq.txt\n",
      "./Vowel_Data/Formant/Formant7/vowel7_6_Formant_frq.txt\n",
      "./Vowel_Data/Formant/Formant7/vowel7_7_Formant_frq.txt\n",
      "./Vowel_Data/Formant/Formant7/vowel7_8_Formant_frq.txt\n",
      "./Vowel_Data/Formant/Formant7/vowel7_9_Formant_frq.txt\n"
     ]
    },
    {
     "name": "stderr",
     "output_type": "stream",
     "text": [
      "\n"
     ]
    }
   ],
   "source": [
    "path=DATA_PATH\n",
    "labels,_,_=get_labels(path)\n",
    "\n",
    "for label in labels:\n",
    "    formant_vectors=[]\n",
    "\n",
    "    formant_files=[path + label + '/' + file for file in sorted(os.listdir(path+'/'+label))]\n",
    "    for file in tqdm(formant_files,\"Saving vectors to label -'{}'\".format(label)):\n",
    "        formant=get_formant(file_path=file)\n",
    "        print(file)\n",
    "        formant_vectors.append(formant)"
   ]
  },
  {
   "cell_type": "code",
   "execution_count": 42,
   "metadata": {},
   "outputs": [
    {
     "ename": "ValueError",
     "evalue": "Object arrays cannot be loaded when allow_pickle=False",
     "output_type": "error",
     "traceback": [
      "\u001b[0;31m---------------------------------------------------------------------------\u001b[0m",
      "\u001b[0;31mValueError\u001b[0m                                Traceback (most recent call last)",
      "\u001b[0;32m<ipython-input-42-5fef3f21f476>\u001b[0m in \u001b[0;36m<module>\u001b[0;34m\u001b[0m\n\u001b[0;32m----> 1\u001b[0;31m \u001b[0md\u001b[0m\u001b[0;34m=\u001b[0m\u001b[0mnp\u001b[0m\u001b[0;34m.\u001b[0m\u001b[0mload\u001b[0m\u001b[0;34m(\u001b[0m\u001b[0;34m\"Formant2.npy\"\u001b[0m\u001b[0;34m)\u001b[0m\u001b[0;34m\u001b[0m\u001b[0;34m\u001b[0m\u001b[0m\n\u001b[0m",
      "\u001b[0;32m~/anaconda3/envs/speech_recog/lib/python3.8/site-packages/numpy/lib/npyio.py\u001b[0m in \u001b[0;36mload\u001b[0;34m(file, mmap_mode, allow_pickle, fix_imports, encoding)\u001b[0m\n\u001b[1;32m    450\u001b[0m                 \u001b[0;32mreturn\u001b[0m \u001b[0mformat\u001b[0m\u001b[0;34m.\u001b[0m\u001b[0mopen_memmap\u001b[0m\u001b[0;34m(\u001b[0m\u001b[0mfile\u001b[0m\u001b[0;34m,\u001b[0m \u001b[0mmode\u001b[0m\u001b[0;34m=\u001b[0m\u001b[0mmmap_mode\u001b[0m\u001b[0;34m)\u001b[0m\u001b[0;34m\u001b[0m\u001b[0;34m\u001b[0m\u001b[0m\n\u001b[1;32m    451\u001b[0m             \u001b[0;32melse\u001b[0m\u001b[0;34m:\u001b[0m\u001b[0;34m\u001b[0m\u001b[0;34m\u001b[0m\u001b[0m\n\u001b[0;32m--> 452\u001b[0;31m                 return format.read_array(fid, allow_pickle=allow_pickle,\n\u001b[0m\u001b[1;32m    453\u001b[0m                                          pickle_kwargs=pickle_kwargs)\n\u001b[1;32m    454\u001b[0m         \u001b[0;32melse\u001b[0m\u001b[0;34m:\u001b[0m\u001b[0;34m\u001b[0m\u001b[0;34m\u001b[0m\u001b[0m\n",
      "\u001b[0;32m~/anaconda3/envs/speech_recog/lib/python3.8/site-packages/numpy/lib/format.py\u001b[0m in \u001b[0;36mread_array\u001b[0;34m(fp, allow_pickle, pickle_kwargs)\u001b[0m\n\u001b[1;32m    737\u001b[0m         \u001b[0;31m# The array contained Python objects. We need to unpickle the data.\u001b[0m\u001b[0;34m\u001b[0m\u001b[0;34m\u001b[0m\u001b[0;34m\u001b[0m\u001b[0m\n\u001b[1;32m    738\u001b[0m         \u001b[0;32mif\u001b[0m \u001b[0;32mnot\u001b[0m \u001b[0mallow_pickle\u001b[0m\u001b[0;34m:\u001b[0m\u001b[0;34m\u001b[0m\u001b[0;34m\u001b[0m\u001b[0m\n\u001b[0;32m--> 739\u001b[0;31m             raise ValueError(\"Object arrays cannot be loaded when \"\n\u001b[0m\u001b[1;32m    740\u001b[0m                              \"allow_pickle=False\")\n\u001b[1;32m    741\u001b[0m         \u001b[0;32mif\u001b[0m \u001b[0mpickle_kwargs\u001b[0m \u001b[0;32mis\u001b[0m \u001b[0;32mNone\u001b[0m\u001b[0;34m:\u001b[0m\u001b[0;34m\u001b[0m\u001b[0;34m\u001b[0m\u001b[0m\n",
      "\u001b[0;31mValueError\u001b[0m: Object arrays cannot be loaded when allow_pickle=False"
     ]
    }
   ],
   "source": [
    "d=np.load(\"Formant2.npy\")"
   ]
  },
  {
   "cell_type": "code",
   "execution_count": 53,
   "metadata": {
    "scrolled": true
   },
   "outputs": [
    {
     "name": "stderr",
     "output_type": "stream",
     "text": [
      "Saving vectors to label -'Formant1': 100%|██████████| 40/40 [00:00<00:00, 1217.24it/s]\n",
      "Saving vectors to label -'Formant2': 100%|██████████| 40/40 [00:00<00:00, 728.88it/s]\n",
      "Saving vectors to label -'Formant3': 100%|██████████| 40/40 [00:00<00:00, 1250.66it/s]\n",
      "Saving vectors to label -'Formant4': 100%|██████████| 40/40 [00:00<00:00, 1125.38it/s]\n",
      "Saving vectors to label -'Formant5': 100%|██████████| 40/40 [00:00<00:00, 987.49it/s]\n",
      "Saving vectors to label -'Formant6': 100%|██████████| 40/40 [00:00<00:00, 944.88it/s]\n",
      "Saving vectors to label -'Formant7': 100%|██████████| 40/40 [00:00<00:00, 877.09it/s]\n"
     ]
    }
   ],
   "source": [
    "save_data_to_array()"
   ]
  },
  {
   "cell_type": "code",
   "execution_count": 54,
   "metadata": {},
   "outputs": [
    {
     "ename": "ValueError",
     "evalue": "Object arrays cannot be loaded when allow_pickle=False",
     "output_type": "error",
     "traceback": [
      "\u001b[0;31m---------------------------------------------------------------------------\u001b[0m",
      "\u001b[0;31mValueError\u001b[0m                                Traceback (most recent call last)",
      "\u001b[0;32m<ipython-input-54-1700802d13a3>\u001b[0m in \u001b[0;36m<module>\u001b[0;34m\u001b[0m\n\u001b[1;32m      1\u001b[0m \u001b[0mnp\u001b[0m\u001b[0;34m.\u001b[0m\u001b[0mrandom\u001b[0m\u001b[0;34m.\u001b[0m\u001b[0mseed\u001b[0m\u001b[0;34m(\u001b[0m\u001b[0mseed\u001b[0m\u001b[0;34m)\u001b[0m\u001b[0;34m\u001b[0m\u001b[0;34m\u001b[0m\u001b[0m\n\u001b[1;32m      2\u001b[0m \u001b[0;34m\u001b[0m\u001b[0m\n\u001b[0;32m----> 3\u001b[0;31m \u001b[0mX_train\u001b[0m\u001b[0;34m,\u001b[0m \u001b[0mX_test\u001b[0m\u001b[0;34m,\u001b[0m \u001b[0my_train\u001b[0m\u001b[0;34m,\u001b[0m \u001b[0my_test\u001b[0m\u001b[0;34m=\u001b[0m\u001b[0mget_train_test\u001b[0m\u001b[0;34m(\u001b[0m\u001b[0;34m)\u001b[0m\u001b[0;34m\u001b[0m\u001b[0;34m\u001b[0m\u001b[0m\n\u001b[0m\u001b[1;32m      4\u001b[0m \u001b[0mtot_no_FORMANT\u001b[0m\u001b[0;34m=\u001b[0m\u001b[0mX_train\u001b[0m\u001b[0;34m.\u001b[0m\u001b[0mshape\u001b[0m\u001b[0;34m[\u001b[0m\u001b[0;36m1\u001b[0m\u001b[0;34m]\u001b[0m\u001b[0;34m*\u001b[0m\u001b[0mX_train\u001b[0m\u001b[0;34m.\u001b[0m\u001b[0mshape\u001b[0m\u001b[0;34m[\u001b[0m\u001b[0;36m2\u001b[0m\u001b[0;34m]\u001b[0m\u001b[0;34m\u001b[0m\u001b[0;34m\u001b[0m\u001b[0m\n\u001b[1;32m      5\u001b[0m \u001b[0mX_train\u001b[0m\u001b[0;34m=\u001b[0m\u001b[0mX_train\u001b[0m\u001b[0;34m.\u001b[0m\u001b[0mreshape\u001b[0m\u001b[0;34m(\u001b[0m\u001b[0;34m(\u001b[0m\u001b[0mX_train\u001b[0m\u001b[0;34m.\u001b[0m\u001b[0mshape\u001b[0m\u001b[0;34m[\u001b[0m\u001b[0;36m0\u001b[0m\u001b[0;34m]\u001b[0m\u001b[0;34m,\u001b[0m\u001b[0mtot_no_FORMANT\u001b[0m\u001b[0;34m)\u001b[0m\u001b[0;34m)\u001b[0m\u001b[0;34m\u001b[0m\u001b[0;34m\u001b[0m\u001b[0m\n",
      "\u001b[0;32m<ipython-input-51-bddf2ec3224d>\u001b[0m in \u001b[0;36mget_train_test\u001b[0;34m(split_ratio, random_state)\u001b[0m\n\u001b[1;32m     29\u001b[0m     \u001b[0mlabels\u001b[0m\u001b[0;34m,\u001b[0m\u001b[0mindices\u001b[0m\u001b[0;34m,\u001b[0m\u001b[0m_\u001b[0m\u001b[0;34m=\u001b[0m\u001b[0mget_labels\u001b[0m\u001b[0;34m(\u001b[0m\u001b[0mDATA_PATH\u001b[0m\u001b[0;34m)\u001b[0m\u001b[0;34m\u001b[0m\u001b[0;34m\u001b[0m\u001b[0m\n\u001b[1;32m     30\u001b[0m \u001b[0;34m\u001b[0m\u001b[0m\n\u001b[0;32m---> 31\u001b[0;31m     \u001b[0mX\u001b[0m\u001b[0;34m=\u001b[0m\u001b[0mnp\u001b[0m\u001b[0;34m.\u001b[0m\u001b[0mload\u001b[0m\u001b[0;34m(\u001b[0m\u001b[0mlabels\u001b[0m\u001b[0;34m[\u001b[0m\u001b[0;36m0\u001b[0m\u001b[0;34m]\u001b[0m\u001b[0;34m+\u001b[0m\u001b[0;34m'.npy'\u001b[0m\u001b[0;34m)\u001b[0m\u001b[0;34m\u001b[0m\u001b[0;34m\u001b[0m\u001b[0m\n\u001b[0m\u001b[1;32m     32\u001b[0m     \u001b[0my\u001b[0m\u001b[0;34m=\u001b[0m\u001b[0mnp\u001b[0m\u001b[0;34m.\u001b[0m\u001b[0mzeros\u001b[0m\u001b[0;34m(\u001b[0m\u001b[0mX\u001b[0m\u001b[0;34m.\u001b[0m\u001b[0mshape\u001b[0m\u001b[0;34m[\u001b[0m\u001b[0;36m0\u001b[0m\u001b[0;34m]\u001b[0m\u001b[0;34m)\u001b[0m\u001b[0;34m\u001b[0m\u001b[0;34m\u001b[0m\u001b[0m\n\u001b[1;32m     33\u001b[0m \u001b[0;34m\u001b[0m\u001b[0m\n",
      "\u001b[0;32m~/anaconda3/envs/speech_recog/lib/python3.8/site-packages/numpy/lib/npyio.py\u001b[0m in \u001b[0;36mload\u001b[0;34m(file, mmap_mode, allow_pickle, fix_imports, encoding)\u001b[0m\n\u001b[1;32m    450\u001b[0m                 \u001b[0;32mreturn\u001b[0m \u001b[0mformat\u001b[0m\u001b[0;34m.\u001b[0m\u001b[0mopen_memmap\u001b[0m\u001b[0;34m(\u001b[0m\u001b[0mfile\u001b[0m\u001b[0;34m,\u001b[0m \u001b[0mmode\u001b[0m\u001b[0;34m=\u001b[0m\u001b[0mmmap_mode\u001b[0m\u001b[0;34m)\u001b[0m\u001b[0;34m\u001b[0m\u001b[0;34m\u001b[0m\u001b[0m\n\u001b[1;32m    451\u001b[0m             \u001b[0;32melse\u001b[0m\u001b[0;34m:\u001b[0m\u001b[0;34m\u001b[0m\u001b[0;34m\u001b[0m\u001b[0m\n\u001b[0;32m--> 452\u001b[0;31m                 return format.read_array(fid, allow_pickle=allow_pickle,\n\u001b[0m\u001b[1;32m    453\u001b[0m                                          pickle_kwargs=pickle_kwargs)\n\u001b[1;32m    454\u001b[0m         \u001b[0;32melse\u001b[0m\u001b[0;34m:\u001b[0m\u001b[0;34m\u001b[0m\u001b[0;34m\u001b[0m\u001b[0m\n",
      "\u001b[0;32m~/anaconda3/envs/speech_recog/lib/python3.8/site-packages/numpy/lib/format.py\u001b[0m in \u001b[0;36mread_array\u001b[0;34m(fp, allow_pickle, pickle_kwargs)\u001b[0m\n\u001b[1;32m    737\u001b[0m         \u001b[0;31m# The array contained Python objects. We need to unpickle the data.\u001b[0m\u001b[0;34m\u001b[0m\u001b[0;34m\u001b[0m\u001b[0;34m\u001b[0m\u001b[0m\n\u001b[1;32m    738\u001b[0m         \u001b[0;32mif\u001b[0m \u001b[0;32mnot\u001b[0m \u001b[0mallow_pickle\u001b[0m\u001b[0;34m:\u001b[0m\u001b[0;34m\u001b[0m\u001b[0;34m\u001b[0m\u001b[0m\n\u001b[0;32m--> 739\u001b[0;31m             raise ValueError(\"Object arrays cannot be loaded when \"\n\u001b[0m\u001b[1;32m    740\u001b[0m                              \"allow_pickle=False\")\n\u001b[1;32m    741\u001b[0m         \u001b[0;32mif\u001b[0m \u001b[0mpickle_kwargs\u001b[0m \u001b[0;32mis\u001b[0m \u001b[0;32mNone\u001b[0m\u001b[0;34m:\u001b[0m\u001b[0;34m\u001b[0m\u001b[0;34m\u001b[0m\u001b[0m\n",
      "\u001b[0;31mValueError\u001b[0m: Object arrays cannot be loaded when allow_pickle=False"
     ]
    }
   ],
   "source": [
    "np.random.seed(seed)\n",
    "\n",
    "X_train, X_test, y_train, y_test=get_train_test()\n",
    "tot_no_FORMANT=X_train.shape[1]*X_train.shape[2]\n",
    "X_train=X_train.reshape((X_train.shape[0],tot_no_FORMANT))\n",
    "X_test=X_test.reshape(X_test.shape[0],tot_no_MFCC)\n",
    "y_train_hot=to_categorical(y_train)\n",
    "y_test_hot=to_categorical(y_test)"
   ]
  },
  {
   "cell_type": "code",
   "execution_count": 136,
   "metadata": {},
   "outputs": [],
   "source": [
    "model_v=Sequential()\n",
    "model_v.add(Dense(128, activation='tanh', input_shape=(tot_no_MFCC,)))\n",
    "model_v.add(Dense(64, activation='tanh'))\n",
    "model_v.add(Dense(32, activation='tanh'))\n",
    "model_v.add(Dense(16, activation='tanh'))\n",
    "model_v.add(Dense(7, activation='softmax'))"
   ]
  },
  {
   "cell_type": "code",
   "execution_count": 137,
   "metadata": {},
   "outputs": [],
   "source": [
    "model_v.compile(\n",
    "    optimizer=opt.SGD(learning_rate=0.005,momentum=0.9),\n",
    "    #optimizer=opt.Adam(learning_rate=0.005),\n",
    "    #loss=losses.CategoricalCrossentropy(),\n",
    "    loss='categorical_crossentropy',\n",
    "    metrics=['accuracy']\n",
    ")"
   ]
  },
  {
   "cell_type": "code",
   "execution_count": 138,
   "metadata": {
    "scrolled": true
   },
   "outputs": [
    {
     "name": "stdout",
     "output_type": "stream",
     "text": [
      "Epoch 1/50\n",
      "1/1 [==============================] - 0s 143ms/step - loss: 2.3232 - accuracy: 0.1116 - val_loss: 2.2034 - val_accuracy: 0.1250\n",
      "Epoch 2/50\n",
      "1/1 [==============================] - 0s 41ms/step - loss: 2.1699 - accuracy: 0.1339 - val_loss: 2.1249 - val_accuracy: 0.1250\n",
      "Epoch 3/50\n",
      "1/1 [==============================] - 0s 70ms/step - loss: 2.0931 - accuracy: 0.1652 - val_loss: 2.1270 - val_accuracy: 0.0714\n",
      "Epoch 4/50\n",
      "1/1 [==============================] - 0s 57ms/step - loss: 2.0190 - accuracy: 0.1384 - val_loss: 2.0231 - val_accuracy: 0.1607\n",
      "Epoch 5/50\n",
      "1/1 [==============================] - 0s 61ms/step - loss: 1.9219 - accuracy: 0.2277 - val_loss: 1.8979 - val_accuracy: 0.2679\n",
      "Epoch 6/50\n",
      "1/1 [==============================] - 0s 68ms/step - loss: 1.8228 - accuracy: 0.2946 - val_loss: 1.8661 - val_accuracy: 0.3036\n",
      "Epoch 7/50\n",
      "1/1 [==============================] - 0s 53ms/step - loss: 1.7973 - accuracy: 0.3482 - val_loss: 1.8427 - val_accuracy: 0.3214\n",
      "Epoch 8/50\n",
      "1/1 [==============================] - 0s 75ms/step - loss: 1.7580 - accuracy: 0.3616 - val_loss: 1.7983 - val_accuracy: 0.3393\n",
      "Epoch 9/50\n",
      "1/1 [==============================] - 0s 54ms/step - loss: 1.7402 - accuracy: 0.3571 - val_loss: 1.7498 - val_accuracy: 0.3571\n",
      "Epoch 10/50\n",
      "1/1 [==============================] - 0s 40ms/step - loss: 1.6839 - accuracy: 0.4241 - val_loss: 1.7055 - val_accuracy: 0.4286\n",
      "Epoch 11/50\n",
      "1/1 [==============================] - 0s 39ms/step - loss: 1.6245 - accuracy: 0.4821 - val_loss: 1.7401 - val_accuracy: 0.3750\n",
      "Epoch 12/50\n",
      "1/1 [==============================] - 0s 46ms/step - loss: 1.6310 - accuracy: 0.4643 - val_loss: 1.7448 - val_accuracy: 0.3929\n",
      "Epoch 13/50\n",
      "1/1 [==============================] - 0s 52ms/step - loss: 1.6519 - accuracy: 0.5134 - val_loss: 1.6181 - val_accuracy: 0.4821\n",
      "Epoch 14/50\n",
      "1/1 [==============================] - 0s 40ms/step - loss: 1.5866 - accuracy: 0.5134 - val_loss: 1.5960 - val_accuracy: 0.4286\n",
      "Epoch 15/50\n",
      "1/1 [==============================] - 0s 48ms/step - loss: 1.5373 - accuracy: 0.5179 - val_loss: 1.5592 - val_accuracy: 0.4464\n",
      "Epoch 16/50\n",
      "1/1 [==============================] - 0s 39ms/step - loss: 1.5288 - accuracy: 0.4911 - val_loss: 1.6009 - val_accuracy: 0.4643\n",
      "Epoch 17/50\n",
      "1/1 [==============================] - 0s 37ms/step - loss: 1.5172 - accuracy: 0.5089 - val_loss: 1.5866 - val_accuracy: 0.4821\n",
      "Epoch 18/50\n",
      "1/1 [==============================] - 0s 46ms/step - loss: 1.4893 - accuracy: 0.4955 - val_loss: 1.5817 - val_accuracy: 0.4643\n",
      "Epoch 19/50\n",
      "1/1 [==============================] - 0s 81ms/step - loss: 1.5138 - accuracy: 0.4955 - val_loss: 1.5968 - val_accuracy: 0.3571\n",
      "Epoch 20/50\n",
      "1/1 [==============================] - 0s 101ms/step - loss: 1.5068 - accuracy: 0.4821 - val_loss: 1.5966 - val_accuracy: 0.3750\n",
      "Epoch 21/50\n",
      "1/1 [==============================] - 0s 76ms/step - loss: 1.5154 - accuracy: 0.4732 - val_loss: 1.5575 - val_accuracy: 0.3929\n",
      "Epoch 22/50\n",
      "1/1 [==============================] - 0s 101ms/step - loss: 1.4689 - accuracy: 0.5223 - val_loss: 1.5618 - val_accuracy: 0.4643\n",
      "Epoch 23/50\n",
      "1/1 [==============================] - 0s 48ms/step - loss: 1.4718 - accuracy: 0.5223 - val_loss: 1.5705 - val_accuracy: 0.5000\n",
      "Epoch 24/50\n",
      "1/1 [==============================] - 0s 51ms/step - loss: 1.4662 - accuracy: 0.5536 - val_loss: 1.5336 - val_accuracy: 0.5179\n",
      "Epoch 25/50\n",
      "1/1 [==============================] - 0s 40ms/step - loss: 1.4307 - accuracy: 0.5670 - val_loss: 1.5006 - val_accuracy: 0.5714\n",
      "Epoch 26/50\n",
      "1/1 [==============================] - 0s 36ms/step - loss: 1.4052 - accuracy: 0.5357 - val_loss: 1.4716 - val_accuracy: 0.5357\n",
      "Epoch 27/50\n",
      "1/1 [==============================] - 0s 44ms/step - loss: 1.3877 - accuracy: 0.5670 - val_loss: 1.5194 - val_accuracy: 0.4643\n",
      "Epoch 28/50\n",
      "1/1 [==============================] - 0s 60ms/step - loss: 1.4360 - accuracy: 0.5536 - val_loss: 1.5298 - val_accuracy: 0.5000\n",
      "Epoch 29/50\n",
      "1/1 [==============================] - 0s 47ms/step - loss: 1.4380 - accuracy: 0.5134 - val_loss: 1.4979 - val_accuracy: 0.4821\n",
      "Epoch 30/50\n",
      "1/1 [==============================] - 0s 40ms/step - loss: 1.4096 - accuracy: 0.5268 - val_loss: 1.5956 - val_accuracy: 0.4464\n",
      "Epoch 31/50\n",
      "1/1 [==============================] - 0s 44ms/step - loss: 1.4899 - accuracy: 0.4911 - val_loss: 1.5772 - val_accuracy: 0.4643\n",
      "Epoch 32/50\n",
      "1/1 [==============================] - 0s 36ms/step - loss: 1.5330 - accuracy: 0.4286 - val_loss: 1.5504 - val_accuracy: 0.4643\n",
      "Epoch 33/50\n",
      "1/1 [==============================] - 0s 45ms/step - loss: 1.4985 - accuracy: 0.4955 - val_loss: 1.6518 - val_accuracy: 0.4107\n",
      "Epoch 34/50\n",
      "1/1 [==============================] - 0s 35ms/step - loss: 1.5671 - accuracy: 0.4509 - val_loss: 1.7015 - val_accuracy: 0.3393\n",
      "Epoch 35/50\n",
      "1/1 [==============================] - 0s 43ms/step - loss: 1.5687 - accuracy: 0.4420 - val_loss: 1.5946 - val_accuracy: 0.4107\n",
      "Epoch 36/50\n",
      "1/1 [==============================] - 0s 69ms/step - loss: 1.4591 - accuracy: 0.5982 - val_loss: 1.5475 - val_accuracy: 0.4464\n",
      "Epoch 37/50\n",
      "1/1 [==============================] - 0s 52ms/step - loss: 1.4455 - accuracy: 0.5223 - val_loss: 1.5898 - val_accuracy: 0.4286\n",
      "Epoch 38/50\n",
      "1/1 [==============================] - 0s 73ms/step - loss: 1.4880 - accuracy: 0.5089 - val_loss: 1.5724 - val_accuracy: 0.3929\n",
      "Epoch 39/50\n",
      "1/1 [==============================] - 0s 49ms/step - loss: 1.4541 - accuracy: 0.5670 - val_loss: 1.5534 - val_accuracy: 0.4821\n",
      "Epoch 40/50\n",
      "1/1 [==============================] - 0s 39ms/step - loss: 1.3986 - accuracy: 0.5714 - val_loss: 1.5251 - val_accuracy: 0.5357\n",
      "Epoch 41/50\n",
      "1/1 [==============================] - 0s 54ms/step - loss: 1.3912 - accuracy: 0.5714 - val_loss: 1.5097 - val_accuracy: 0.4107\n",
      "Epoch 42/50\n",
      "1/1 [==============================] - 0s 50ms/step - loss: 1.3894 - accuracy: 0.5446 - val_loss: 1.4839 - val_accuracy: 0.5000\n",
      "Epoch 43/50\n",
      "1/1 [==============================] - 0s 43ms/step - loss: 1.3547 - accuracy: 0.5893 - val_loss: 1.5568 - val_accuracy: 0.4107\n",
      "Epoch 44/50\n",
      "1/1 [==============================] - 0s 41ms/step - loss: 1.4187 - accuracy: 0.5179 - val_loss: 1.6518 - val_accuracy: 0.3750\n",
      "Epoch 45/50\n",
      "1/1 [==============================] - 0s 38ms/step - loss: 1.4521 - accuracy: 0.4866 - val_loss: 1.6004 - val_accuracy: 0.3393\n",
      "Epoch 46/50\n",
      "1/1 [==============================] - 0s 47ms/step - loss: 1.4207 - accuracy: 0.5089 - val_loss: 1.5804 - val_accuracy: 0.4286\n",
      "Epoch 47/50\n",
      "1/1 [==============================] - 0s 41ms/step - loss: 1.3632 - accuracy: 0.5179 - val_loss: 1.4221 - val_accuracy: 0.5179\n",
      "Epoch 48/50\n",
      "1/1 [==============================] - 0s 47ms/step - loss: 1.2712 - accuracy: 0.5714 - val_loss: 1.5031 - val_accuracy: 0.4107\n",
      "Epoch 49/50\n",
      "1/1 [==============================] - 0s 35ms/step - loss: 1.4070 - accuracy: 0.4554 - val_loss: 1.7271 - val_accuracy: 0.3036\n",
      "Epoch 50/50\n",
      "1/1 [==============================] - 0s 46ms/step - loss: 1.5891 - accuracy: 0.3839 - val_loss: 1.6068 - val_accuracy: 0.4643\n"
     ]
    }
   ],
   "source": [
    "history_v=model_v.fit(X_train, y_train_hot, epochs=50, batch_size=X_train.shape[0], validation_data=(X_test,y_test_hot))"
   ]
  },
  {
   "cell_type": "code",
   "execution_count": 139,
   "metadata": {},
   "outputs": [],
   "source": [
    "history_dict=history_v.history"
   ]
  },
  {
   "cell_type": "code",
   "execution_count": 140,
   "metadata": {
    "scrolled": true
   },
   "outputs": [
    {
     "data": {
      "image/png": "[encoded data removed]",
      "text/plain": [
       "<Figure size 720x288 with 1 Axes>"
      ]
     },
     "metadata": {
      "needs_background": "light"
     },
     "output_type": "display_data"
    }
   ],
   "source": [
    "loss_v=history_dict['loss']\n",
    "val_loss_v=history_dict['val_loss']\n",
    "epochs=range(1,len(loss_v)+1)\n",
    "\n",
    "plt.figure(figsize=(10,4))\n",
    "plt.plot(epochs,loss_v,'bo',label='Training loss')\n",
    "plt.plot(epochs,val_loss_v,'b',label='Validation loss')\n",
    "plt.xticks(epochs)\n",
    "plt.xlabel('Epochs')\n",
    "plt.ylabel('Loss')\n",
    "plt.legend()\n",
    "plt.tight_layout()\n",
    "#plt.savefig('./Result/New_without_CNN/loss_vowel_128_64_32_16_tanh_softmax_adam_batch200.svg',format='svg', dpi=600)"
   ]
  },
  {
   "cell_type": "code",
   "execution_count": 141,
   "metadata": {},
   "outputs": [
    {
     "data": {
      "text/plain": [
       "<Figure size 432x288 with 0 Axes>"
      ]
     },
     "metadata": {},
     "output_type": "display_data"
    },
    {
     "data": {
      "image/png": "[encoded data removed]",
      "text/plain": [
       "<Figure size 720x288 with 1 Axes>"
      ]
     },
     "metadata": {
      "needs_background": "light"
     },
     "output_type": "display_data"
    }
   ],
   "source": [
    "plt.clf()\n",
    "acc_v=history_dict['accuracy']\n",
    "val_acc_v=history_dict['val_accuracy']\n",
    "\n",
    "plt.figure(figsize=(10,4))\n",
    "plt.plot(epochs,acc_v,'bo',label='Training acc')\n",
    "plt.plot(epochs,val_acc_v,'b',label='Validation acc')\n",
    "plt.xticks(epochs)\n",
    "plt.xlabel('Epochs')\n",
    "plt.ylabel('Accuracy')\n",
    "plt.legend()\n",
    "plt.tight_layout()\n",
    "#plt.savefig('./Result/New_without_CNN/accuracy_vowel_128_64_32_16_tanh_softmax_adam_batch200.svg',format='svg', dpi=600)"
   ]
  },
  {
   "cell_type": "code",
   "execution_count": 81,
   "metadata": {},
   "outputs": [],
   "source": [
    "DATA_PATH=\"./Word_Data/Word/\"\n",
    "n_time_sample=44"
   ]
  },
  {
   "cell_type": "code",
   "execution_count": 82,
   "metadata": {},
   "outputs": [],
   "source": [
    "def get_labels(path=DATA_PATH):\n",
    "    labels=sorted(os.listdir(path))\n",
    "    label_indices=np.arange(0,len(labels))\n",
    "    return labels, label_indices, to_categorical(label_indices)\n",
    "\n",
    "def speech2mfcc(file_path,max_len=n_time_sample):\n",
    "    wave, sr= librosa.load(file_path, mono=True, sr=None)\n",
    "    mfcc=librosa.feature.mfcc(wave,sr=sr,n_mfcc=n_MFCC)\n",
    "    if (max_len > mfcc.shape[1]): #.shape[1], 1-->column\n",
    "        pad_width=max_len-mfcc.shape[1]\n",
    "        mfcc=np.pad(mfcc,pad_width=((0,0),(0,pad_width)),mode='constant')\n",
    "    else:\n",
    "        mfcc=mfcc[:,:max_len]\n",
    "    return mfcc\n",
    "\n",
    "def save_data_to_array(path=DATA_PATH, max_len=n_time_sample):\n",
    "    labels,_,_=get_labels(path)\n",
    "\n",
    "    for label in labels:\n",
    "        mfcc_vectors=[]\n",
    "\n",
    "        speechfiles=[path + label + '/' + speech for speech in sorted(os.listdir(path+'/'+label))]\n",
    "        for speech in tqdm(speechfiles,\"Saving vectors to label -'{}'\".format(label)):\n",
    "            mfcc=speech2mfcc(speech,max_len=max_len)\n",
    "            mfcc_vectors.append(mfcc)\n",
    "            \n",
    "        np.save(label+'.npy',mfcc_vectors)\n",
    "        \n",
    "def get_train_test(split_ratio=0.8,random_state=seed):\n",
    "    labels,indices,_=get_labels(DATA_PATH)\n",
    "\n",
    "    X=np.load(labels[0]+'.npy')\n",
    "    y=np.zeros(X.shape[0])\n",
    "\n",
    "    for i,label in enumerate(labels[1:]):\n",
    "        x=np.load(label+'.npy')\n",
    "        X=np.vstack((X,x))\n",
    "        y=np.append(y,np.full(x.shape[0],fill_value=(i+1)))\n",
    "    assert X.shape[0] == len(y)\n",
    "    return train_test_split(X,y,test_size=(1-split_ratio),random_state=random_state,shuffle=True,stratify=y)"
   ]
  },
  {
   "cell_type": "code",
   "execution_count": 83,
   "metadata": {},
   "outputs": [
    {
     "name": "stderr",
     "output_type": "stream",
     "text": [
      "Saving vectors to label -'Word1': 100%|██████████| 40/40 [00:00<00:00, 92.37it/s]\n",
      "Saving vectors to label -'Word2': 100%|██████████| 40/40 [00:00<00:00, 112.96it/s]\n",
      "Saving vectors to label -'Word3': 100%|██████████| 40/40 [00:00<00:00, 114.83it/s]\n",
      "Saving vectors to label -'Word4': 100%|██████████| 40/40 [00:00<00:00, 88.14it/s]\n",
      "Saving vectors to label -'Word5': 100%|██████████| 40/40 [00:00<00:00, 94.68it/s]\n",
      "Saving vectors to label -'Word6': 100%|██████████| 40/40 [00:00<00:00, 103.70it/s]\n",
      "Saving vectors to label -'Word7': 100%|██████████| 40/40 [00:00<00:00, 105.70it/s]\n"
     ]
    }
   ],
   "source": [
    "save_data_to_array()"
   ]
  },
  {
   "cell_type": "code",
   "execution_count": 106,
   "metadata": {},
   "outputs": [],
   "source": [
    "np.random.seed(seed)\n",
    "\n",
    "X_train, X_test, y_train, y_test=get_train_test()\n",
    "tot_no_MFCC=X_train.shape[1]*X_train.shape[2]\n",
    "X_train=X_train.reshape((X_train.shape[0],-1))\n",
    "X_test=X_test.reshape(X_test.shape[0],-1)\n",
    "y_train_hot=to_categorical(y_train)\n",
    "y_test_hot=to_categorical(y_test)"
   ]
  },
  {
   "cell_type": "code",
   "execution_count": 119,
   "metadata": {},
   "outputs": [],
   "source": [
    "model_w=Sequential()\n",
    "model_w.add(Dense(128, activation='tanh', input_shape=(tot_no_MFCC,)))\n",
    "model_w.add(Dense(64, activation='tanh'))\n",
    "model_w.add(Dense(32, activation='tanh'))\n",
    "model_w.add(Dense(16, activation='tanh'))\n",
    "model_w.add(Dense(7, activation='softmax'))"
   ]
  },
  {
   "cell_type": "code",
   "execution_count": 120,
   "metadata": {},
   "outputs": [],
   "source": [
    "model_w.compile(\n",
    "    optimizer=opt.Adam(learning_rate=0.005),\n",
    "    #loss=losses.CategoricalCrossentropy(),\n",
    "    loss='categorical_crossentropy',\n",
    "    metrics=['accuracy']\n",
    ")"
   ]
  },
  {
   "cell_type": "code",
   "execution_count": 121,
   "metadata": {},
   "outputs": [
    {
     "name": "stdout",
     "output_type": "stream",
     "text": [
      "Epoch 1/50\n",
      "1/1 [==============================] - 0s 150ms/step - loss: 2.1414 - accuracy: 0.1116 - val_loss: 1.9797 - val_accuracy: 0.1964\n",
      "Epoch 2/50\n",
      "1/1 [==============================] - 0s 56ms/step - loss: 1.8981 - accuracy: 0.2366 - val_loss: 1.9269 - val_accuracy: 0.2143\n",
      "Epoch 3/50\n",
      "1/1 [==============================] - 0s 65ms/step - loss: 1.8685 - accuracy: 0.2277 - val_loss: 1.8362 - val_accuracy: 0.2857\n",
      "Epoch 4/50\n",
      "1/1 [==============================] - 0s 45ms/step - loss: 1.7987 - accuracy: 0.3348 - val_loss: 1.7761 - val_accuracy: 0.3393\n",
      "Epoch 5/50\n",
      "1/1 [==============================] - 0s 62ms/step - loss: 1.6728 - accuracy: 0.3973 - val_loss: 1.7242 - val_accuracy: 0.3571\n",
      "Epoch 6/50\n",
      "1/1 [==============================] - 0s 79ms/step - loss: 1.6092 - accuracy: 0.3705 - val_loss: 1.6231 - val_accuracy: 0.4464\n",
      "Epoch 7/50\n",
      "1/1 [==============================] - 0s 71ms/step - loss: 1.5280 - accuracy: 0.4866 - val_loss: 1.6170 - val_accuracy: 0.4286\n",
      "Epoch 8/50\n",
      "1/1 [==============================] - 0s 63ms/step - loss: 1.5327 - accuracy: 0.4464 - val_loss: 1.5536 - val_accuracy: 0.4643\n",
      "Epoch 9/50\n",
      "1/1 [==============================] - 0s 60ms/step - loss: 1.4373 - accuracy: 0.5179 - val_loss: 1.5186 - val_accuracy: 0.4286\n",
      "Epoch 10/50\n",
      "1/1 [==============================] - 0s 51ms/step - loss: 1.4201 - accuracy: 0.4955 - val_loss: 1.3772 - val_accuracy: 0.5536\n",
      "Epoch 11/50\n",
      "1/1 [==============================] - 0s 57ms/step - loss: 1.2761 - accuracy: 0.6741 - val_loss: 1.4511 - val_accuracy: 0.4643\n",
      "Epoch 12/50\n",
      "1/1 [==============================] - 0s 74ms/step - loss: 1.2319 - accuracy: 0.6473 - val_loss: 1.4240 - val_accuracy: 0.5000\n",
      "Epoch 13/50\n",
      "1/1 [==============================] - 0s 74ms/step - loss: 1.2396 - accuracy: 0.6250 - val_loss: 1.3943 - val_accuracy: 0.5714\n",
      "Epoch 14/50\n",
      "1/1 [==============================] - 0s 99ms/step - loss: 1.2361 - accuracy: 0.5804 - val_loss: 1.4449 - val_accuracy: 0.5357\n",
      "Epoch 15/50\n",
      "1/1 [==============================] - 0s 106ms/step - loss: 1.2218 - accuracy: 0.6429 - val_loss: 1.3862 - val_accuracy: 0.4821\n",
      "Epoch 16/50\n",
      "1/1 [==============================] - 0s 48ms/step - loss: 1.0690 - accuracy: 0.6786 - val_loss: 1.2872 - val_accuracy: 0.5536\n",
      "Epoch 17/50\n",
      "1/1 [==============================] - 0s 70ms/step - loss: 1.0725 - accuracy: 0.6250 - val_loss: 1.2617 - val_accuracy: 0.5714\n",
      "Epoch 18/50\n",
      "1/1 [==============================] - 0s 64ms/step - loss: 1.0278 - accuracy: 0.6518 - val_loss: 1.2111 - val_accuracy: 0.5357\n",
      "Epoch 19/50\n",
      "1/1 [==============================] - 0s 41ms/step - loss: 1.0000 - accuracy: 0.6741 - val_loss: 1.2530 - val_accuracy: 0.5536\n",
      "Epoch 20/50\n",
      "1/1 [==============================] - 0s 65ms/step - loss: 0.9756 - accuracy: 0.6920 - val_loss: 1.2739 - val_accuracy: 0.5179\n",
      "Epoch 21/50\n",
      "1/1 [==============================] - 0s 47ms/step - loss: 0.9997 - accuracy: 0.6830 - val_loss: 1.3268 - val_accuracy: 0.5357\n",
      "Epoch 22/50\n",
      "1/1 [==============================] - 0s 67ms/step - loss: 0.9608 - accuracy: 0.7009 - val_loss: 1.3263 - val_accuracy: 0.5536\n",
      "Epoch 23/50\n",
      "1/1 [==============================] - 0s 64ms/step - loss: 0.9590 - accuracy: 0.6830 - val_loss: 1.1853 - val_accuracy: 0.6071\n",
      "Epoch 24/50\n",
      "1/1 [==============================] - 0s 60ms/step - loss: 0.9541 - accuracy: 0.6741 - val_loss: 1.3510 - val_accuracy: 0.5357\n",
      "Epoch 25/50\n",
      "1/1 [==============================] - 0s 54ms/step - loss: 1.1106 - accuracy: 0.6384 - val_loss: 1.2965 - val_accuracy: 0.5000\n",
      "Epoch 26/50\n",
      "1/1 [==============================] - 0s 61ms/step - loss: 1.0560 - accuracy: 0.6696 - val_loss: 1.3495 - val_accuracy: 0.3393\n",
      "Epoch 27/50\n",
      "1/1 [==============================] - 0s 65ms/step - loss: 1.0610 - accuracy: 0.5938 - val_loss: 1.2953 - val_accuracy: 0.4464\n",
      "Epoch 28/50\n",
      "1/1 [==============================] - 0s 43ms/step - loss: 1.0036 - accuracy: 0.7366 - val_loss: 1.2266 - val_accuracy: 0.5179\n",
      "Epoch 29/50\n",
      "1/1 [==============================] - 0s 45ms/step - loss: 0.9740 - accuracy: 0.6964 - val_loss: 1.2377 - val_accuracy: 0.5357\n",
      "Epoch 30/50\n",
      "1/1 [==============================] - 0s 53ms/step - loss: 0.9709 - accuracy: 0.6339 - val_loss: 1.2738 - val_accuracy: 0.4643\n",
      "Epoch 31/50\n",
      "1/1 [==============================] - 0s 43ms/step - loss: 0.9820 - accuracy: 0.6205 - val_loss: 1.1949 - val_accuracy: 0.5000\n",
      "Epoch 32/50\n",
      "1/1 [==============================] - 0s 54ms/step - loss: 0.9062 - accuracy: 0.6607 - val_loss: 1.1563 - val_accuracy: 0.5357\n",
      "Epoch 33/50\n",
      "1/1 [==============================] - 0s 53ms/step - loss: 0.8347 - accuracy: 0.7634 - val_loss: 1.2246 - val_accuracy: 0.5000\n",
      "Epoch 34/50\n",
      "1/1 [==============================] - 0s 63ms/step - loss: 0.8336 - accuracy: 0.7143 - val_loss: 1.2447 - val_accuracy: 0.5536\n",
      "Epoch 35/50\n",
      "1/1 [==============================] - 0s 62ms/step - loss: 0.8328 - accuracy: 0.6830 - val_loss: 1.2143 - val_accuracy: 0.5000\n",
      "Epoch 36/50\n",
      "1/1 [==============================] - 0s 60ms/step - loss: 0.7957 - accuracy: 0.6920 - val_loss: 1.2308 - val_accuracy: 0.5536\n",
      "Epoch 37/50\n",
      "1/1 [==============================] - 0s 40ms/step - loss: 0.8495 - accuracy: 0.7098 - val_loss: 1.3089 - val_accuracy: 0.4821\n",
      "Epoch 38/50\n",
      "1/1 [==============================] - 0s 61ms/step - loss: 0.8092 - accuracy: 0.7143 - val_loss: 1.2531 - val_accuracy: 0.5000\n",
      "Epoch 39/50\n",
      "1/1 [==============================] - 0s 52ms/step - loss: 0.8383 - accuracy: 0.6741 - val_loss: 1.1870 - val_accuracy: 0.4643\n",
      "Epoch 40/50\n",
      "1/1 [==============================] - 0s 61ms/step - loss: 0.7852 - accuracy: 0.6875 - val_loss: 1.2306 - val_accuracy: 0.4643\n",
      "Epoch 41/50\n",
      "1/1 [==============================] - 0s 54ms/step - loss: 0.8030 - accuracy: 0.6786 - val_loss: 1.1020 - val_accuracy: 0.5357\n",
      "Epoch 42/50\n",
      "1/1 [==============================] - 0s 48ms/step - loss: 0.8570 - accuracy: 0.6429 - val_loss: 1.1728 - val_accuracy: 0.4821\n",
      "Epoch 43/50\n",
      "1/1 [==============================] - 0s 90ms/step - loss: 0.8346 - accuracy: 0.6429 - val_loss: 1.1755 - val_accuracy: 0.5357\n",
      "Epoch 44/50\n",
      "1/1 [==============================] - 0s 106ms/step - loss: 0.8382 - accuracy: 0.6786 - val_loss: 1.1991 - val_accuracy: 0.5179\n",
      "Epoch 45/50\n",
      "1/1 [==============================] - 0s 113ms/step - loss: 0.8782 - accuracy: 0.6741 - val_loss: 1.2592 - val_accuracy: 0.5000\n",
      "Epoch 46/50\n",
      "1/1 [==============================] - 0s 80ms/step - loss: 0.9387 - accuracy: 0.6071 - val_loss: 1.2238 - val_accuracy: 0.4821\n",
      "Epoch 47/50\n",
      "1/1 [==============================] - 0s 101ms/step - loss: 0.9642 - accuracy: 0.5848 - val_loss: 1.3712 - val_accuracy: 0.5357\n",
      "Epoch 48/50\n",
      "1/1 [==============================] - 0s 93ms/step - loss: 0.9330 - accuracy: 0.6027 - val_loss: 1.1048 - val_accuracy: 0.6429\n",
      "Epoch 49/50\n",
      "1/1 [==============================] - 0s 97ms/step - loss: 0.8410 - accuracy: 0.6562 - val_loss: 1.1294 - val_accuracy: 0.5179\n",
      "Epoch 50/50\n",
      "1/1 [==============================] - 0s 66ms/step - loss: 0.8524 - accuracy: 0.6161 - val_loss: 1.0741 - val_accuracy: 0.5714\n"
     ]
    }
   ],
   "source": [
    "history_w=model_w.fit(X_train, y_train_hot, epochs=50, batch_size=X_train.shape[0], validation_data=(X_test,y_test_hot))"
   ]
  },
  {
   "cell_type": "code",
   "execution_count": 88,
   "metadata": {},
   "outputs": [],
   "source": [
    "history_dict=history_w.history"
   ]
  },
  {
   "cell_type": "code",
   "execution_count": 89,
   "metadata": {},
   "outputs": [
    {
     "data": {
      "image/png": "[encoded data removed]",
      "text/plain": [
       "<Figure size 720x288 with 1 Axes>"
      ]
     },
     "metadata": {
      "needs_background": "light"
     },
     "output_type": "display_data"
    }
   ],
   "source": [
    "loss_w=history_dict['loss']\n",
    "val_loss_w=history_dict['val_loss']\n",
    "epochs=range(1,len(loss_v)+1)\n",
    "\n",
    "plt.figure(figsize=(10,4))\n",
    "plt.plot(epochs,loss_w,'bo',label='Training loss')\n",
    "plt.plot(epochs,val_loss_w,'b',label='Validation loss')\n",
    "plt.xticks(epochs)\n",
    "plt.xlabel('Epochs')\n",
    "plt.ylabel('Loss')\n",
    "plt.legend()\n",
    "plt.tight_layout()\n",
    "#plt.savefig('./Result/New_without_CNN/loss_vowel_128_64_32_16_tanh_softmax_adam_batch200.svg',format='svg', dpi=600)"
   ]
  },
  {
   "cell_type": "code",
   "execution_count": 90,
   "metadata": {},
   "outputs": [
    {
     "data": {
      "text/plain": [
       "<Figure size 432x288 with 0 Axes>"
      ]
     },
     "metadata": {},
     "output_type": "display_data"
    },
    {
     "data": {
      "image/png": "[encoded data removed]",
      "text/plain": [
       "<Figure size 720x288 with 1 Axes>"
      ]
     },
     "metadata": {
      "needs_background": "light"
     },
     "output_type": "display_data"
    }
   ],
   "source": [
    "plt.clf()\n",
    "acc_w=history_dict['accuracy']\n",
    "val_acc_w=history_dict['val_accuracy']\n",
    "\n",
    "plt.figure(figsize=(10,4))\n",
    "plt.plot(epochs,acc_w,'bo',label='Training acc')\n",
    "plt.plot(epochs,val_acc_w,'b',label='Validation acc')\n",
    "plt.xticks(epochs)\n",
    "plt.xlabel('Epochs')\n",
    "plt.ylabel('Accuracy')\n",
    "plt.legend()\n",
    "plt.tight_layout()\n",
    "#plt.savefig('./Result/New_without_CNN/accuracy_vowel_128_64_32_16_tanh_softmax_adam_batch200.svg',format='svg', dpi=600)"
   ]
  },
  {
   "cell_type": "code",
   "execution_count": 91,
   "metadata": {},
   "outputs": [],
   "source": [
    "#COMPARE"
   ]
  },
  {
   "cell_type": "code",
   "execution_count": 92,
   "metadata": {},
   "outputs": [],
   "source": [
    "epochs=range(1,len(loss_v)+1)"
   ]
  },
  {
   "cell_type": "code",
   "execution_count": 93,
   "metadata": {},
   "outputs": [
    {
     "data": {
      "image/png": "[encoded data removed]",
      "text/plain": [
       "<Figure size 720x288 with 1 Axes>"
      ]
     },
     "metadata": {
      "needs_background": "light"
     },
     "output_type": "display_data"
    }
   ],
   "source": [
    "plt.figure(figsize=(10,4))\n",
    "plt.plot(epochs,loss_v,'r',label='Vowel')\n",
    "plt.plot(epochs,loss_w,'b',label='Word')\n",
    "plt.title('Loss comparison')\n",
    "plt.xticks(epochs)\n",
    "plt.xlabel('Epochs')\n",
    "plt.ylabel('Loss')\n",
    "plt.legend()\n",
    "plt.tight_layout()\n",
    "#plt.savefig('./Result/New_without_CNN/loss_compare_diff_len_128_64_32_16_tanh_softmax_rmsprop_batch128'+'.svg',format='svg',dpi=600)"
   ]
  },
  {
   "cell_type": "code",
   "execution_count": 94,
   "metadata": {},
   "outputs": [
    {
     "data": {
      "image/png": "[encoded data removed]",
      "text/plain": [
       "<Figure size 720x288 with 1 Axes>"
      ]
     },
     "metadata": {
      "needs_background": "light"
     },
     "output_type": "display_data"
    }
   ],
   "source": [
    "plt.figure(figsize=(10,4))\n",
    "plt.plot(epochs,acc_v,'r',label='Vowel')\n",
    "plt.plot(epochs,acc_w,'b',label='Word')\n",
    "plt.title('Accuracy comparison')\n",
    "plt.xticks(epochs)\n",
    "plt.xlabel('Epochs')\n",
    "plt.ylabel('Accuracy')\n",
    "plt.legend()\n",
    "plt.tight_layout()\n",
    "#plt.savefig('./Result/New_without_CNN/accuracy_compare_diff_len_128_64_32_16_tanh_softmax_rmsprop_batch128'+'.svg',format='svg',dpi=600)"
   ]
  },
  {
   "cell_type": "code",
   "execution_count": null,
   "metadata": {},
   "outputs": [],
   "source": []
  }
 ],
 "metadata": {
  "kernelspec": {
   "display_name": "Python 3",
   "language": "python",
   "name": "python3"
  },
  "language_info": {
   "codemirror_mode": {
    "name": "ipython",
    "version": 3
   },
   "file_extension": ".py",
   "mimetype": "text/x-python",
   "name": "python",
   "nbconvert_exporter": "python",
   "pygments_lexer": "ipython3",
   "version": "3.8.3"
  }
 },
 "nbformat": 4,
 "nbformat_minor": 4
}
