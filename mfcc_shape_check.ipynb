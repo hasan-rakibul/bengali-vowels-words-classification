{
 "cells": [
  {
   "cell_type": "code",
   "execution_count": 1,
   "metadata": {},
   "outputs": [],
   "source": [
    "import librosa\n",
    "import os\n",
    "from statistics import mode\n",
    "from collections import Counter"
   ]
  },
  {
   "cell_type": "code",
   "execution_count": 2,
   "metadata": {},
   "outputs": [],
   "source": [
    "Word_PATH=\"./Word_Data/Word/\"\n",
    "Vowel_PATH=\"./Vowel_Data/Vowel/\""
   ]
  },
  {
   "cell_type": "code",
   "execution_count": 20,
   "metadata": {
    "scrolled": true
   },
   "outputs": [
    {
     "name": "stdout",
     "output_type": "stream",
     "text": [
      "Maximum: 35\n",
      "Minimum: 13\n"
     ]
    }
   ],
   "source": [
    "word_shape=[]\n",
    "for folder in os.listdir(Word_PATH):\n",
    "    for speech in os.listdir(Word_PATH+folder):\n",
    "        wave, sr= librosa.load(Word_PATH+folder+'/'+speech, mono=True, sr=None)\n",
    "        wave=wave[::2]\n",
    "        mfcc=librosa.feature.mfcc(wave,sr=sr)\n",
    "        word_shape.append(mfcc.shape[1])\n",
    "\n",
    "print('Maximum: '+ str(max(word_shape)))\n",
    "print('Minimum: '+ str(min(word_shape)))\n"
   ]
  },
  {
   "cell_type": "code",
   "execution_count": 4,
   "metadata": {},
   "outputs": [],
   "source": [
    "wave, sr= librosa.load(Word_PATH+'Word1/Word1_1.wav', mono=True, sr=None)\n",
    "wave=wave[::2]\n",
    "mfcc=librosa.feature.mfcc(wave,sr=sr)"
   ]
  },
  {
   "cell_type": "code",
   "execution_count": 21,
   "metadata": {},
   "outputs": [
    {
     "data": {
      "text/plain": [
       "[(23, 31),\n",
       " (21, 31),\n",
       " (25, 26),\n",
       " (19, 24),\n",
       " (22, 23),\n",
       " (26, 20),\n",
       " (20, 19),\n",
       " (24, 16),\n",
       " (17, 16),\n",
       " (27, 12),\n",
       " (18, 11),\n",
       " (28, 9),\n",
       " (15, 8),\n",
       " (29, 7),\n",
       " (32, 6),\n",
       " (16, 6),\n",
       " (30, 5),\n",
       " (14, 4),\n",
       " (34, 2),\n",
       " (31, 2),\n",
       " (13, 1),\n",
       " (35, 1)]"
      ]
     },
     "execution_count": 21,
     "metadata": {},
     "output_type": "execute_result"
    }
   ],
   "source": [
    "word_data = Counter(word_shape)\n",
    "word_data.most_common()   # Returns all unique items and their counts\n",
    "#word_data.most_common(1)  # Returns the highest occurring item"
   ]
  },
  {
   "cell_type": "code",
   "execution_count": 12,
   "metadata": {},
   "outputs": [
    {
     "name": "stdout",
     "output_type": "stream",
     "text": [
      "Maximum: 36\n",
      "Minimum: 5\n",
      "Mode: 17\n"
     ]
    }
   ],
   "source": [
    "vowel_shape=[]\n",
    "for folder in os.listdir(Vowel_PATH):\n",
    "    for speech in os.listdir(Vowel_PATH+folder):\n",
    "        wave, sr= librosa.load(Vowel_PATH+folder+'/'+speech, mono=True, sr=None)\n",
    "        wave=wave[::2]\n",
    "        mfcc=librosa.feature.mfcc(wave,sr=sr)\n",
    "        vowel_shape.append(mfcc.shape[1])\n",
    "        #print(mfcc.shape)\n",
    "\n",
    "print('Maximum: '+ str(max(vowel_shape)))\n",
    "print('Minimum: '+ str(min(vowel_shape)))\n",
    "print('Mode: '+ str(mode(vowel_shape)))"
   ]
  },
  {
   "cell_type": "code",
   "execution_count": 22,
   "metadata": {},
   "outputs": [
    {
     "data": {
      "text/plain": [
       "[(17, 43),\n",
       " (16, 30),\n",
       " (19, 26),\n",
       " (18, 25),\n",
       " (15, 22),\n",
       " (14, 18),\n",
       " (20, 17),\n",
       " (13, 13),\n",
       " (11, 11),\n",
       " (21, 11),\n",
       " (12, 11),\n",
       " (22, 9),\n",
       " (23, 8),\n",
       " (8, 5),\n",
       " (25, 4),\n",
       " (24, 4),\n",
       " (33, 4),\n",
       " (7, 3),\n",
       " (26, 3),\n",
       " (10, 2),\n",
       " (6, 2),\n",
       " (9, 2),\n",
       " (27, 2),\n",
       " (5, 1),\n",
       " (29, 1),\n",
       " (36, 1),\n",
       " (28, 1),\n",
       " (31, 1)]"
      ]
     },
     "execution_count": 22,
     "metadata": {},
     "output_type": "execute_result"
    }
   ],
   "source": [
    "vowel_data = Counter(vowel_shape)\n",
    "vowel_data.most_common()   # Returns all unique items and their counts\n",
    "#vowel_data.most_common(1)  # Returns the highest occurring item"
   ]
  }
 ],
 "metadata": {
  "kernelspec": {
   "display_name": "Python 3",
   "language": "python",
   "name": "python3"
  },
  "language_info": {
   "codemirror_mode": {
    "name": "ipython",
    "version": 3
   },
   "file_extension": ".py",
   "mimetype": "text/x-python",
   "name": "python",
   "nbconvert_exporter": "python",
   "pygments_lexer": "ipython3",
   "version": "3.8.3"
  }
 },
 "nbformat": 4,
 "nbformat_minor": 2
}
